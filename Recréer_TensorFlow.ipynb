{
  "nbformat": 4,
  "nbformat_minor": 0,
  "metadata": {
    "colab": {
      "provenance": [],
      "toc_visible": true,
      "gpuType": "T4",
      "authorship_tag": "ABX9TyP/QG+cyKZCPP1TqU9PrvTe",
      "include_colab_link": true
    },
    "kernelspec": {
      "name": "python3",
      "display_name": "Python 3"
    },
    "language_info": {
      "name": "python"
    }
  },
  "cells": [
    {
      "cell_type": "markdown",
      "metadata": {
        "id": "view-in-github",
        "colab_type": "text"
      },
      "source": [
        "<a href=\"https://colab.research.google.com/github/Thomas-D40/deep-learning/blob/main/Recr%C3%A9er_TensorFlow.ipynb\" target=\"_parent\"><img src=\"https://colab.research.google.com/assets/colab-badge.svg\" alt=\"Open In Colab\"/></a>"
      ]
    },
    {
      "cell_type": "markdown",
      "source": [
        "Dans l'algorithme qu'on a mis en place, on remarque la répétition d'un pattern:\n",
        "\n",
        "produit matriciel (W.X) -> ajout du biais -> fonction de non linéarité (sigmoide, reLu, ...)\n",
        "\n",
        "puis pour la prédiction, on fait produit matriciel, ajout du biais, prédiction et comparaison pour obtenir l'erreur\n",
        "\n",
        "\n",
        "Ainsi la combinaison: produit + biais + sigmoïde constitue une couche"
      ],
      "metadata": {
        "id": "hn35OEbl27m1"
      }
    },
    {
      "cell_type": "code",
      "execution_count": null,
      "metadata": {
        "id": "e-CdwT7ay9P4"
      },
      "outputs": [],
      "source": [
        "import numpy as np"
      ]
    },
    {
      "cell_type": "markdown",
      "source": [
        "# Boite générique"
      ],
      "metadata": {
        "id": "7UEQo_HoNpzM"
      }
    },
    {
      "cell_type": "code",
      "source": [
        "class Boite():\n",
        "  def __init__(self):\n",
        "    pass\n",
        "\n",
        "  def forward(self, input):\n",
        "    self.input = input\n",
        "    self.output = self.operation()\n",
        "    return self.output\n",
        "\n",
        "  def backward(self, derivee_output):\n",
        "    assert derivee_output.shape == self.output.shape, f\"La dérivée de output a un shape {derivee_output.shape} différent du shape de output {self.output.shape}\"\n",
        "\n",
        "    self.derivee_input = self.gradient(derivee_output)\n",
        "    assert self.derivee_input.shape == self.input.shape, f\"La dérivée de output a un shape {self.derivee_input.shape} différent du shape de output {self.input.shape}\"\n",
        "    return self.derivee_input\n",
        "\n",
        "  def gradient(self, derivee_output):\n",
        "    pass\n",
        "\n",
        "  def operation(self):\n",
        "    pass\n"
      ],
      "metadata": {
        "id": "fyE1PQa15o8E"
      },
      "execution_count": null,
      "outputs": []
    },
    {
      "cell_type": "markdown",
      "source": [
        "# Boite paramétrée"
      ],
      "metadata": {
        "id": "n6res88pNsiS"
      }
    },
    {
      "cell_type": "code",
      "source": [
        "class BoiteParam():\n",
        "  def __init__(self, param):\n",
        "    self.param = param\n",
        "\n",
        "  def forward(self, input):\n",
        "    self.input = input\n",
        "    self.output = self.operation()\n",
        "    return self.output\n",
        "\n",
        "  def backward(self, derivee_output):\n",
        "    assert derivee_output.shape == self.output.shape, f\"La dérivée de output a un shape {derivee_output.shape} différent du shape de output {self.output.shape}\"\n",
        "\n",
        "    self.derivee_input = self.gradient(derivee_output)\n",
        "    assert self.derivee_input.shape == self.input.shape, f\"La dérivée de input a un shape {self.derivee_input.shape} différent du shape de output {self.input.shape}\"\n",
        "\n",
        "    self.derivee_param = self.gradient_param(derivee_output)\n",
        "    assert self.derivee_param.shape == self.param.shape, f\"La dérivée de param a un shape {self.derivee_param.shape} différent du shape de param {self.param.shape}\"\n",
        "    return self.derivee_input\n",
        "\n",
        "  # Sert à la boucle de rétro-propagation\n",
        "  def gradient(self, derivee_output):\n",
        "    pass\n",
        "\n",
        "  def operation(self):\n",
        "    pass\n",
        "\n",
        "  # Permet d'update le param\n",
        "  def gradient_param(self, derivee_output):\n",
        "    pass"
      ],
      "metadata": {
        "id": "d0JcY6GB6b0S"
      },
      "execution_count": null,
      "outputs": []
    },
    {
      "cell_type": "markdown",
      "source": [
        "# La classe Dot (produit matriciel)"
      ],
      "metadata": {
        "id": "nNTkWrwt8ISb"
      }
    },
    {
      "cell_type": "code",
      "source": [
        "class Dot(BoiteParam):\n",
        "  def __init__(self, weights):\n",
        "    super().__init__(weights)\n",
        "\n",
        "  def operation(self):\n",
        "    return np.dot(self.input, self.param)\n",
        "\n",
        "  def gradient(self, derivee_output):\n",
        "    return np.dot(derivee_output, self.param.T)\n",
        "\n",
        "  def gradient_param(self, derivee_output):\n",
        "    return np.dot(self.input.T, derivee_output)\n",
        "\n",
        "  def __repr__(self):\n",
        "    return f\"Dot(params={self.param})\""
      ],
      "metadata": {
        "id": "H6JHTbui8Lzr"
      },
      "execution_count": null,
      "outputs": []
    },
    {
      "cell_type": "code",
      "source": [
        "X = np.array([[ 2,  3, -2],\n",
        "       [ 4,  5, -1],\n",
        "       [-5,  2,  3],\n",
        "       [ 0,  5,  4]])"
      ],
      "metadata": {
        "id": "OlKkokv19RYY"
      },
      "execution_count": null,
      "outputs": []
    },
    {
      "cell_type": "code",
      "source": [
        "W = np.array([[ 0.49671415],\n",
        " [-0.1382643 ],\n",
        " [ 0.64768854]])\n",
        "W.shape"
      ],
      "metadata": {
        "colab": {
          "base_uri": "https://localhost:8080/"
        },
        "id": "zQ-BkOwn9d2l",
        "outputId": "13c0a0bb-908f-476e-df7c-47bf22e9fcd8"
      },
      "execution_count": null,
      "outputs": [
        {
          "output_type": "execute_result",
          "data": {
            "text/plain": [
              "(3, 1)"
            ]
          },
          "metadata": {},
          "execution_count": 18
        }
      ]
    },
    {
      "cell_type": "code",
      "source": [
        "np.dot(X, W)"
      ],
      "metadata": {
        "colab": {
          "base_uri": "https://localhost:8080/"
        },
        "id": "UML_1g6F9kh-",
        "outputId": "645821e9-9bc1-4ab6-da16-aa9169c93080"
      },
      "execution_count": null,
      "outputs": [
        {
          "output_type": "execute_result",
          "data": {
            "text/plain": [
              "array([[-0.71674168],\n",
              "       [ 0.64784656],\n",
              "       [-0.81703373],\n",
              "       [ 1.89943266]])"
            ]
          },
          "metadata": {},
          "execution_count": 19
        }
      ]
    },
    {
      "cell_type": "code",
      "source": [
        "M = Dot(W)\n",
        "M1 = M.forward(X)"
      ],
      "metadata": {
        "id": "v3eh6jj49phC"
      },
      "execution_count": null,
      "outputs": []
    },
    {
      "cell_type": "code",
      "source": [
        "M"
      ],
      "metadata": {
        "colab": {
          "base_uri": "https://localhost:8080/"
        },
        "id": "AcPJ8hyt-G-Y",
        "outputId": "7794752e-0b2f-4dc9-8747-d4c7642beb8c"
      },
      "execution_count": null,
      "outputs": [
        {
          "output_type": "execute_result",
          "data": {
            "text/plain": [
              "Dot(params=[[ 0.49671415]\n",
              " [-0.1382643 ]\n",
              " [ 0.64768854]])"
            ]
          },
          "metadata": {},
          "execution_count": 21
        }
      ]
    },
    {
      "cell_type": "code",
      "source": [
        "M1"
      ],
      "metadata": {
        "colab": {
          "base_uri": "https://localhost:8080/"
        },
        "id": "KqB7WZ9qBSob",
        "outputId": "0d69a0f2-d18c-4f70-9718-c2c40bab0806"
      },
      "execution_count": null,
      "outputs": [
        {
          "output_type": "execute_result",
          "data": {
            "text/plain": [
              "array([[-0.71674168],\n",
              "       [ 0.64784656],\n",
              "       [-0.81703373],\n",
              "       [ 1.89943266]])"
            ]
          },
          "metadata": {},
          "execution_count": 22
        }
      ]
    },
    {
      "cell_type": "code",
      "source": [
        "d_out = np.random.randn(4,1)\n",
        "d_out"
      ],
      "metadata": {
        "colab": {
          "base_uri": "https://localhost:8080/"
        },
        "id": "tBAGNCzs-lGC",
        "outputId": "1dfd5396-3692-4e15-8708-a35c9b18cbc2"
      },
      "execution_count": null,
      "outputs": [
        {
          "output_type": "execute_result",
          "data": {
            "text/plain": [
              "array([[-0.53698189],\n",
              "       [ 0.54084971],\n",
              "       [ 0.80984894],\n",
              "       [-0.45864435]])"
            ]
          },
          "metadata": {},
          "execution_count": 23
        }
      ]
    },
    {
      "cell_type": "code",
      "source": [
        "M.backward(d_out)"
      ],
      "metadata": {
        "colab": {
          "base_uri": "https://localhost:8080/"
        },
        "id": "DvGetWEY-qSv",
        "outputId": "264ee9c5-cb70-421d-f8aa-3358bd051547"
      },
      "execution_count": null,
      "outputs": [
        {
          "output_type": "execute_result",
          "data": {
            "text/plain": [
              "array([[-0.2667265 ,  0.07424543, -0.34779702],\n",
              "       [ 0.2686477 , -0.07478021,  0.35030216],\n",
              "       [ 0.40226343, -0.1119732 ,  0.52452988],\n",
              "       [-0.22781514,  0.06341414, -0.29705869]])"
            ]
          },
          "metadata": {},
          "execution_count": 24
        }
      ]
    },
    {
      "cell_type": "markdown",
      "source": [
        "# La classe Add"
      ],
      "metadata": {
        "id": "r3Hwv1gj_z0w"
      }
    },
    {
      "cell_type": "code",
      "source": [
        "import numpy as np"
      ],
      "metadata": {
        "id": "ZjKYub5wA38N"
      },
      "execution_count": null,
      "outputs": []
    },
    {
      "cell_type": "code",
      "source": [
        "class Add(BoiteParam):\n",
        "  def __init__(self, biais):\n",
        "    super().__init__(biais)\n",
        "\n",
        "  def operation(self):\n",
        "    return self.input + self.param\n",
        "\n",
        "  def gradient(self, derivee_output):\n",
        "    return np.ones_like(self.input) * derivee_output\n",
        "\n",
        "  def gradient_param(self, derivee_output):\n",
        "    r = np.ones_like(self.param) * derivee_output\n",
        "    return r.sum(axis=0).reshape(1, self.param.shape[1])\n",
        "\n",
        "  def __repr__(self):\n",
        "    return f\"Add(params={self.param})\""
      ],
      "metadata": {
        "id": "czLQX94H_eFV"
      },
      "execution_count": null,
      "outputs": []
    },
    {
      "cell_type": "code",
      "source": [
        "B = np.random.randn(1,1)\n",
        "B"
      ],
      "metadata": {
        "colab": {
          "base_uri": "https://localhost:8080/"
        },
        "id": "LWmirvl7AxQ4",
        "outputId": "ebdb4b2e-9c88-45c5-88cf-a4b606a609a2"
      },
      "execution_count": null,
      "outputs": [
        {
          "output_type": "execute_result",
          "data": {
            "text/plain": [
              "array([[-1.05073527]])"
            ]
          },
          "metadata": {},
          "execution_count": 46
        }
      ]
    },
    {
      "cell_type": "code",
      "source": [
        "b = Add(biais=B)\n",
        "B1 = b.forward(M1)"
      ],
      "metadata": {
        "id": "Yw2T-FSgA924"
      },
      "execution_count": null,
      "outputs": []
    },
    {
      "cell_type": "code",
      "source": [
        "d_out = np.random.randn(4,1)"
      ],
      "metadata": {
        "id": "ztZjkOWXBhTI"
      },
      "execution_count": null,
      "outputs": []
    },
    {
      "cell_type": "code",
      "source": [
        "b.backward(d_out)"
      ],
      "metadata": {
        "colab": {
          "base_uri": "https://localhost:8080/"
        },
        "id": "NsxyEX44BmBh",
        "outputId": "07ef450d-a8d4-4885-9168-fb0c608457ba"
      },
      "execution_count": null,
      "outputs": [
        {
          "output_type": "execute_result",
          "data": {
            "text/plain": [
              "array([[ 1.66430004],\n",
              "       [-0.00440024],\n",
              "       [-1.21955515],\n",
              "       [ 0.66683853]])"
            ]
          },
          "metadata": {},
          "execution_count": 52
        }
      ]
    },
    {
      "cell_type": "markdown",
      "source": [
        "# La classe Sigmoide"
      ],
      "metadata": {
        "id": "Dx_nmG6sGMpB"
      }
    },
    {
      "cell_type": "code",
      "source": [
        "class Sigmoid(Boite):\n",
        "  def __init__(self):\n",
        "    super().__init__()\n",
        "\n",
        "  def operation(self):\n",
        "    return 1 / (1 + np.exp(-self.input))\n",
        "\n",
        "  def gradient(self, derivee_output):\n",
        "    return derivee_output * (1 - self.output) * self.output\n",
        "\n",
        "  def __repr__(self):\n",
        "    return f\"Sigmoid()\""
      ],
      "metadata": {
        "id": "_CEwLtXnGQ9S"
      },
      "execution_count": null,
      "outputs": []
    },
    {
      "cell_type": "code",
      "source": [
        "sig = Sigmoid()"
      ],
      "metadata": {
        "id": "rSApaFpcG2nV"
      },
      "execution_count": null,
      "outputs": []
    },
    {
      "cell_type": "code",
      "source": [
        "S1 = sig.forward(B1)"
      ],
      "metadata": {
        "id": "1esKtvVNG5aL"
      },
      "execution_count": null,
      "outputs": []
    },
    {
      "cell_type": "code",
      "source": [
        "sig.backward(d_out)"
      ],
      "metadata": {
        "colab": {
          "base_uri": "https://localhost:8080/"
        },
        "id": "EX1-3XHWG81Y",
        "outputId": "5681f929-47af-4dbd-8b3d-3e8936004ce0"
      },
      "execution_count": null,
      "outputs": [
        {
          "output_type": "execute_result",
          "data": {
            "text/plain": [
              "array([[ 0.20734232],\n",
              "       [-0.0010566 ],\n",
              "       [-0.14134354],\n",
              "       [ 0.13995766]])"
            ]
          },
          "metadata": {},
          "execution_count": 57
        }
      ]
    },
    {
      "cell_type": "markdown",
      "source": [
        "# La classe Loss"
      ],
      "metadata": {
        "id": "LldJ5WtEHOIY"
      }
    },
    {
      "cell_type": "code",
      "source": [
        "class Loss():\n",
        "\n",
        "  def __init__(self):\n",
        "    pass\n",
        "\n",
        "  def forward(self, prediction, target):\n",
        "    assert prediction.shape == target.shape, f\"Prediction shape {prediction.shape}  Target shape {target.shape}\"\n",
        "    self.prediction = prediction\n",
        "    self.target = target\n",
        "    loss = np.mean((self.target - self.prediction) ** 2)\n",
        "    return loss\n",
        "\n",
        "  def backward(self):\n",
        "\n",
        "    self.loss_derivee = -2 * (self.target - self.prediction)\n",
        "    assert self.loss_derivee.shape == self.prediction.shape, f\"La derivee du loss un shape {self.loss_derivee.shape } different du shape de Prediction : {self.prediction.shape}\"\n",
        "\n",
        "    return self.loss_derivee"
      ],
      "metadata": {
        "id": "jnPgydY0HM4x"
      },
      "execution_count": null,
      "outputs": []
    },
    {
      "cell_type": "code",
      "source": [
        "Y= np.random.randn(4,1)"
      ],
      "metadata": {
        "id": "ys9u_nZEH6Fn"
      },
      "execution_count": null,
      "outputs": []
    },
    {
      "cell_type": "code",
      "source": [
        "mse = Loss()"
      ],
      "metadata": {
        "id": "9aGBOpJRIAai"
      },
      "execution_count": null,
      "outputs": []
    },
    {
      "cell_type": "code",
      "source": [
        "mse.forward(S1, Y)"
      ],
      "metadata": {
        "colab": {
          "base_uri": "https://localhost:8080/"
        },
        "id": "pNML1HrqICod",
        "outputId": "5631ee01-c04d-4458-c9e6-4f50ffc84f0a"
      },
      "execution_count": null,
      "outputs": [
        {
          "output_type": "execute_result",
          "data": {
            "text/plain": [
              "1.1585946735756902"
            ]
          },
          "metadata": {},
          "execution_count": 62
        }
      ]
    },
    {
      "cell_type": "code",
      "source": [
        "mse.backward()"
      ],
      "metadata": {
        "colab": {
          "base_uri": "https://localhost:8080/"
        },
        "id": "zIYb9ATdIHMg",
        "outputId": "6eda34a7-525d-4888-ddb6-b6be0d11b696"
      },
      "execution_count": null,
      "outputs": [
        {
          "output_type": "execute_result",
          "data": {
            "text/plain": [
              "array([[ 3.47878311],\n",
              "       [ 2.20383692],\n",
              "       [-1.21439904],\n",
              "       [-0.32236724]])"
            ]
          },
          "metadata": {},
          "execution_count": 63
        }
      ]
    },
    {
      "cell_type": "markdown",
      "source": [
        "# La classe Dense\n",
        "\n",
        "Il s'agit d'une classe représentant une couche de neuronnes ou layers.\n",
        "Néanmoins le choix de dense vient du fait que chaque neuronne de la couche va recevoir l'intégralité des caractéristiques pour effectuer son propre calcul avec son W et générer son résultat"
      ],
      "metadata": {
        "id": "lIUp4L-gIsvz"
      }
    },
    {
      "cell_type": "code",
      "source": [
        "class Dense():\n",
        "  def __init__(self, neurons, activation=None):\n",
        "    self.neurons = neurons\n",
        "    self.activation = activation\n",
        "    self.params = []\n",
        "    self.suite = []\n",
        "    self.initialisation = False\n",
        "    self.derivee_params = []\n",
        "\n",
        "  def build(self, input):\n",
        "    # Weight initialisation\n",
        "    np.random.seed(42)\n",
        "\n",
        "    self.weight = np.random.randn(input.shape[1], self.neurons) # input.shape[1] permet de prendre le second élément du shape. Exemple: shape (1000,5) => 5\n",
        "    self.biais = np.random.randn(1, self.neurons)\n",
        "\n",
        "    self.params = [self.weight, self.biais]\n",
        "\n",
        "    # Construction de la suite d'opérations\n",
        "    self.suite = [Dot(self.params[0]), Add(self.params[1])]\n",
        "    if self.activation:\n",
        "      self.suite.append(self.activation)\n",
        "\n",
        "\n",
        "  def forward(self, input):\n",
        "    if self.initialisation is False:\n",
        "        self.build(input)\n",
        "        self.initialisation = True\n",
        "\n",
        "    for layer in self.suite:\n",
        "      input = layer.forward(input)\n",
        "\n",
        "    self.output = input\n",
        "    return self.output\n",
        "\n",
        "  def backward(self, derivee_output):\n",
        "    assert derivee_output.shape == self.output.shape, f\"La dérivée de output a un shape {derivee_output.shape} différent du shape de output {self.output.shape}\"\n",
        "    for layer in reversed(self.suite):\n",
        "      derivee_output = layer.backward(derivee_output)\n",
        "\n",
        "    self.derivee_input = derivee_output\n",
        "\n",
        "    self.get_layer_gradients()\n",
        "\n",
        "    return self.derivee_input\n",
        "\n",
        "  def get_layer_gradients(self):\n",
        "    self.derivee_params = []\n",
        "\n",
        "    for layer in self.suite:\n",
        "      if issubclass(layer.__class__, BoiteParam):\n",
        "        self.derivee_params.append(layer.derivee_param)\n",
        "\n",
        "\n",
        "\n",
        "  def __repr__(self):\n",
        "    r = f\"Dense(neurons={self.neurons}\"\n",
        "    if self.activation:\n",
        "      r += f\", activation={self.activation}\"\n",
        "    r += \")\"\n",
        "    return r\n",
        "\n",
        "\n"
      ],
      "metadata": {
        "id": "L72PCnOHIvvj"
      },
      "execution_count": null,
      "outputs": []
    },
    {
      "cell_type": "code",
      "source": [
        "sigmoid = Sigmoid()"
      ],
      "metadata": {
        "id": "U7Y0t1M1SCfy"
      },
      "execution_count": null,
      "outputs": []
    },
    {
      "cell_type": "code",
      "source": [
        "couche = Dense(3, sigmoid)\n",
        "couche"
      ],
      "metadata": {
        "colab": {
          "base_uri": "https://localhost:8080/"
        },
        "id": "qeegy6d5Mgc0",
        "outputId": "b8a3df87-ff0b-461e-a63a-685097381eb5"
      },
      "execution_count": null,
      "outputs": [
        {
          "output_type": "execute_result",
          "data": {
            "text/plain": [
              "Dense(neurons=3, activation=Sigmoid())"
            ]
          },
          "metadata": {},
          "execution_count": 124
        }
      ]
    },
    {
      "cell_type": "code",
      "source": [
        "couche.forward(X)"
      ],
      "metadata": {
        "colab": {
          "base_uri": "https://localhost:8080/"
        },
        "id": "iti_0VyJSSBi",
        "outputId": "e514f9d7-2dc2-4ddd-b8c8-91074f579dd4"
      },
      "execution_count": null,
      "outputs": [
        {
          "output_type": "execute_result",
          "data": {
            "text/plain": [
              "array([[0.95010503, 0.0484631 , 0.74387077],\n",
              "       [0.99980944, 0.04951595, 0.80593564],\n",
              "       [0.99710736, 0.88714466, 0.00375513],\n",
              "       [0.99999948, 0.80776527, 0.02890774]])"
            ]
          },
          "metadata": {},
          "execution_count": 125
        }
      ]
    },
    {
      "cell_type": "code",
      "source": [
        "d_out_2 = np.random.randn(4,3)"
      ],
      "metadata": {
        "id": "Itzht5dfStL6"
      },
      "execution_count": null,
      "outputs": []
    },
    {
      "cell_type": "code",
      "source": [
        "couche.backward(d_out_2)"
      ],
      "metadata": {
        "colab": {
          "base_uri": "https://localhost:8080/"
        },
        "id": "RywvbKW1ShOR",
        "outputId": "0fc27bc3-af67-405b-83b7-8f41bfc3d888"
      },
      "execution_count": null,
      "outputs": [
        {
          "output_type": "execute_result",
          "data": {
            "text/plain": [
              "array([[-0.19496212,  0.11507656,  0.10469318],\n",
              "       [ 0.03837104, -0.00050921, -0.05982562],\n",
              "       [ 0.02180077,  0.02783634, -0.11522417],\n",
              "       [-0.0273546 ,  0.00690899,  0.02682393]])"
            ]
          },
          "metadata": {},
          "execution_count": 127
        }
      ]
    },
    {
      "cell_type": "code",
      "source": [
        "couche.derivee_param"
      ],
      "metadata": {
        "colab": {
          "base_uri": "https://localhost:8080/"
        },
        "id": "dXdcG7f-TLhD",
        "outputId": "7694f650-beb5-4104-80ad-9d42cdf212aa"
      },
      "execution_count": null,
      "outputs": [
        {
          "output_type": "execute_result",
          "data": {
            "text/plain": [
              "[array([[ 0.03560711,  0.33986059, -0.4881048 ],\n",
              "        [ 0.02863679, -0.73339731, -0.92919593],\n",
              "        [-0.03069098, -0.15812445,  0.46460417]]),\n",
              " array([[ 0.0087441 , -0.26681046, -0.31400676]])]"
            ]
          },
          "metadata": {},
          "execution_count": 129
        }
      ]
    },
    {
      "cell_type": "markdown",
      "source": [
        "# Model\n",
        "\n",
        "Cette dernière sera constitué d'une liste de Couches / Layers / Dense"
      ],
      "metadata": {
        "id": "sToqLiuFDfif"
      }
    },
    {
      "cell_type": "code",
      "source": [
        "from copy import deepcopy\n",
        "\n",
        "class Model():\n",
        "  def __init__(self, layers):\n",
        "    self.layers = layers\n",
        "    self.compiled = False\n",
        "\n",
        "  def forward(self, input):\n",
        "    for layer in self.layers:\n",
        "      input = layer.forward(input)\n",
        "\n",
        "    self.output = input\n",
        "    return self.output\n",
        "\n",
        "  def backward(self, loss_derivee):\n",
        "    assert(loss_derivee.shape == self.output.shape), f\"La dérivée de loss un shape {loss_derivee.shape } different du shape de Prediction : {self.output.shape}\"\n",
        "\n",
        "    for layer in reversed(self.layers):\n",
        "      loss_derivee = layer.backward(loss_derivee)\n",
        "\n",
        "    self.loss_derivee = loss_derivee\n",
        "\n",
        "    return self.loss_derivee\n",
        "\n",
        "  def get_params(self):\n",
        "    for layer in self.layers:\n",
        "      yield from layer.params\n",
        "\n",
        "  def get_derivee_params(self):\n",
        "    for layer in self.layers:\n",
        "      yield from layer.derivee_params\n",
        "\n",
        "  def update(self):\n",
        "    # Quand on a deux listes [1,2,3] & [4,5,6] et que l'on souhaite faire des opérations sur les couples d'éléments\n",
        "    # en fonction de leur position, on peut faire une boucle for a, b in zip(list1,list2)\n",
        "    for param, derivee_param in zip(self.get_params(), self.get_derivee_params()):\n",
        "        param -= self.learning_rate * derivee_param\n",
        "\n",
        "  def compile(self, loss, learning_rate):\n",
        "    self.loss = loss\n",
        "    self.learning_rate = learning_rate\n",
        "    self.compiled = True\n",
        "\n",
        "  def fit(self, X, Y, epochs, validation_data=None):\n",
        "\n",
        "    if (validation_data):\n",
        "      assert len(validation_data) == 2\n",
        "      assert validation_data[0].shape[1] == X.shape[1]\n",
        "      assert validation_data[1].shape[1] == Y.shape[1]\n",
        "\n",
        "    self.history = {\"loss\": []}\n",
        "    if validation_data:\n",
        "      self.history[\"val_loss\"] = []\n",
        "\n",
        "    if self.compiled is False:\n",
        "      raise NotImplementedError(\"Absence de loss et/ou learning rate: Compilez\")\n",
        "\n",
        "    for epoch in range(epochs):\n",
        "      # forward\n",
        "      predictions = model.forward(X)\n",
        "      loss = self.loss.forward(predictions, Y)\n",
        "\n",
        "      log = f'Epoch {epoch + 1}... loss: {loss}'\n",
        "\n",
        "      if (validation_data):\n",
        "        #val_loss\n",
        "        val_predictions = self.forward(validation_data[0])\n",
        "        val_loss = self.loss.forward(val_predictions, validation_data[1])\n",
        "        log += f\" - val_loss: {val_loss}\"\n",
        "        self.history['val_loss'].append(val_loss)\n",
        "\n",
        "\n",
        "      self.history['loss'].append(loss)\n",
        "      print(log)\n",
        "\n",
        "      # backward\n",
        "      loss_derivee = self.loss.backward()\n",
        "      self.backward(loss_derivee)\n",
        "\n",
        "      #update\n",
        "      self.update()\n",
        "\n",
        "  def save_model(self, file):\n",
        "    model_saved = deepcopy(self)\n",
        "\n",
        "    import pickle\n",
        "    with open(file, \"wb\") as f:\n",
        "      pickle.dump(model_saved, f)\n",
        "    return model_saved\n",
        "\n",
        "  def __repr__(self):\n",
        "    r = \"Model(\\n\"\n",
        "    for layer in self.layers:\n",
        "      r += f\"  {layer},\\n\"\n",
        "    r += \")\"\n",
        "    return r"
      ],
      "metadata": {
        "id": "NIFeCX3dDiSP"
      },
      "execution_count": null,
      "outputs": []
    },
    {
      "cell_type": "code",
      "source": [
        "model = Model([Dense(neurons=3, activation=sigmoid), Dense(neurons=1)])"
      ],
      "metadata": {
        "id": "lyPYBRPdERGT"
      },
      "execution_count": null,
      "outputs": []
    },
    {
      "cell_type": "code",
      "source": [
        "model.forward(X)"
      ],
      "metadata": {
        "colab": {
          "base_uri": "https://localhost:8080/"
        },
        "id": "ThRFUuewFOP1",
        "outputId": "68004cb8-e0ac-480f-e328-f99461c35d9f"
      },
      "execution_count": null,
      "outputs": [
        {
          "output_type": "execute_result",
          "data": {
            "text/plain": [
              "array([[2.47005633],\n",
              "       [2.53479834],\n",
              "       [1.89807891],\n",
              "       [1.92678186]])"
            ]
          },
          "metadata": {},
          "execution_count": 169
        }
      ]
    },
    {
      "cell_type": "code",
      "source": [
        "loss_derivee = np.random.randn(4,1)"
      ],
      "metadata": {
        "id": "vQ3HDxkqFUaE"
      },
      "execution_count": null,
      "outputs": []
    },
    {
      "cell_type": "code",
      "source": [
        "model.backward(loss_derivee)"
      ],
      "metadata": {
        "colab": {
          "base_uri": "https://localhost:8080/"
        },
        "id": "TCzUV_DTFX0U",
        "outputId": "3c47a6a9-b143-4b14-e9cb-fc06000082d8"
      },
      "execution_count": null,
      "outputs": [
        {
          "output_type": "execute_result",
          "data": {
            "text/plain": [
              "array([[ 0.75179581,  0.06877772, -0.20839432],\n",
              "       [ 0.43077661, -0.1427145 , -0.33915957],\n",
              "       [ 0.00970781,  0.01123761, -0.02198122],\n",
              "       [ 0.03141557,  0.00164171, -0.05329121]])"
            ]
          },
          "metadata": {},
          "execution_count": 170
        }
      ]
    },
    {
      "cell_type": "markdown",
      "source": [
        "# Update des paramètres"
      ],
      "metadata": {
        "id": "zNF_M4alF8su"
      }
    },
    {
      "cell_type": "code",
      "source": [
        "for p in params:\n",
        "  params[p] = params[p] - learning_rate * grads[p]"
      ],
      "metadata": {
        "colab": {
          "base_uri": "https://localhost:8080/",
          "height": 159
        },
        "id": "M6ms5AylGDj9",
        "outputId": "b0b1acf2-10c0-44a7-e52a-6e474ec81214"
      },
      "execution_count": null,
      "outputs": [
        {
          "output_type": "error",
          "ename": "NameError",
          "evalue": "name 'params' is not defined",
          "traceback": [
            "\u001b[0;31m---------------------------------------------------------------------------\u001b[0m",
            "\u001b[0;31mNameError\u001b[0m                                 Traceback (most recent call last)",
            "\u001b[0;32m<ipython-input-149-1abbd98b3f46>\u001b[0m in \u001b[0;36m<cell line: 0>\u001b[0;34m()\u001b[0m\n\u001b[0;32m----> 1\u001b[0;31m \u001b[0;32mfor\u001b[0m \u001b[0mp\u001b[0m \u001b[0;32min\u001b[0m \u001b[0mparams\u001b[0m\u001b[0;34m:\u001b[0m\u001b[0;34m\u001b[0m\u001b[0;34m\u001b[0m\u001b[0m\n\u001b[0m\u001b[1;32m      2\u001b[0m   \u001b[0mparams\u001b[0m\u001b[0;34m[\u001b[0m\u001b[0mp\u001b[0m\u001b[0;34m]\u001b[0m \u001b[0;34m=\u001b[0m \u001b[0mparams\u001b[0m\u001b[0;34m[\u001b[0m\u001b[0mp\u001b[0m\u001b[0;34m]\u001b[0m \u001b[0;34m-\u001b[0m \u001b[0mlearning_rate\u001b[0m \u001b[0;34m*\u001b[0m \u001b[0mgrads\u001b[0m\u001b[0;34m[\u001b[0m\u001b[0mp\u001b[0m\u001b[0;34m]\u001b[0m\u001b[0;34m\u001b[0m\u001b[0;34m\u001b[0m\u001b[0m\n",
            "\u001b[0;31mNameError\u001b[0m: name 'params' is not defined"
          ]
        }
      ]
    },
    {
      "cell_type": "code",
      "source": [
        "M.derivee_input"
      ],
      "metadata": {
        "colab": {
          "base_uri": "https://localhost:8080/"
        },
        "id": "GA_9l6O7GcRP",
        "outputId": "ae406800-d22b-4b38-9c18-9be0eb3b8b8a"
      },
      "execution_count": null,
      "outputs": [
        {
          "output_type": "execute_result",
          "data": {
            "text/plain": [
              "array([[-0.2667265 ,  0.07424543, -0.34779702],\n",
              "       [ 0.2686477 , -0.07478021,  0.35030216],\n",
              "       [ 0.40226343, -0.1119732 ,  0.52452988],\n",
              "       [-0.22781514,  0.06341414, -0.29705869]])"
            ]
          },
          "metadata": {},
          "execution_count": 110
        }
      ]
    },
    {
      "cell_type": "code",
      "source": [
        "couche.derivee_param"
      ],
      "metadata": {
        "colab": {
          "base_uri": "https://localhost:8080/"
        },
        "id": "ZyTdIE56GeE4",
        "outputId": "5a2ac8a6-a506-44b5-8161-3b45ef5c9ed9"
      },
      "execution_count": null,
      "outputs": [
        {
          "output_type": "execute_result",
          "data": {
            "text/plain": [
              "[array([[ 0.03560711,  0.33986059, -0.4881048 ],\n",
              "        [ 0.02863679, -0.73339731, -0.92919593],\n",
              "        [-0.03069098, -0.15812445,  0.46460417]]),\n",
              " array([[ 0.0087441 , -0.26681046, -0.31400676]])]"
            ]
          },
          "metadata": {},
          "execution_count": 130
        }
      ]
    },
    {
      "cell_type": "code",
      "source": [
        "model.get_params()"
      ],
      "metadata": {
        "colab": {
          "base_uri": "https://localhost:8080/"
        },
        "id": "2OHQq8x5KaAn",
        "outputId": "5cdd0990-c038-4100-a4c7-05d54fa0cb7e"
      },
      "execution_count": null,
      "outputs": [
        {
          "output_type": "execute_result",
          "data": {
            "text/plain": [
              "[[array([[ 0.49671415, -0.1382643 ,  0.64768854],\n",
              "         [ 1.52302986, -0.23415337, -0.23413696],\n",
              "         [ 1.57921282,  0.76743473, -0.46947439]]),\n",
              "  array([[ 0.54256004, -0.46341769, -0.46572975]])],\n",
              " [array([[ 0.49671415],\n",
              "         [-0.1382643 ],\n",
              "         [ 0.64768854]]),\n",
              "  array([[1.52302986]])]]"
            ]
          },
          "metadata": {},
          "execution_count": 156
        }
      ]
    },
    {
      "cell_type": "code",
      "source": [
        "model.get_derivee_params()"
      ],
      "metadata": {
        "colab": {
          "base_uri": "https://localhost:8080/"
        },
        "id": "CQhnjOGpK7ca",
        "outputId": "050e8dca-b3ca-47c1-b219-39758c38b4cb"
      },
      "execution_count": null,
      "outputs": [
        {
          "output_type": "execute_result",
          "data": {
            "text/plain": [
              "[[array([[-0.02242822,  0.11838461, -0.17179535],\n",
              "         [-0.01212565, -0.11400805, -0.12785598],\n",
              "         [ 0.01783758, -0.13599864,  0.14880161]]),\n",
              "  array([[-0.00327309, -0.03532094, -0.03483333]])],\n",
              " [array([[ 1.88551641],\n",
              "         [ 1.99795603],\n",
              "         [-0.33476421]]),\n",
              "  array([[1.87835721]])]]"
            ]
          },
          "metadata": {},
          "execution_count": 157
        }
      ]
    },
    {
      "cell_type": "code",
      "source": [
        "model = Model([Dense(neurons=2, activation=sigmoid), Dense(neurons=1)])\n",
        "\n",
        "# Forward\n",
        "P = model.forward(X)\n",
        "mse = Loss()\n",
        "loss = mse.forward(P, Y)\n",
        "print(loss)\n",
        "loss_derivee = mse.backward()\n",
        "model.backward(loss_derivee)\n",
        "\n",
        "\n"
      ],
      "metadata": {
        "colab": {
          "base_uri": "https://localhost:8080/"
        },
        "id": "NI607PXhNrbh",
        "outputId": "a2b51f4e-6104-4ba6-e609-0f47fda97d75"
      },
      "execution_count": null,
      "outputs": [
        {
          "output_type": "stream",
          "name": "stdout",
          "text": [
            "2.4190226969585624\n"
          ]
        },
        {
          "output_type": "execute_result",
          "data": {
            "text/plain": [
              "array([[ 0.00904565,  0.00697401, -0.00341699],\n",
              "       [ 0.00075822,  0.00073575, -0.00031298],\n",
              "       [-0.00225069, -0.00274806,  0.00102818],\n",
              "       [ 0.00131933,  0.00168335, -0.00061544]])"
            ]
          },
          "metadata": {},
          "execution_count": 319
        }
      ]
    },
    {
      "cell_type": "code",
      "source": [
        "P"
      ],
      "metadata": {
        "colab": {
          "base_uri": "https://localhost:8080/"
        },
        "id": "BUwfRgjFRF3y",
        "outputId": "145888ad-a767-45a8-80b7-10751c07eb55"
      },
      "execution_count": null,
      "outputs": [
        {
          "output_type": "execute_result",
          "data": {
            "text/plain": [
              "array([[-3.21744502],\n",
              "       [-3.22879276],\n",
              "       [-2.67886602],\n",
              "       [-3.21025485]])"
            ]
          },
          "metadata": {},
          "execution_count": 224
        }
      ]
    },
    {
      "cell_type": "code",
      "source": [
        "model.update()\n",
        "\n",
        "# Forward\n",
        "P = model.forward(X)\n",
        "mse = Loss()\n",
        "loss = mse.forward(P, Y)\n",
        "print(loss)"
      ],
      "metadata": {
        "colab": {
          "base_uri": "https://localhost:8080/"
        },
        "id": "vDaTAjhRQUGD",
        "outputId": "07cf0055-1012-4826-d2ce-6eab25952bef"
      },
      "execution_count": null,
      "outputs": [
        {
          "output_type": "stream",
          "name": "stdout",
          "text": [
            "1.0961851280668777\n"
          ]
        }
      ]
    },
    {
      "cell_type": "markdown",
      "source": [
        "# Test de la fonction Fit"
      ],
      "metadata": {
        "id": "DqJgDq6SULT2"
      }
    },
    {
      "cell_type": "code",
      "source": [
        "model = Model([Dense(neurons=2, activation=sigmoid), Dense(neurons=1)])\n",
        "mse = Loss()\n",
        "model.compile(loss=mse, learning_rate=0.001)\n",
        "\n",
        "model.fit(X, Y, 10, validation_data=(X, Y))"
      ],
      "metadata": {
        "colab": {
          "base_uri": "https://localhost:8080/"
        },
        "id": "qSUyZXIrUJtX",
        "outputId": "85e5335a-d7ba-4921-e45a-d3c1c218e37c"
      },
      "execution_count": null,
      "outputs": [
        {
          "output_type": "stream",
          "name": "stdout",
          "text": [
            "Epoch 1... loss: 2.4190226969585624 - val_loss: 2.4190226969585624\n",
            "Epoch 2... loss: 2.361235373705194 - val_loss: 2.361235373705194\n",
            "Epoch 3... loss: 2.3059284996240508 - val_loss: 2.3059284996240508\n",
            "Epoch 4... loss: 2.2529942673007994 - val_loss: 2.2529942673007994\n",
            "Epoch 5... loss: 2.2023296734102074 - val_loss: 2.2023296734102074\n",
            "Epoch 6... loss: 2.1538362924945016 - val_loss: 2.1538362924945016\n",
            "Epoch 7... loss: 2.1074200625693047 - val_loss: 2.1074200625693047\n",
            "Epoch 8... loss: 2.0629910818298156 - val_loss: 2.0629910818298156\n",
            "Epoch 9... loss: 2.020463415784185 - val_loss: 2.020463415784185\n",
            "Epoch 10... loss: 1.979754914190517 - val_loss: 1.979754914190517\n"
          ]
        }
      ]
    },
    {
      "cell_type": "markdown",
      "source": [
        "# Comparaison TensorFlow"
      ],
      "metadata": {
        "id": "4TXMMPclU99s"
      }
    },
    {
      "cell_type": "code",
      "source": [
        "import tensorflow as tf\n",
        "from tensorflow.keras.models import Sequential\n",
        "from tensorflow.keras.layers import Dense\n",
        "from tensorflow.keras.optimizers import SGD\n",
        "\n",
        "lr = Sequential([Dense(2, activation='sigmoid'), Dense(1)]) # Ici, on indique qu'on fait une régression linéaire suivi d'une non-linéarité qu'on appelle \"relu\"\n",
        "lr.compile(optimizer=SGD(learning_rate=0.01), loss='mse')\n",
        "history = lr.fit(X, Y, epochs=10)"
      ],
      "metadata": {
        "colab": {
          "base_uri": "https://localhost:8080/"
        },
        "id": "lCWHzkvnVCIc",
        "outputId": "ad049eb5-f3ab-4ab3-a131-bf105fab3cd6"
      },
      "execution_count": null,
      "outputs": [
        {
          "output_type": "stream",
          "name": "stdout",
          "text": [
            "Epoch 1/10\n",
            "\u001b[1m1/1\u001b[0m \u001b[32m━━━━━━━━━━━━━━━━━━━━\u001b[0m\u001b[37m\u001b[0m \u001b[1m0s\u001b[0m 484ms/step - loss: 1.8460\n",
            "Epoch 2/10\n",
            "\u001b[1m1/1\u001b[0m \u001b[32m━━━━━━━━━━━━━━━━━━━━\u001b[0m\u001b[37m\u001b[0m \u001b[1m0s\u001b[0m 46ms/step - loss: 1.7943\n",
            "Epoch 3/10\n",
            "\u001b[1m1/1\u001b[0m \u001b[32m━━━━━━━━━━━━━━━━━━━━\u001b[0m\u001b[37m\u001b[0m \u001b[1m0s\u001b[0m 46ms/step - loss: 1.7423\n",
            "Epoch 4/10\n",
            "\u001b[1m1/1\u001b[0m \u001b[32m━━━━━━━━━━━━━━━━━━━━\u001b[0m\u001b[37m\u001b[0m \u001b[1m0s\u001b[0m 59ms/step - loss: 1.6901\n",
            "Epoch 5/10\n",
            "\u001b[1m1/1\u001b[0m \u001b[32m━━━━━━━━━━━━━━━━━━━━\u001b[0m\u001b[37m\u001b[0m \u001b[1m0s\u001b[0m 46ms/step - loss: 1.6379\n",
            "Epoch 6/10\n",
            "\u001b[1m1/1\u001b[0m \u001b[32m━━━━━━━━━━━━━━━━━━━━\u001b[0m\u001b[37m\u001b[0m \u001b[1m0s\u001b[0m 57ms/step - loss: 1.5858\n",
            "Epoch 7/10\n",
            "\u001b[1m1/1\u001b[0m \u001b[32m━━━━━━━━━━━━━━━━━━━━\u001b[0m\u001b[37m\u001b[0m \u001b[1m0s\u001b[0m 61ms/step - loss: 1.5340\n",
            "Epoch 8/10\n",
            "\u001b[1m1/1\u001b[0m \u001b[32m━━━━━━━━━━━━━━━━━━━━\u001b[0m\u001b[37m\u001b[0m \u001b[1m0s\u001b[0m 58ms/step - loss: 1.4828\n",
            "Epoch 9/10\n",
            "\u001b[1m1/1\u001b[0m \u001b[32m━━━━━━━━━━━━━━━━━━━━\u001b[0m\u001b[37m\u001b[0m \u001b[1m0s\u001b[0m 45ms/step - loss: 1.4324\n",
            "Epoch 10/10\n",
            "\u001b[1m1/1\u001b[0m \u001b[32m━━━━━━━━━━━━━━━━━━━━\u001b[0m\u001b[37m\u001b[0m \u001b[1m0s\u001b[0m 58ms/step - loss: 1.3830\n"
          ]
        }
      ]
    },
    {
      "cell_type": "markdown",
      "source": [
        "# Test de notre tensorFlow maison sur les données de Boston"
      ],
      "metadata": {
        "id": "6DmmKSz5Zi3R"
      }
    },
    {
      "cell_type": "code",
      "source": [
        "import pandas as pd\n",
        "import numpy as np\n",
        "\n",
        "data_url = \"https://lib.stat.cmu.edu/datasets/boston\"\n",
        "raw_df = pd.read_csv(data_url, sep=\"\\s+\", skiprows=22, header=None)\n",
        "data = np.hstack([raw_df.values[0::2, :], raw_df.values[1::2, :2]])\n",
        "target = raw_df.values[1::2, 2]\n",
        "\n",
        "\n",
        "# Scaling the data\n",
        "from sklearn.preprocessing import StandardScaler\n",
        "s = StandardScaler()\n",
        "data = s.fit_transform(data)\n",
        "target = target.reshape((-1,1))\n",
        "\n",
        "\n",
        "from sklearn.model_selection import train_test_split\n",
        "X_train, X_test, y_train, y_test = train_test_split(data, target, test_size=0.3, random_state=80718)"
      ],
      "metadata": {
        "id": "bvOKhNtbV9X8"
      },
      "execution_count": null,
      "outputs": []
    },
    {
      "cell_type": "markdown",
      "source": [
        "# Régression linéaire simple"
      ],
      "metadata": {
        "id": "MgmuewZDb7KT"
      }
    },
    {
      "cell_type": "code",
      "source": [
        "model = Model([Dense(neurons=1)])\n",
        "mse = Loss()\n",
        "model.compile(loss=mse, learning_rate=0.001)\n",
        "\n",
        "model.fit(X_train, y_train, 30, validation_data=(X_test, y_test))"
      ],
      "metadata": {
        "colab": {
          "base_uri": "https://localhost:8080/"
        },
        "id": "kzDOUre_ZnM_",
        "outputId": "5903cfdf-3ee3-45db-8b62-468b86b07aec"
      },
      "execution_count": null,
      "outputs": [
        {
          "output_type": "stream",
          "name": "stdout",
          "text": [
            "Epoch 1... loss: 712.6428214565543 - val_loss: 690.1012266714894\n",
            "Epoch 2... loss: 384.6067061207894 - val_loss: 354.5620227037463\n",
            "Epoch 3... loss: 203.17607886344868 - val_loss: 190.87699998613857\n",
            "Epoch 4... loss: 129.8854372736156 - val_loss: 109.61440143265463\n",
            "Epoch 5... loss: 75.4750866052943 - val_loss: 68.61422600292656\n",
            "Epoch 6... loss: 61.01405116983065 - val_loss: 47.56962178675052\n",
            "Epoch 7... loss: 41.401102465579584 - val_loss: 36.551189456267814\n",
            "Epoch 8... loss: 40.21867134089386 - val_loss: 30.643487989830945\n",
            "Epoch 9... loss: 31.61931060669679 - val_loss: 27.38417415335182\n",
            "Epoch 10... loss: 32.95826264341764 - val_loss: 25.523989638374474\n",
            "Epoch 11... loss: 28.552297953823984 - val_loss: 24.419928431436126\n",
            "Epoch 12... loss: 29.977546662090358 - val_loss: 23.73545808898344\n",
            "Epoch 13... loss: 27.488196501032757 - val_loss: 23.291004429972688\n",
            "Epoch 14... loss: 28.559623198517112 - val_loss: 22.988592287122678\n",
            "Epoch 15... loss: 27.07412327095996 - val_loss: 22.773405029787114\n",
            "Epoch 16... loss: 27.803454096208835 - val_loss: 22.613904353018096\n",
            "Epoch 17... loss: 26.88911658932717 - val_loss: 22.49138560316123\n",
            "Epoch 18... loss: 27.364862853841903 - val_loss: 22.394391814481878\n",
            "Epoch 19... loss: 26.790675000376126 - val_loss: 22.31566661413258\n",
            "Epoch 20... loss: 27.093174435219574 - val_loss: 22.250455873457284\n",
            "Epoch 21... loss: 26.726666968202444 - val_loss: 22.195539079298765\n",
            "Epoch 22... loss: 26.91468369237931 - val_loss: 22.148663410819232\n",
            "Epoch 23... loss: 26.67678928698838 - val_loss: 22.10820477901875\n",
            "Epoch 24... loss: 26.790336197333122 - val_loss: 22.072959610876364\n",
            "Epoch 25... loss: 26.632785346873636 - val_loss: 22.042013652970258\n",
            "Epoch 26... loss: 26.698292077890905 - val_loss: 22.01465717893277\n",
            "Epoch 27... loss: 26.59122630631602 - val_loss: 21.99032878989556\n",
            "Epoch 28... loss: 26.625899234170877 - val_loss: 21.96857723042704\n",
            "Epoch 29... loss: 26.550700626743943 - val_loss: 21.94903480908396\n",
            "Epoch 30... loss: 26.56566086997926 - val_loss: 21.93139845971532\n"
          ]
        }
      ]
    },
    {
      "cell_type": "code",
      "source": [
        "import matplotlib.pyplot as plt\n",
        "\n",
        "def plot_learning_curve(history):\n",
        "  plt.plot(history['loss'])\n",
        "  plt.plot(history['val_loss'])\n",
        "  plt.title('model loss')\n",
        "  plt.ylabel('loss')\n",
        "  plt.xlabel('epoch')\n",
        "  plt.legend(['train', 'test'], loc='upper right')\n",
        "\n",
        "plot_learning_curve(model.history)\n",
        "\n"
      ],
      "metadata": {
        "colab": {
          "base_uri": "https://localhost:8080/",
          "height": 472
        },
        "id": "bgEIqhdncYuP",
        "outputId": "435ca3d9-48c8-4be4-b8f0-428b07bab2b2"
      },
      "execution_count": null,
      "outputs": [
        {
          "output_type": "display_data",
          "data": {
            "text/plain": [
              "<Figure size 640x480 with 1 Axes>"
            ],
            "image/png": "[encoded data removed]"
          },
          "metadata": {}
        }
      ]
    },
    {
      "cell_type": "markdown",
      "source": [
        "# Réseau de neuronnes simple"
      ],
      "metadata": {
        "id": "LZ-xFQePeSUk"
      }
    },
    {
      "cell_type": "code",
      "source": [
        "sigmoid = Sigmoid()\n",
        "model = Model([Dense(neurons=3, activation=sigmoid), Dense(neurons=1)])\n",
        "mse = Loss()\n",
        "model.compile(loss=mse, learning_rate=0.001)\n",
        "\n",
        "model.fit(X_train, y_train, 150, validation_data=(X_test, y_test))"
      ],
      "metadata": {
        "colab": {
          "base_uri": "https://localhost:8080/"
        },
        "id": "ZtwdOj01eU0G",
        "outputId": "9d2af2f0-72f5-4de1-8b94-0fc3b994e6e9"
      },
      "execution_count": null,
      "outputs": [
        {
          "output_type": "stream",
          "name": "stdout",
          "text": [
            "Epoch 1... loss: 508.91224748785964 - val_loss: 492.67186829783213\n",
            "Epoch 2... loss: 137.38140465767262 - val_loss: 135.78255841378223\n",
            "Epoch 3... loss: 58.09006555713163 - val_loss: 64.8010463550256\n",
            "Epoch 4... loss: 47.61559936226534 - val_loss: 55.11818769534138\n",
            "Epoch 5... loss: 42.56496739754174 - val_loss: 48.156141690887274\n",
            "Epoch 6... loss: 38.61640401696442 - val_loss: 42.80636493269119\n",
            "Epoch 7... loss: 35.78384493778803 - val_loss: 37.94238804713059\n",
            "Epoch 8... loss: 34.74412067853009 - val_loss: 36.89560671942957\n",
            "Epoch 9... loss: 39.22353213648677 - val_loss: 41.524839423947995\n",
            "Epoch 10... loss: 34.37956478770616 - val_loss: 35.879023810029175\n",
            "Epoch 11... loss: 38.9139017759205 - val_loss: 39.70779845178775\n",
            "Epoch 12... loss: 31.43737018464002 - val_loss: 32.2476291848375\n",
            "Epoch 13... loss: 32.91579547799913 - val_loss: 31.572868881112065\n",
            "Epoch 14... loss: 29.119571262416624 - val_loss: 28.841441878629595\n",
            "Epoch 15... loss: 30.70157693156555 - val_loss: 28.546850481021526\n",
            "Epoch 16... loss: 27.713217741835077 - val_loss: 26.6137722770002\n",
            "Epoch 17... loss: 29.83207140028684 - val_loss: 26.845278669025713\n",
            "Epoch 18... loss: 26.871036652122623 - val_loss: 24.98350795111791\n",
            "Epoch 19... loss: 29.438919337934344 - val_loss: 25.682485957706398\n",
            "Epoch 20... loss: 25.967510021510517 - val_loss: 23.260344426188237\n",
            "Epoch 21... loss: 27.911282483115553 - val_loss: 23.6900269719889\n",
            "Epoch 22... loss: 24.749143744465886 - val_loss: 21.388555785833507\n",
            "Epoch 23... loss: 25.825416124584976 - val_loss: 21.537984815354594\n",
            "Epoch 24... loss: 23.72529691166187 - val_loss: 19.88516262048913\n",
            "Epoch 25... loss: 24.67021916278446 - val_loss: 20.397445166760892\n",
            "Epoch 26... loss: 23.43004518590617 - val_loss: 19.28969249009948\n",
            "Epoch 27... loss: 25.452835939279176 - val_loss: 21.099625715276403\n",
            "Epoch 28... loss: 23.844015387887904 - val_loss: 19.494656795609473\n",
            "Epoch 29... loss: 27.17011764814208 - val_loss: 22.292684874886575\n",
            "Epoch 30... loss: 23.679205446400168 - val_loss: 18.890148931035288\n",
            "Epoch 31... loss: 25.650040854973838 - val_loss: 20.453228593102764\n",
            "Epoch 32... loss: 22.751650580928132 - val_loss: 17.692852705355072\n",
            "Epoch 33... loss: 23.432706659735587 - val_loss: 18.35712756374086\n",
            "Epoch 34... loss: 21.883738555475905 - val_loss: 16.640515016442148\n",
            "Epoch 35... loss: 22.11238732136586 - val_loss: 17.13074004416568\n",
            "Epoch 36... loss: 21.589903899029043 - val_loss: 16.19170448630362\n",
            "Epoch 37... loss: 21.81701837226122 - val_loss: 16.915753791971333\n",
            "Epoch 38... loss: 21.700457587059482 - val_loss: 16.11143995887093\n",
            "Epoch 39... loss: 21.989491900512945 - val_loss: 17.046504183000465\n",
            "Epoch 40... loss: 21.823127343101323 - val_loss: 16.00749148647186\n",
            "Epoch 41... loss: 21.938448745899258 - val_loss: 16.842738805929965\n",
            "Epoch 42... loss: 21.711697306199646 - val_loss: 15.679740000796961\n",
            "Epoch 43... loss: 21.519843871941845 - val_loss: 16.29053248540853\n",
            "Epoch 44... loss: 21.46662452699844 - val_loss: 15.258311134555123\n",
            "Epoch 45... loss: 21.064219550773625 - val_loss: 15.759086775097497\n",
            "Epoch 46... loss: 21.276700374954597 - val_loss: 14.902626890577075\n",
            "Epoch 47... loss: 20.76152508129521 - val_loss: 15.38998784458745\n",
            "Epoch 48... loss: 21.191277185581733 - val_loss: 14.64662824641253\n",
            "Epoch 49... loss: 20.60175658207697 - val_loss: 15.147832122083802\n",
            "Epoch 50... loss: 21.171034049462502 - val_loss: 14.453016952113968\n",
            "Epoch 51... loss: 20.513612067311623 - val_loss: 14.957559773128244\n",
            "Epoch 52... loss: 21.169336165216873 - val_loss: 14.28177136988687\n",
            "Epoch 53... loss: 20.444613908807646 - val_loss: 14.770116137660981\n",
            "Epoch 54... loss: 21.161460576339998 - val_loss: 14.113475165723072\n",
            "Epoch 55... loss: 20.37655040983571 - val_loss: 14.574474620405734\n",
            "Epoch 56... loss: 21.145886033102308 - val_loss: 13.948650135996374\n",
            "Epoch 57... loss: 20.31371673526977 - val_loss: 14.38439800514079\n",
            "Epoch 58... loss: 21.133559541757492 - val_loss: 13.797435798977329\n",
            "Epoch 59... loss: 20.26628992868286 - val_loss: 14.219663679862142\n",
            "Epoch 60... loss: 21.13633955711097 - val_loss: 13.669704263596534\n",
            "Epoch 61... loss: 20.24045801629199 - val_loss: 14.093498798365994\n",
            "Epoch 62... loss: 21.160280403186423 - val_loss: 13.569792398914089\n",
            "Epoch 63... loss: 20.236143908458956 - val_loss: 14.00804689331702\n",
            "Epoch 64... loss: 21.204225995249967 - val_loss: 13.49564551357912\n",
            "Epoch 65... loss: 20.24852954885369 - val_loss: 13.95581415655021\n",
            "Epoch 66... loss: 21.26194870957286 - val_loss: 13.440768206765977\n",
            "Epoch 67... loss: 20.270502816507314 - val_loss: 13.924418047313225\n",
            "Epoch 68... loss: 21.325825012124863 - val_loss: 13.397414057743712\n",
            "Epoch 69... loss: 20.295175854478913 - val_loss: 13.902196696363088\n",
            "Epoch 70... loss: 21.390283497655172 - val_loss: 13.359616335698101\n",
            "Epoch 71... loss: 20.317956664179317 - val_loss: 13.882356911990499\n",
            "Epoch 72... loss: 21.45360258941693 - val_loss: 13.32480893817668\n",
            "Epoch 73... loss: 20.337292283873953 - val_loss: 13.863973929944228\n",
            "Epoch 74... loss: 21.51757920816793 - val_loss: 13.293532140396358\n",
            "Epoch 75... loss: 20.353864185363125 - val_loss: 13.85004568836375\n",
            "Epoch 76... loss: 21.585857238373087 - val_loss: 13.267881106723042\n",
            "Epoch 77... loss: 20.36910813951303 - val_loss: 13.844513629304892\n",
            "Epoch 78... loss: 21.662238776376547 - val_loss: 13.249884776635959\n",
            "Epoch 79... loss: 20.38411500659046 - val_loss: 13.850128519277646\n",
            "Epoch 80... loss: 21.749794403567932 - val_loss: 13.240564014947287\n",
            "Epoch 81... loss: 20.399354819359857 - val_loss: 13.867774887083472\n",
            "Epoch 82... loss: 21.850680299664997 - val_loss: 13.239650946879058\n",
            "Epoch 83... loss: 20.415075884087074 - val_loss: 13.896708466109711\n",
            "Epoch 84... loss: 21.965865344464405 - val_loss: 13.245471155098892\n",
            "Epoch 85... loss: 20.431909162536236 - val_loss: 13.934652911263186\n",
            "Epoch 86... loss: 22.09372000202044 - val_loss: 13.254498973627594\n",
            "Epoch 87... loss: 20.450854653057657 - val_loss: 13.976733115605986\n",
            "Epoch 88... loss: 22.227244486833083 - val_loss: 13.260726527422415\n",
            "Epoch 89... loss: 20.47155620224021 - val_loss: 14.013241906074034\n",
            "Epoch 90... loss: 22.352809299656048 - val_loss: 13.256272933086029\n",
            "Epoch 91... loss: 20.48964130183286 - val_loss: 14.029880449919824\n",
            "Epoch 92... loss: 22.45552857342656 - val_loss: 13.23489000940446\n",
            "Epoch 93... loss: 20.498230712610983 - val_loss: 14.016165842558818\n",
            "Epoch 94... loss: 22.528164591408075 - val_loss: 13.195939480349287\n",
            "Epoch 95... loss: 20.493974217815538 - val_loss: 13.97399450535935\n",
            "Epoch 96... loss: 22.572572396944267 - val_loss: 13.143661380554484\n",
            "Epoch 97... loss: 20.478268738568975 - val_loss: 13.912383530143337\n",
            "Epoch 98... loss: 22.594618358781698 - val_loss: 13.083242233100014\n",
            "Epoch 99... loss: 20.454368702901355 - val_loss: 13.839868436596566\n",
            "Epoch 100... loss: 22.599945807367224 - val_loss: 13.018513324732634\n",
            "Epoch 101... loss: 20.42496657091734 - val_loss: 13.761864211337388\n",
            "Epoch 102... loss: 22.59279239512346 - val_loss: 12.951912916302982\n",
            "Epoch 103... loss: 20.391946494143106 - val_loss: 13.681912195091687\n",
            "Epoch 104... loss: 22.57604618477525 - val_loss: 12.885030572508125\n",
            "Epoch 105... loss: 20.356300737746892 - val_loss: 13.60212154192525\n",
            "Epoch 106... loss: 22.551717107961036 - val_loss: 12.81900749153674\n",
            "Epoch 107... loss: 20.318665039129698 - val_loss: 13.524279583913355\n",
            "Epoch 108... loss: 22.521107876867823 - val_loss: 12.75467695395632\n",
            "Epoch 109... loss: 20.27907661742736 - val_loss: 13.449257196703053\n",
            "Epoch 110... loss: 22.485100710857438 - val_loss: 12.692641860898442\n",
            "Epoch 111... loss: 20.23751902383108 - val_loss: 13.378022801094493\n",
            "Epoch 112... loss: 22.444089839430816 - val_loss: 12.63325060960652\n",
            "Epoch 113... loss: 20.193418707612867 - val_loss: 13.310514871487968\n",
            "Epoch 114... loss: 22.398184173588565 - val_loss: 12.576626927688867\n",
            "Epoch 115... loss: 20.146323282885017 - val_loss: 13.247056408884236\n",
            "Epoch 116... loss: 22.347044725164753 - val_loss: 12.522621620441388\n",
            "Epoch 117... loss: 20.095161410402937 - val_loss: 13.186706257339765\n",
            "Epoch 118... loss: 22.290115520955982 - val_loss: 12.470857858026188\n",
            "Epoch 119... loss: 20.039135373602434 - val_loss: 13.12924121818098\n",
            "Epoch 120... loss: 22.226446239488997 - val_loss: 12.420672233372374\n",
            "Epoch 121... loss: 19.976753192019515 - val_loss: 13.07287040601451\n",
            "Epoch 122... loss: 22.15500206533172 - val_loss: 12.371172969568466\n",
            "Epoch 123... loss: 19.907003332329865 - val_loss: 13.016868771537709\n",
            "Epoch 124... loss: 22.074545055945293 - val_loss: 12.321161300667853\n",
            "Epoch 125... loss: 19.828235771912915 - val_loss: 12.958599184947627\n",
            "Epoch 126... loss: 21.984100830941053 - val_loss: 12.269223465345894\n",
            "Epoch 127... loss: 19.7397444890992 - val_loss: 12.8968953188475\n",
            "Epoch 128... loss: 21.883067718043332 - val_loss: 12.213724008414932\n",
            "Epoch 129... loss: 19.640725734483876 - val_loss: 12.828624598152478\n",
            "Epoch 130... loss: 21.771972997683076 - val_loss: 12.153115301239175\n",
            "Epoch 131... loss: 19.532388534871984 - val_loss: 12.753050066811639\n",
            "Epoch 132... loss: 21.65290828426974 - val_loss: 12.086291380562873\n",
            "Epoch 133... loss: 19.417042002760553 - val_loss: 12.66851899167945\n",
            "Epoch 134... loss: 21.530190574582072 - val_loss: 12.013284820545211\n",
            "Epoch 135... loss: 19.299961189186625 - val_loss: 12.577489983406348\n",
            "Epoch 136... loss: 21.410181816353827 - val_loss: 11.935719360282866\n",
            "Epoch 137... loss: 19.18735740210348 - val_loss: 12.48280384012038\n",
            "Epoch 138... loss: 21.300249026500083 - val_loss: 11.856793607169868\n",
            "Epoch 139... loss: 19.086227942940834 - val_loss: 12.390758770152791\n",
            "Epoch 140... loss: 21.206962827625638 - val_loss: 11.780394830891524\n",
            "Epoch 141... loss: 19.001304937784038 - val_loss: 12.305836987841252\n",
            "Epoch 142... loss: 21.134204803274923 - val_loss: 11.709851326454402\n",
            "Epoch 143... loss: 18.93500786095592 - val_loss: 12.232016292773208\n",
            "Epoch 144... loss: 21.082659283791024 - val_loss: 11.647104643950241\n",
            "Epoch 145... loss: 18.88676702334594 - val_loss: 12.169818064116265\n",
            "Epoch 146... loss: 21.050168834939544 - val_loss: 11.592595976358671\n",
            "Epoch 147... loss: 18.854521509280612 - val_loss: 12.11867528924879\n",
            "Epoch 148... loss: 21.033165479749098 - val_loss: 11.5457464272638\n",
            "Epoch 149... loss: 18.835267408579554 - val_loss: 12.076543622050082\n",
            "Epoch 150... loss: 21.027660212102514 - val_loss: 11.505441475638913\n"
          ]
        }
      ]
    },
    {
      "cell_type": "code",
      "source": [
        "model.history"
      ],
      "metadata": {
        "colab": {
          "base_uri": "https://localhost:8080/"
        },
        "id": "R-ja-Kvne64P",
        "outputId": "019725c2-4302-407e-d0ff-dc30303cb1a0"
      },
      "execution_count": null,
      "outputs": [
        {
          "output_type": "execute_result",
          "data": {
            "text/plain": [
              "{'loss': [508.91224748785964,\n",
              "  137.38140465767262,\n",
              "  58.09006555713163,\n",
              "  47.61559936226534,\n",
              "  42.56496739754174,\n",
              "  38.61640401696442,\n",
              "  35.78384493778803,\n",
              "  34.74412067853009,\n",
              "  39.22353213648677,\n",
              "  34.37956478770616,\n",
              "  38.9139017759205,\n",
              "  31.43737018464002,\n",
              "  32.91579547799913,\n",
              "  29.119571262416624,\n",
              "  30.70157693156555,\n",
              "  27.713217741835077,\n",
              "  29.83207140028684,\n",
              "  26.871036652122623,\n",
              "  29.438919337934344,\n",
              "  25.967510021510517,\n",
              "  27.911282483115553,\n",
              "  24.749143744465886,\n",
              "  25.825416124584976,\n",
              "  23.72529691166187,\n",
              "  24.67021916278446,\n",
              "  23.43004518590617,\n",
              "  25.452835939279176,\n",
              "  23.844015387887904,\n",
              "  27.17011764814208,\n",
              "  23.679205446400168,\n",
              "  25.650040854973838,\n",
              "  22.751650580928132,\n",
              "  23.432706659735587,\n",
              "  21.883738555475905,\n",
              "  22.11238732136586,\n",
              "  21.589903899029043,\n",
              "  21.81701837226122,\n",
              "  21.700457587059482,\n",
              "  21.989491900512945,\n",
              "  21.823127343101323,\n",
              "  21.938448745899258,\n",
              "  21.711697306199646,\n",
              "  21.519843871941845,\n",
              "  21.46662452699844,\n",
              "  21.064219550773625,\n",
              "  21.276700374954597,\n",
              "  20.76152508129521,\n",
              "  21.191277185581733,\n",
              "  20.60175658207697,\n",
              "  21.171034049462502,\n",
              "  20.513612067311623,\n",
              "  21.169336165216873,\n",
              "  20.444613908807646,\n",
              "  21.161460576339998,\n",
              "  20.37655040983571,\n",
              "  21.145886033102308,\n",
              "  20.31371673526977,\n",
              "  21.133559541757492,\n",
              "  20.26628992868286,\n",
              "  21.13633955711097,\n",
              "  20.24045801629199,\n",
              "  21.160280403186423,\n",
              "  20.236143908458956,\n",
              "  21.204225995249967,\n",
              "  20.24852954885369,\n",
              "  21.26194870957286,\n",
              "  20.270502816507314,\n",
              "  21.325825012124863,\n",
              "  20.295175854478913,\n",
              "  21.390283497655172,\n",
              "  20.317956664179317,\n",
              "  21.45360258941693,\n",
              "  20.337292283873953,\n",
              "  21.51757920816793,\n",
              "  20.353864185363125,\n",
              "  21.585857238373087,\n",
              "  20.36910813951303,\n",
              "  21.662238776376547,\n",
              "  20.38411500659046,\n",
              "  21.749794403567932,\n",
              "  20.399354819359857,\n",
              "  21.850680299664997,\n",
              "  20.415075884087074,\n",
              "  21.965865344464405,\n",
              "  20.431909162536236,\n",
              "  22.09372000202044,\n",
              "  20.450854653057657,\n",
              "  22.227244486833083,\n",
              "  20.47155620224021,\n",
              "  22.352809299656048,\n",
              "  20.48964130183286,\n",
              "  22.45552857342656,\n",
              "  20.498230712610983,\n",
              "  22.528164591408075,\n",
              "  20.493974217815538,\n",
              "  22.572572396944267,\n",
              "  20.478268738568975,\n",
              "  22.594618358781698,\n",
              "  20.454368702901355,\n",
              "  22.599945807367224,\n",
              "  20.42496657091734,\n",
              "  22.59279239512346,\n",
              "  20.391946494143106,\n",
              "  22.57604618477525,\n",
              "  20.356300737746892,\n",
              "  22.551717107961036,\n",
              "  20.318665039129698,\n",
              "  22.521107876867823,\n",
              "  20.27907661742736,\n",
              "  22.485100710857438,\n",
              "  20.23751902383108,\n",
              "  22.444089839430816,\n",
              "  20.193418707612867,\n",
              "  22.398184173588565,\n",
              "  20.146323282885017,\n",
              "  22.347044725164753,\n",
              "  20.095161410402937,\n",
              "  22.290115520955982,\n",
              "  20.039135373602434,\n",
              "  22.226446239488997,\n",
              "  19.976753192019515,\n",
              "  22.15500206533172,\n",
              "  19.907003332329865,\n",
              "  22.074545055945293,\n",
              "  19.828235771912915,\n",
              "  21.984100830941053,\n",
              "  19.7397444890992,\n",
              "  21.883067718043332,\n",
              "  19.640725734483876,\n",
              "  21.771972997683076,\n",
              "  19.532388534871984,\n",
              "  21.65290828426974,\n",
              "  19.417042002760553,\n",
              "  21.530190574582072,\n",
              "  19.299961189186625,\n",
              "  21.410181816353827,\n",
              "  19.18735740210348,\n",
              "  21.300249026500083,\n",
              "  19.086227942940834,\n",
              "  21.206962827625638,\n",
              "  19.001304937784038,\n",
              "  21.134204803274923,\n",
              "  18.93500786095592,\n",
              "  21.082659283791024,\n",
              "  18.88676702334594,\n",
              "  21.050168834939544,\n",
              "  18.854521509280612,\n",
              "  21.033165479749098,\n",
              "  18.835267408579554,\n",
              "  21.027660212102514],\n",
              " 'val_loss': [492.67186829783213,\n",
              "  135.78255841378223,\n",
              "  64.8010463550256,\n",
              "  55.11818769534138,\n",
              "  48.156141690887274,\n",
              "  42.80636493269119,\n",
              "  37.94238804713059,\n",
              "  36.89560671942957,\n",
              "  41.524839423947995,\n",
              "  35.879023810029175,\n",
              "  39.70779845178775,\n",
              "  32.2476291848375,\n",
              "  31.572868881112065,\n",
              "  28.841441878629595,\n",
              "  28.546850481021526,\n",
              "  26.6137722770002,\n",
              "  26.845278669025713,\n",
              "  24.98350795111791,\n",
              "  25.682485957706398,\n",
              "  23.260344426188237,\n",
              "  23.6900269719889,\n",
              "  21.388555785833507,\n",
              "  21.537984815354594,\n",
              "  19.88516262048913,\n",
              "  20.397445166760892,\n",
              "  19.28969249009948,\n",
              "  21.099625715276403,\n",
              "  19.494656795609473,\n",
              "  22.292684874886575,\n",
              "  18.890148931035288,\n",
              "  20.453228593102764,\n",
              "  17.692852705355072,\n",
              "  18.35712756374086,\n",
              "  16.640515016442148,\n",
              "  17.13074004416568,\n",
              "  16.19170448630362,\n",
              "  16.915753791971333,\n",
              "  16.11143995887093,\n",
              "  17.046504183000465,\n",
              "  16.00749148647186,\n",
              "  16.842738805929965,\n",
              "  15.679740000796961,\n",
              "  16.29053248540853,\n",
              "  15.258311134555123,\n",
              "  15.759086775097497,\n",
              "  14.902626890577075,\n",
              "  15.38998784458745,\n",
              "  14.64662824641253,\n",
              "  15.147832122083802,\n",
              "  14.453016952113968,\n",
              "  14.957559773128244,\n",
              "  14.28177136988687,\n",
              "  14.770116137660981,\n",
              "  14.113475165723072,\n",
              "  14.574474620405734,\n",
              "  13.948650135996374,\n",
              "  14.38439800514079,\n",
              "  13.797435798977329,\n",
              "  14.219663679862142,\n",
              "  13.669704263596534,\n",
              "  14.093498798365994,\n",
              "  13.569792398914089,\n",
              "  14.00804689331702,\n",
              "  13.49564551357912,\n",
              "  13.95581415655021,\n",
              "  13.440768206765977,\n",
              "  13.924418047313225,\n",
              "  13.397414057743712,\n",
              "  13.902196696363088,\n",
              "  13.359616335698101,\n",
              "  13.882356911990499,\n",
              "  13.32480893817668,\n",
              "  13.863973929944228,\n",
              "  13.293532140396358,\n",
              "  13.85004568836375,\n",
              "  13.267881106723042,\n",
              "  13.844513629304892,\n",
              "  13.249884776635959,\n",
              "  13.850128519277646,\n",
              "  13.240564014947287,\n",
              "  13.867774887083472,\n",
              "  13.239650946879058,\n",
              "  13.896708466109711,\n",
              "  13.245471155098892,\n",
              "  13.934652911263186,\n",
              "  13.254498973627594,\n",
              "  13.976733115605986,\n",
              "  13.260726527422415,\n",
              "  14.013241906074034,\n",
              "  13.256272933086029,\n",
              "  14.029880449919824,\n",
              "  13.23489000940446,\n",
              "  14.016165842558818,\n",
              "  13.195939480349287,\n",
              "  13.97399450535935,\n",
              "  13.143661380554484,\n",
              "  13.912383530143337,\n",
              "  13.083242233100014,\n",
              "  13.839868436596566,\n",
              "  13.018513324732634,\n",
              "  13.761864211337388,\n",
              "  12.951912916302982,\n",
              "  13.681912195091687,\n",
              "  12.885030572508125,\n",
              "  13.60212154192525,\n",
              "  12.81900749153674,\n",
              "  13.524279583913355,\n",
              "  12.75467695395632,\n",
              "  13.449257196703053,\n",
              "  12.692641860898442,\n",
              "  13.378022801094493,\n",
              "  12.63325060960652,\n",
              "  13.310514871487968,\n",
              "  12.576626927688867,\n",
              "  13.247056408884236,\n",
              "  12.522621620441388,\n",
              "  13.186706257339765,\n",
              "  12.470857858026188,\n",
              "  13.12924121818098,\n",
              "  12.420672233372374,\n",
              "  13.07287040601451,\n",
              "  12.371172969568466,\n",
              "  13.016868771537709,\n",
              "  12.321161300667853,\n",
              "  12.958599184947627,\n",
              "  12.269223465345894,\n",
              "  12.8968953188475,\n",
              "  12.213724008414932,\n",
              "  12.828624598152478,\n",
              "  12.153115301239175,\n",
              "  12.753050066811639,\n",
              "  12.086291380562873,\n",
              "  12.66851899167945,\n",
              "  12.013284820545211,\n",
              "  12.577489983406348,\n",
              "  11.935719360282866,\n",
              "  12.48280384012038,\n",
              "  11.856793607169868,\n",
              "  12.390758770152791,\n",
              "  11.780394830891524,\n",
              "  12.305836987841252,\n",
              "  11.709851326454402,\n",
              "  12.232016292773208,\n",
              "  11.647104643950241,\n",
              "  12.169818064116265,\n",
              "  11.592595976358671,\n",
              "  12.11867528924879,\n",
              "  11.5457464272638,\n",
              "  12.076543622050082,\n",
              "  11.505441475638913]}"
            ]
          },
          "metadata": {},
          "execution_count": 407
        }
      ]
    },
    {
      "cell_type": "code",
      "source": [
        "plot_learning_curve(model.history)"
      ],
      "metadata": {
        "colab": {
          "base_uri": "https://localhost:8080/",
          "height": 472
        },
        "id": "_4m3Lq3SekCy",
        "outputId": "fb6b9c9f-5970-4c12-f893-7147e586523f"
      },
      "execution_count": null,
      "outputs": [
        {
          "output_type": "display_data",
          "data": {
            "text/plain": [
              "<Figure size 640x480 with 1 Axes>"
            ],
            "image/png": "[encoded data removed]"
          },
          "metadata": {}
        }
      ]
    },
    {
      "cell_type": "markdown",
      "source": [
        "# Deep Neural Network"
      ],
      "metadata": {
        "id": "HkNrZk5cg7-E"
      }
    },
    {
      "cell_type": "code",
      "source": [
        "sigmoid = Sigmoid()\n",
        "model = Model([\n",
        "    Dense(neurons=13, activation=sigmoid),\n",
        "    Dense(neurons=1)\n",
        "    ])\n",
        "mse = Loss()\n",
        "model.compile(loss=mse, learning_rate=0.0001)\n",
        "\n",
        "model.fit(X_train, y_train, 150, validation_data=(X_test, y_test))"
      ],
      "metadata": {
        "colab": {
          "base_uri": "https://localhost:8080/"
        },
        "id": "k_EqdN04g-nG",
        "outputId": "ccb8399d-9e79-4bab-e676-4dfae16c399d"
      },
      "execution_count": null,
      "outputs": [
        {
          "output_type": "stream",
          "name": "stdout",
          "text": [
            "Epoch 1... loss: 610.896601804464 - val_loss: 593.0093191051104\n",
            "Epoch 2... loss: 476.7263688486979 - val_loss: 462.53453186232235\n",
            "Epoch 3... loss: 374.49315155204584 - val_loss: 363.59853096114017\n",
            "Epoch 4... loss: 295.2869351438448 - val_loss: 287.339669735567\n",
            "Epoch 5... loss: 233.6227059349568 - val_loss: 228.3410275679773\n",
            "Epoch 6... loss: 185.82537431743373 - val_loss: 182.97425245132246\n",
            "Epoch 7... loss: 149.17284075942626 - val_loss: 148.49777751706102\n",
            "Epoch 8... loss: 121.44200202078713 - val_loss: 122.64115507856712\n",
            "Epoch 9... loss: 100.71908888172976 - val_loss: 103.45344051491342\n",
            "Epoch 10... loss: 85.3614410871093 - val_loss: 89.27493887597569\n",
            "Epoch 11... loss: 74.01287257568117 - val_loss: 78.75316738603973\n",
            "Epoch 12... loss: 65.60810719410529 - val_loss: 70.84986739562248\n",
            "Epoch 13... loss: 59.3474631470467 - val_loss: 64.81944526343489\n",
            "Epoch 14... loss: 54.64823490424348 - val_loss: 60.15389129576038\n",
            "Epoch 15... loss: 51.087584451417705 - val_loss: 56.503897320630166\n",
            "Epoch 16... loss: 48.354436394720004 - val_loss: 53.61108490319061\n",
            "Epoch 17... loss: 46.21877551487233 - val_loss: 51.27529005541504\n",
            "Epoch 18... loss: 44.5129559124711 - val_loss: 49.344371290974955\n",
            "Epoch 19... loss: 43.117428847144716 - val_loss: 47.70752218943835\n",
            "Epoch 20... loss: 41.94835504845217 - val_loss: 46.286700518313665\n",
            "Epoch 21... loss: 40.9473737871767 - val_loss: 45.02787430079687\n",
            "Epoch 22... loss: 40.073817900076065 - val_loss: 43.89376230975647\n",
            "Epoch 23... loss: 39.299131421674375 - val_loss: 42.85846225833569\n",
            "Epoch 24... loss: 38.603005338946126 - val_loss: 41.90370359663761\n",
            "Epoch 25... loss: 37.970752985461736 - val_loss: 41.016313300257075\n",
            "Epoch 26... loss: 37.391543218261106 - val_loss: 40.18653084141902\n",
            "Epoch 27... loss: 36.857214017498166 - val_loss: 39.40689833518434\n",
            "Epoch 28... loss: 36.361474383087135 - val_loss: 38.671532778726124\n",
            "Epoch 29... loss: 35.89936480623535 - val_loss: 37.97564894102764\n",
            "Epoch 30... loss: 35.46688991772057 - val_loss: 37.31524540039045\n",
            "Epoch 31... loss: 35.06076612151162 - val_loss: 36.686896449640145\n",
            "Epoch 32... loss: 34.678246397902505 - val_loss: 36.08761285502863\n",
            "Epoch 33... loss: 34.31699722294608 - val_loss: 35.51474777103381\n",
            "Epoch 34... loss: 33.9750109478976 - val_loss: 34.965932720459946\n",
            "Epoch 35... loss: 33.650542516766784 - val_loss: 34.43903403346985\n",
            "Epoch 36... loss: 33.34206305487075 - val_loss: 33.932123570070175\n",
            "Epoch 37... loss: 33.048225275339426 - val_loss: 33.443459618362944\n",
            "Epoch 38... loss: 32.76783724178723 - val_loss: 32.97147499938274\n",
            "Epoch 39... loss: 32.499842071812196 - val_loss: 32.51476990249242\n",
            "Epoch 40... loss: 32.243301857586175 - val_loss: 32.07210704930963\n",
            "Epoch 41... loss: 31.997384551023508 - val_loss: 31.642406682204925\n",
            "Epoch 42... loss: 31.761352908432386 - val_loss: 31.224738896628256\n",
            "Epoch 43... loss: 31.534554876129686 - val_loss: 30.81831132105072\n",
            "Epoch 44... loss: 31.31641504736212 - val_loss: 30.422451355930253\n",
            "Epoch 45... loss: 31.10642700731181 - val_loss: 30.03658412669365\n",
            "Epoch 46... loss: 30.904146439977325 - val_loss: 29.660209603435664\n",
            "Epoch 47... loss: 30.709184722127247 - val_loss: 29.292884229557075\n",
            "Epoch 48... loss: 30.521202349638045 - val_loss: 28.934212975250915\n",
            "Epoch 49... loss: 30.339901019663593 - val_loss: 28.58385629339283\n",
            "Epoch 50... loss: 30.165012770097036 - val_loss: 28.241552806238055\n",
            "Epoch 51... loss: 29.99628463218139 - val_loss: 27.90715312776004\n",
            "Epoch 52... loss: 29.83345818880637 - val_loss: 27.58065421996097\n",
            "Epoch 53... loss: 29.676245450300016 - val_loss: 27.26221921839003\n",
            "Epoch 54... loss: 29.524305203978233 - val_loss: 26.95216764160863\n",
            "Epoch 55... loss: 29.377226297155694 - val_loss: 26.650927702032607\n",
            "Epoch 56... loss: 29.23452449831107 - val_loss: 26.358955463724165\n",
            "Epoch 57... loss: 29.095656554565895 - val_loss: 26.076639617542966\n",
            "Epoch 58... loss: 28.960049578246647 - val_loss: 25.804217863846542\n",
            "Epoch 59... loss: 28.82713860381514 - val_loss: 25.541726566409057\n",
            "Epoch 60... loss: 28.69640288663777 - val_loss: 25.28899201232878\n",
            "Epoch 61... loss: 28.56739316978696 - val_loss: 25.04565718740751\n",
            "Epoch 62... loss: 28.439746256166206 - val_loss: 24.811229471659654\n",
            "Epoch 63... loss: 28.313187392636905 - val_loss: 24.58513389681907\n",
            "Epoch 64... loss: 28.187523570258744 - val_loss: 24.36676093176259\n",
            "Epoch 65... loss: 28.062631584670008 - val_loss: 24.155503385131823\n",
            "Epoch 66... loss: 27.93844417167993 - val_loss: 23.950781456573957\n",
            "Epoch 67... loss: 27.814936495030565 - val_loss: 23.75205749252924\n",
            "Epoch 68... loss: 27.69211424538701 - val_loss: 23.558842935355425\n",
            "Epoch 69... loss: 27.57000384590991 - val_loss: 23.370699930794373\n",
            "Epoch 70... loss: 27.44864478332269 - val_loss: 23.187239613243335\n",
            "Epoch 71... loss: 27.32808383651918 - val_loss: 23.008118548155338\n",
            "Epoch 72... loss: 27.208370880189698 - val_loss: 22.833034330882995\n",
            "Epoch 73... loss: 27.089555933615685 - val_loss: 22.661720971027133\n",
            "Epoch 74... loss: 26.97168715982869 - val_loss: 22.49394442927517\n",
            "Epoch 75... loss: 26.854809570673638 - val_loss: 22.329498499362735\n",
            "Epoch 76... loss: 26.738964244488898 - val_loss: 22.168201117760216\n",
            "Epoch 77... loss: 26.624187908501753 - val_loss: 22.009891117905653\n",
            "Epoch 78... loss: 26.510512775440564 - val_loss: 21.854425409098194\n",
            "Epoch 79... loss: 26.397966553317897 - val_loss: 21.70167654183353\n",
            "Epoch 80... loss: 26.28657256983802 - val_loss: 21.551530614210083\n",
            "Epoch 81... loss: 26.176349969703445 - val_loss: 21.40388547338065\n",
            "Epoch 82... loss: 26.067313955475633 - val_loss: 21.258649168910587\n",
            "Epoch 83... loss: 25.959476051643993 - val_loss: 21.115738619503226\n",
            "Epoch 84... loss: 25.85284437803057 - val_loss: 20.97507845977105\n",
            "Epoch 85... loss: 25.74742392326775 - val_loss: 20.836600038931024\n",
            "Epoch 86... loss: 25.643216812334302 - val_loss: 20.700240548132385\n",
            "Epoch 87... loss: 25.540222564394572 - val_loss: 20.56594225740906\n",
            "Epoch 88... loss: 25.438438338732364 - val_loss: 20.433651846911875\n",
            "Epoch 89... loss: 25.337859167609086 - val_loss: 20.30331982011218\n",
            "Epoch 90... loss: 25.23847817555322 - val_loss: 20.17489998910593\n",
            "Epoch 91... loss: 25.140286785016805 - val_loss: 20.04834902404021\n",
            "Epoch 92... loss: 25.043274908593578 - val_loss: 19.923626060101373\n",
            "Epoch 93... loss: 24.947431128142217 - val_loss: 19.800692356519548\n",
            "Epoch 94... loss: 24.852742861238504 - val_loss: 19.67951100273798\n",
            "Epoch 95... loss: 24.759196515421525 - val_loss: 19.560046667344597\n",
            "Epoch 96... loss: 24.66677763071931 - val_loss: 19.442265385638706\n",
            "Epoch 97... loss: 24.575471010952782 - val_loss: 19.326134381872873\n",
            "Epoch 98... loss: 24.485260844327094 - val_loss: 19.21162192232179\n",
            "Epoch 99... loss: 24.396130813831096 - val_loss: 19.098697195428283\n",
            "Epoch 100... loss: 24.308064197977764 - val_loss: 18.987330215392806\n",
            "Epoch 101... loss: 24.221043962430507 - val_loss: 18.877491745723685\n",
            "Epoch 102... loss: 24.135052843069662 - val_loss: 18.769153239461424\n",
            "Epoch 103... loss: 24.050073421059743 - val_loss: 18.662286793031072\n",
            "Epoch 104... loss: 23.966088190478725 - val_loss: 18.55686511095615\n",
            "Epoch 105... loss: 23.883079619065306 - val_loss: 18.45286147897699\n",
            "Epoch 106... loss: 23.801030202628784 - val_loss: 18.35024974344247\n",
            "Epoch 107... loss: 23.719922513648527 - val_loss: 18.249004295175492\n",
            "Epoch 108... loss: 23.63973924456671 - val_loss: 18.149100056336877\n",
            "Epoch 109... loss: 23.560463246250002 - val_loss: 18.050512469119116\n",
            "Epoch 110... loss: 23.48207756206419 - val_loss: 17.95321748538346\n",
            "Epoch 111... loss: 23.404565457971113 - val_loss: 17.85719155660387\n",
            "Epoch 112... loss: 23.32791044902101 - val_loss: 17.762411623696888\n",
            "Epoch 113... loss: 23.25209632257693 - val_loss: 17.66885510649586\n",
            "Epoch 114... loss: 23.177107158571076 - val_loss: 17.57649989277047\n",
            "Epoch 115... loss: 23.1029273470581 - val_loss: 17.485324326801784\n",
            "Epoch 116... loss: 23.029541603297105 - val_loss: 17.395307197600165\n",
            "Epoch 117... loss: 22.956934980563453 - val_loss: 17.306427726903163\n",
            "Epoch 118... loss: 22.88509288086416 - val_loss: 17.218665557117\n",
            "Epoch 119... loss: 22.814001063706502 - val_loss: 17.132000739372106\n",
            "Epoch 120... loss: 22.743645653048727 - val_loss: 17.04641372185581\n",
            "Epoch 121... loss: 22.674013142545117 - val_loss: 16.961885338566418\n",
            "Epoch 122... loss: 22.605090399183805 - val_loss: 16.878396798607476\n",
            "Epoch 123... loss: 22.536864665405883 - val_loss: 16.79592967611123\n",
            "Epoch 124... loss: 22.469323559786766 - val_loss: 16.714465900849476\n",
            "Epoch 125... loss: 22.402455076356485 - val_loss: 16.63398774955978\n",
            "Epoch 126... loss: 22.336247582632826 - val_loss: 16.554477837987534\n",
            "Epoch 127... loss: 22.27068981644091 - val_loss: 16.475919113620304\n",
            "Epoch 128... loss: 22.2057708815931 - val_loss: 16.398294849071004\n",
            "Epoch 129... loss: 22.141480242505025 - val_loss: 16.321588636051477\n",
            "Epoch 130... loss: 22.0778077178253 - val_loss: 16.245784379867246\n",
            "Epoch 131... loss: 22.01474347315899 - val_loss: 16.170866294358017\n",
            "Epoch 132... loss: 21.952278012966858 - val_loss: 16.09681889720629\n",
            "Epoch 133... loss: 21.890402171724354 - val_loss: 16.02362700553714\n",
            "Epoch 134... loss: 21.829107104425326 - val_loss: 15.951275731736587\n",
            "Epoch 135... loss: 21.768384276516358 - val_loss: 15.879750479421533\n",
            "Epoch 136... loss: 21.708225453347026 - val_loss: 15.809036939502041\n",
            "Epoch 137... loss: 21.648622689220794 - val_loss: 15.73912108628547\n",
            "Epoch 138... loss: 21.589568316129363 - val_loss: 15.669989173580916\n",
            "Epoch 139... loss: 21.531054932250765 - val_loss: 15.60162773077165\n",
            "Epoch 140... loss: 21.473075390288372 - val_loss: 15.534023558832185\n",
            "Epoch 141... loss: 21.415622785724267 - val_loss: 15.467163726274952\n",
            "Epoch 142... loss: 21.358690445055892 - val_loss: 15.401035565018871\n",
            "Epoch 143... loss: 21.30227191408044 - val_loss: 15.335626666178996\n",
            "Epoch 144... loss: 21.246360946286096 - val_loss: 15.270924875781594\n",
            "Epoch 145... loss: 21.1909514914041 - val_loss: 15.20691829041373\n",
            "Epoch 146... loss: 21.136037684170162 - val_loss: 15.143595252819702\n",
            "Epoch 147... loss: 21.08161383333816 - val_loss: 15.08094434745909\n",
            "Epoch 148... loss: 21.027674410983796 - val_loss: 15.018954396042725\n",
            "Epoch 149... loss: 20.974214042130487 - val_loss: 14.957614453063211\n",
            "Epoch 150... loss: 20.921227494724615 - val_loss: 14.89691380133695\n"
          ]
        }
      ]
    },
    {
      "cell_type": "code",
      "source": [
        "plot_learning_curve(model.history)"
      ],
      "metadata": {
        "colab": {
          "base_uri": "https://localhost:8080/",
          "height": 472
        },
        "id": "u7k-GIubiISQ",
        "outputId": "1c71709b-9c1d-46cc-8651-4a15a23f94b0"
      },
      "execution_count": null,
      "outputs": [
        {
          "output_type": "display_data",
          "data": {
            "text/plain": [
              "<Figure size 640x480 with 1 Axes>"
            ],
            "image/png": "[encoded data removed]"
          },
          "metadata": {}
        }
      ]
    },
    {
      "cell_type": "markdown",
      "source": [
        "# Sauvegarder le modèle"
      ],
      "metadata": {
        "id": "JriX8OlliP4x"
      }
    },
    {
      "cell_type": "code",
      "source": [
        "model.save_model(\"model.file\")"
      ],
      "metadata": {
        "colab": {
          "base_uri": "https://localhost:8080/"
        },
        "id": "y78sgFIRis2K",
        "outputId": "69930d53-8876-4e1f-fb4c-0d93ed00143b"
      },
      "execution_count": null,
      "outputs": [
        {
          "output_type": "execute_result",
          "data": {
            "text/plain": [
              "Model(\n",
              "  Dense(neurons=13, activation=Sigmoid()),\n",
              "  Dense(neurons=1),\n",
              ")"
            ]
          },
          "metadata": {},
          "execution_count": 423
        }
      ]
    },
    {
      "cell_type": "code",
      "source": [
        "import pickle\n",
        "\n",
        "def load_model(file):\n",
        "  with open(file, \"rb\") as f:\n",
        "    model_loaded = pickle.load(f)\n",
        "  return model_loaded"
      ],
      "metadata": {
        "id": "3Pz5LRpwjiQw"
      },
      "execution_count": null,
      "outputs": []
    },
    {
      "cell_type": "code",
      "source": [
        "model_charge = load_model(\"model.file\")"
      ],
      "metadata": {
        "id": "yVcRH-Nnjt98"
      },
      "execution_count": null,
      "outputs": []
    },
    {
      "cell_type": "code",
      "source": [],
      "metadata": {
        "id": "YRBxMjABj0ED"
      },
      "execution_count": null,
      "outputs": []
    }
  ]
}