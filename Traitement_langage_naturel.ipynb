{
  "cells": [
    {
      "cell_type": "markdown",
      "metadata": {
        "id": "view-in-github",
        "colab_type": "text"
      },
      "source": [
        "<a href=\"https://colab.research.google.com/github/Thomas-D40/deep-learning/blob/main/Traitement_langage_naturel.ipynb\" target=\"_parent\"><img src=\"https://colab.research.google.com/assets/colab-badge.svg\" alt=\"Open In Colab\"/></a>"
      ]
    },
    {
      "cell_type": "markdown",
      "metadata": {
        "id": "cw9sf_f0oBvE"
      },
      "source": [
        "Le NLP (Natural Language Processing) inclus tout ce qui est lié à la voix ou du texte.\n",
        "\n",
        "Cela passe par exemple par:\n",
        "- reconnaissance vocal\n",
        "- chatbot\n",
        "- classification\n",
        "- topic modeling\n",
        "- generation\n",
        "- extraction information\n",
        "- NER: Name Entity Recognition"
      ]
    },
    {
      "cell_type": "markdown",
      "source": [
        "# Exploration IMDB Dataset"
      ],
      "metadata": {
        "id": "HXyli7_6uMPe"
      }
    },
    {
      "cell_type": "code",
      "execution_count": null,
      "metadata": {
        "id": "K4VyAhBDn0PK"
      },
      "outputs": [],
      "source": [
        "import tensorflow as tf\n",
        "\n",
        "import tensorflow_datasets as tf_ds"
      ]
    },
    {
      "cell_type": "code",
      "execution_count": null,
      "metadata": {
        "id": "m2AgeQNrsj6A"
      },
      "outputs": [],
      "source": [
        "train_data = tf_ds.as_numpy(tf_ds.load(\"imdb_reviews\", split=\"train\"))\n",
        "test_data = tf_ds.as_numpy(tf_ds.load(\"imdb_reviews\", split=\"test\"))"
      ]
    },
    {
      "cell_type": "code",
      "execution_count": null,
      "metadata": {
        "id": "aNXQBK-_sxK4"
      },
      "outputs": [],
      "source": [
        "imdb_sentences = []\n",
        "imdb_labels = []\n",
        "\n",
        "for item in train_data:\n",
        "  imdb_sentences.append(str(item['text']))\n",
        "  imdb_labels.append(str(item['label']))"
      ]
    },
    {
      "cell_type": "code",
      "source": [
        "len(imdb_sentences)"
      ],
      "metadata": {
        "colab": {
          "base_uri": "https://localhost:8080/"
        },
        "id": "pQphNmSptadF",
        "outputId": "0dcfb98a-16b8-4390-ab80-81221280dbc1"
      },
      "execution_count": null,
      "outputs": [
        {
          "output_type": "execute_result",
          "data": {
            "text/plain": [
              "25000"
            ]
          },
          "metadata": {},
          "execution_count": 115
        }
      ]
    },
    {
      "cell_type": "code",
      "source": [
        "training_sentences = imdb_sentences[:20000]\n",
        "test_sentences = imdb_sentences[20000:]\n",
        "\n",
        "training_labels = np.array(imdb_labels[:20000]).astype(int)\n",
        "test_labels = np.array(imdb_labels[20000:]).astype(int)"
      ],
      "metadata": {
        "id": "Aa3T7OUatqkX"
      },
      "execution_count": null,
      "outputs": []
    },
    {
      "cell_type": "code",
      "source": [
        "np.sum(training_labels == 0)"
      ],
      "metadata": {
        "colab": {
          "base_uri": "https://localhost:8080/"
        },
        "id": "6AJenFVGrZaE",
        "outputId": "3f34ddf1-8071-4867-b2a4-8def1855b8b9"
      },
      "execution_count": null,
      "outputs": [
        {
          "output_type": "execute_result",
          "data": {
            "text/plain": [
              "10031"
            ]
          },
          "metadata": {},
          "execution_count": 125
        }
      ]
    },
    {
      "cell_type": "markdown",
      "source": [
        "# La Tokenisation\n",
        "\n",
        "L'objectif est de pouvoir passer d'un texte à un ensemble de vecteurs."
      ],
      "metadata": {
        "id": "GqO-0F4FvsGk"
      }
    },
    {
      "cell_type": "code",
      "source": [
        "phrase = \"Je suis au marché\""
      ],
      "metadata": {
        "id": "GuQWNFnQuJCI"
      },
      "execution_count": null,
      "outputs": []
    },
    {
      "cell_type": "code",
      "source": [
        "phrase.split(\" \")"
      ],
      "metadata": {
        "colab": {
          "base_uri": "https://localhost:8080/"
        },
        "id": "bisxOJ0Uv8kZ",
        "outputId": "ac5085c2-09cb-490f-cde3-8f75aaf33731"
      },
      "execution_count": null,
      "outputs": [
        {
          "output_type": "execute_result",
          "data": {
            "text/plain": [
              "['Je', 'suis', 'au', 'marché']"
            ]
          },
          "metadata": {},
          "execution_count": 11
        }
      ]
    },
    {
      "cell_type": "code",
      "source": [
        "phrases = [\"Je suis au marché\", \"Je travaille au marché\"]"
      ],
      "metadata": {
        "id": "w5e4jiSzv90w"
      },
      "execution_count": null,
      "outputs": []
    },
    {
      "cell_type": "code",
      "source": [
        "from tensorflow.keras.preprocessing.text import Tokenizer\n",
        "\n",
        "tokenizer = Tokenizer()"
      ],
      "metadata": {
        "id": "u0e4LbPlwX8Y"
      },
      "execution_count": null,
      "outputs": []
    },
    {
      "cell_type": "code",
      "source": [
        "tokenizer.fit_on_texts(phrases)"
      ],
      "metadata": {
        "id": "gxeZcxRTwjKi"
      },
      "execution_count": null,
      "outputs": []
    },
    {
      "cell_type": "code",
      "source": [
        "tokenizer.word_index"
      ],
      "metadata": {
        "colab": {
          "base_uri": "https://localhost:8080/"
        },
        "id": "hejbN5bpwmaY",
        "outputId": "60f2d26f-d138-4564-ebfd-170bb50275af"
      },
      "execution_count": null,
      "outputs": [
        {
          "output_type": "execute_result",
          "data": {
            "text/plain": [
              "{'je': 1, 'au': 2, 'marché': 3, 'suis': 4, 'travaille': 5}"
            ]
          },
          "metadata": {},
          "execution_count": 15
        }
      ]
    },
    {
      "cell_type": "code",
      "source": [
        "tokenizer.texts_to_sequences(phrases)"
      ],
      "metadata": {
        "colab": {
          "base_uri": "https://localhost:8080/"
        },
        "id": "bCbKmyQswpNv",
        "outputId": "e0a399b2-b358-4276-f439-28b8efc915ad"
      },
      "execution_count": null,
      "outputs": [
        {
          "output_type": "execute_result",
          "data": {
            "text/plain": [
              "[[1, 4, 2, 3], [1, 5, 2, 3]]"
            ]
          },
          "metadata": {},
          "execution_count": 16
        }
      ]
    },
    {
      "cell_type": "code",
      "source": [
        "test = \"Il va au marché\""
      ],
      "metadata": {
        "id": "pr7Sdjejw0yV"
      },
      "execution_count": null,
      "outputs": []
    },
    {
      "cell_type": "code",
      "source": [
        "tokenizer.texts_to_sequences([test]) # Il ignore \"il\" & \"va\" qui sont absents du dataset d'entrainement"
      ],
      "metadata": {
        "colab": {
          "base_uri": "https://localhost:8080/"
        },
        "id": "h1A44nJFxLUL",
        "outputId": "eb30ec5d-fb01-4dfc-bb93-35a457ea0d43"
      },
      "execution_count": null,
      "outputs": [
        {
          "output_type": "execute_result",
          "data": {
            "text/plain": [
              "[[2, 3]]"
            ]
          },
          "metadata": {},
          "execution_count": 18
        }
      ]
    },
    {
      "cell_type": "markdown",
      "source": [
        "# Out Of Vocabulary"
      ],
      "metadata": {
        "id": "-JwM_BiQyLww"
      }
    },
    {
      "cell_type": "code",
      "source": [
        "tokenizer_v2 = Tokenizer(num_words=1000, oov_token=\"<OOV>\") # permet de définir le nombre de mots dans le dictionnaire ainsi qu'une valeur out of vocabulary pour ce qu'il ignore\n",
        "tokenizer_v2.fit_on_texts(phrases)"
      ],
      "metadata": {
        "id": "HpxHDJaWxNYS"
      },
      "execution_count": null,
      "outputs": []
    },
    {
      "cell_type": "code",
      "source": [
        "tokenizer_v2.texts_to_sequences([test])"
      ],
      "metadata": {
        "colab": {
          "base_uri": "https://localhost:8080/"
        },
        "id": "OldsSUMbx7Qu",
        "outputId": "d14c469a-f823-4d28-8f83-3f5995bb327f"
      },
      "execution_count": null,
      "outputs": [
        {
          "output_type": "execute_result",
          "data": {
            "text/plain": [
              "[[1, 1, 3, 4]]"
            ]
          },
          "metadata": {},
          "execution_count": 22
        }
      ]
    },
    {
      "cell_type": "markdown",
      "source": [
        "# Padding & Truncating"
      ],
      "metadata": {
        "id": "sh1sQxpNyPh3"
      }
    },
    {
      "cell_type": "code",
      "source": [
        "phrases = [\"Je suis au marché\",\n",
        "           \"Je travaille au marché\",\n",
        "           \"es-tu rentré du marché?\",\n",
        "           \"Je nettoie le marché tous les jours avant de commencer à vendre le matin\"]\n",
        "\n",
        "\n",
        "tokenizer = Tokenizer(num_words = 100, oov_token=\"\")\n",
        "tokenizer.fit_on_texts(phrases)\n",
        "word_index = tokenizer.word_index\n",
        "sequences = tokenizer.texts_to_sequences(phrases)"
      ],
      "metadata": {
        "id": "vK1ja4s5x-8N"
      },
      "execution_count": null,
      "outputs": []
    },
    {
      "cell_type": "code",
      "source": [
        "sequences"
      ],
      "metadata": {
        "colab": {
          "base_uri": "https://localhost:8080/"
        },
        "id": "kMZDABvwyirE",
        "outputId": "37a3cb10-774b-4b10-d354-281b9c4bcde4"
      },
      "execution_count": null,
      "outputs": [
        {
          "output_type": "execute_result",
          "data": {
            "text/plain": [
              "[[3, 6, 4, 2],\n",
              " [3, 7, 4, 2],\n",
              " [8, 9, 10, 11, 2],\n",
              " [3, 12, 5, 2, 13, 14, 15, 16, 17, 18, 19, 20, 5, 21]]"
            ]
          },
          "metadata": {},
          "execution_count": 24
        }
      ]
    },
    {
      "cell_type": "markdown",
      "source": [
        "Ici, on remarque que toutes nos phrases n'ont pas la même longueur, ce qui n'était pas le cas jusqu'alors.\n",
        "\n",
        "Le padding consiste à ajouter des 0 sur les plus petits éléments pour atteindre la même taille que le plus grand élément."
      ],
      "metadata": {
        "id": "VRGHLTgMy15s"
      }
    },
    {
      "cell_type": "code",
      "source": [
        "from tensorflow.keras.preprocessing.sequence import pad_sequences\n",
        "\n",
        "pad_sequences(sequences) # Pre-padding par défaut"
      ],
      "metadata": {
        "colab": {
          "base_uri": "https://localhost:8080/",
          "height": 180
        },
        "id": "EaPMzzQizEN8",
        "outputId": "15eb8f7d-689d-4a12-bf44-3f99ec546de5"
      },
      "execution_count": null,
      "outputs": [
        {
          "output_type": "error",
          "ename": "NameError",
          "evalue": "name 'sequences' is not defined",
          "traceback": [
            "\u001b[0;31m---------------------------------------------------------------------------\u001b[0m",
            "\u001b[0;31mNameError\u001b[0m                                 Traceback (most recent call last)",
            "\u001b[0;32m<ipython-input-50-8f5aaf9b5b27>\u001b[0m in \u001b[0;36m<cell line: 0>\u001b[0;34m()\u001b[0m\n\u001b[1;32m      1\u001b[0m \u001b[0;32mfrom\u001b[0m \u001b[0mtensorflow\u001b[0m\u001b[0;34m.\u001b[0m\u001b[0mkeras\u001b[0m\u001b[0;34m.\u001b[0m\u001b[0mpreprocessing\u001b[0m\u001b[0;34m.\u001b[0m\u001b[0msequence\u001b[0m \u001b[0;32mimport\u001b[0m \u001b[0mpad_sequences\u001b[0m\u001b[0;34m\u001b[0m\u001b[0;34m\u001b[0m\u001b[0m\n\u001b[1;32m      2\u001b[0m \u001b[0;34m\u001b[0m\u001b[0m\n\u001b[0;32m----> 3\u001b[0;31m \u001b[0mpad_sequences\u001b[0m\u001b[0;34m(\u001b[0m\u001b[0msequences\u001b[0m\u001b[0;34m)\u001b[0m \u001b[0;31m# Pre-padding par défaut\u001b[0m\u001b[0;34m\u001b[0m\u001b[0;34m\u001b[0m\u001b[0m\n\u001b[0m",
            "\u001b[0;31mNameError\u001b[0m: name 'sequences' is not defined"
          ]
        }
      ]
    },
    {
      "cell_type": "markdown",
      "source": [
        "Egalement, si une phrase a 1 000 mots, on peut souhaiter mettre une limite au padding"
      ],
      "metadata": {
        "id": "PEdjux6EzbKM"
      }
    },
    {
      "cell_type": "code",
      "source": [
        "pad_sequences(sequences, padding=\"post\", truncating=\"pre\", maxlen=5)"
      ],
      "metadata": {
        "colab": {
          "base_uri": "https://localhost:8080/",
          "height": 144
        },
        "id": "2wU509thziIj",
        "outputId": "7758f7d6-19ca-491c-bd99-f9031ed6d994"
      },
      "execution_count": null,
      "outputs": [
        {
          "output_type": "error",
          "ename": "NameError",
          "evalue": "name 'sequences' is not defined",
          "traceback": [
            "\u001b[0;31m---------------------------------------------------------------------------\u001b[0m",
            "\u001b[0;31mNameError\u001b[0m                                 Traceback (most recent call last)",
            "\u001b[0;32m<ipython-input-51-536476a99562>\u001b[0m in \u001b[0;36m<cell line: 0>\u001b[0;34m()\u001b[0m\n\u001b[0;32m----> 1\u001b[0;31m \u001b[0mpad_sequences\u001b[0m\u001b[0;34m(\u001b[0m\u001b[0msequences\u001b[0m\u001b[0;34m,\u001b[0m \u001b[0mpadding\u001b[0m\u001b[0;34m=\u001b[0m\u001b[0;34m\"post\"\u001b[0m\u001b[0;34m,\u001b[0m \u001b[0mtruncating\u001b[0m\u001b[0;34m=\u001b[0m\u001b[0;34m\"pre\"\u001b[0m\u001b[0;34m,\u001b[0m \u001b[0mmaxlen\u001b[0m\u001b[0;34m=\u001b[0m\u001b[0;36m5\u001b[0m\u001b[0;34m)\u001b[0m\u001b[0;34m\u001b[0m\u001b[0;34m\u001b[0m\u001b[0m\n\u001b[0m",
            "\u001b[0;31mNameError\u001b[0m: name 'sequences' is not defined"
          ]
        }
      ]
    },
    {
      "cell_type": "markdown",
      "source": [
        "# Stop Words\n",
        "\n",
        "Ce sont des mots qui n'ont pas de valeurs sémantiques, mais essentiellement grammaticale"
      ],
      "metadata": {
        "id": "V2QTVrhqz_9L"
      }
    },
    {
      "cell_type": "code",
      "source": [
        "phrase = \"Je vais au marché le Jeudi\""
      ],
      "metadata": {
        "id": "InaKpkHuz-CW"
      },
      "execution_count": null,
      "outputs": []
    },
    {
      "cell_type": "code",
      "source": [
        "stopwords = [\"au\", \"le\"]"
      ],
      "metadata": {
        "id": "v1bF0fjP0S_3"
      },
      "execution_count": null,
      "outputs": []
    },
    {
      "cell_type": "code",
      "source": [
        "words = phrase.split(\" \")\n",
        "phrase_nettoyee = []\n",
        "\n",
        "for word in words:\n",
        "  if word not in stopwords:\n",
        "    phrase_nettoyee.append(word)"
      ],
      "metadata": {
        "id": "9H4Kbmkz0WYz"
      },
      "execution_count": null,
      "outputs": []
    },
    {
      "cell_type": "code",
      "source": [
        "phrase_nettoyee"
      ],
      "metadata": {
        "colab": {
          "base_uri": "https://localhost:8080/"
        },
        "id": "QOpVG8_n0fNr",
        "outputId": "af0749dc-3d87-4f3f-9f57-a06efb392953"
      },
      "execution_count": null,
      "outputs": [
        {
          "output_type": "execute_result",
          "data": {
            "text/plain": [
              "['Je', 'vais', 'marché', 'Jeudi']"
            ]
          },
          "metadata": {},
          "execution_count": 35
        }
      ]
    },
    {
      "cell_type": "code",
      "source": [
        "\" \".join(phrase_nettoyee)"
      ],
      "metadata": {
        "colab": {
          "base_uri": "https://localhost:8080/",
          "height": 35
        },
        "id": "koc6mYlW0gfo",
        "outputId": "2abb5dbe-6599-4ef1-cee5-2f66f3c350c5"
      },
      "execution_count": null,
      "outputs": [
        {
          "output_type": "execute_result",
          "data": {
            "text/plain": [
              "'Je vais marché Jeudi'"
            ],
            "application/vnd.google.colaboratory.intrinsic+json": {
              "type": "string"
            }
          },
          "metadata": {},
          "execution_count": 36
        }
      ]
    },
    {
      "cell_type": "markdown",
      "source": [
        "Il existe un package nltk, qui contient tous les stopwords d'une langue"
      ],
      "metadata": {
        "id": "AN80_xyE05iC"
      }
    },
    {
      "cell_type": "markdown",
      "source": [
        "# Extraction de caractéristiques d'un texte : Approche du calcul du Sentiment"
      ],
      "metadata": {
        "id": "-7NDS2vB0-Kj"
      }
    },
    {
      "cell_type": "code",
      "source": [
        "phrase = \"Votre connexion est lente\""
      ],
      "metadata": {
        "id": "ur8oR4LKz4mc"
      },
      "execution_count": null,
      "outputs": []
    },
    {
      "cell_type": "code",
      "source": [
        "{Votre: 0, connexion: 0, est: 0, lente: -1}"
      ],
      "metadata": {
        "id": "8fGfIoCjzpBg"
      },
      "execution_count": null,
      "outputs": []
    },
    {
      "cell_type": "code",
      "source": [
        "{\n",
        "  \"Votre\": [1, 0, 5], # Imaginons des caractéristiques comme position, importance, longueur\n",
        "  \"Connexion\": [0, 1, 9],\n",
        "  \"est\": [2, 2, 3],\n",
        "  \"lente\": [3, 4, 5]\n",
        "}"
      ],
      "metadata": {
        "id": "AarylAOMTkIo"
      },
      "execution_count": null,
      "outputs": []
    },
    {
      "cell_type": "markdown",
      "source": [
        "# Les Embeddings (plongement)\n",
        "\n",
        "\n",
        "Il s'agit de l'idée d'avoir un mot qui donne un vecteur donné (cf WordToVec?)"
      ],
      "metadata": {
        "id": "tfBvJEoxUVsa"
      }
    },
    {
      "cell_type": "markdown",
      "source": [
        "On peut définir le nombre de vecteur pour définir un mot: embedding_dim"
      ],
      "metadata": {
        "id": "kRJoFatpUktl"
      }
    },
    {
      "cell_type": "code",
      "source": [
        "(vocal_size, embedding_dim) # ceci constituerait notre matrice"
      ],
      "metadata": {
        "id": "ApbUmSXnUpE5"
      },
      "execution_count": null,
      "outputs": []
    },
    {
      "cell_type": "code",
      "source": [
        "from tensorflow.keras.preprocessing.text import Tokenizer\n",
        "from tensorflow.keras.preprocessing.sequence import pad_sequences\n",
        "\n",
        "tokenizer = Tokenizer(oov_token=\"<OOV>\", num_words=20000) #Ceci permettra de ne garder que les 20k mots les plus courants\n",
        "tokenizer.fit_on_texts(training_sentences)\n",
        "word_index = tokenizer.word_index\n",
        "\n",
        "training_sequences = tokenizer.texts_to_sequences(training_sentences)\n",
        "training_padded = pad_sequences(training_sequences, maxlen=120, padding=\"post\", truncating=\"post\")\n",
        "\n",
        "test_sequences = tokenizer.texts_to_sequences(test_sentences)\n",
        "test_padded = pad_sequences(test_sequences, maxlen=120, padding=\"post\", truncating=\"post\")"
      ],
      "metadata": {
        "id": "qZv6IDJOWErR"
      },
      "execution_count": null,
      "outputs": []
    },
    {
      "cell_type": "code",
      "source": [
        "training_padded[10]"
      ],
      "metadata": {
        "colab": {
          "base_uri": "https://localhost:8080/"
        },
        "id": "xBqg8WlcXB7Q",
        "outputId": "b2018690-2235-4aac-e160-efcd9411796a"
      },
      "execution_count": null,
      "outputs": [
        {
          "output_type": "execute_result",
          "data": {
            "text/plain": [
              "array([   1,    4,    1,  317,   11,   14,    1,  146,    2,    1,  253,\n",
              "         12,    1,    5,    4,   18,   50,   72,   34,  543,    8,    8,\n",
              "         48,   12,    7,  115,  104,    1, 1151,   16,    1,    1,    1,\n",
              "         62,  603,   56,   21,  821, 1297,    8,    8,    3,  140,  123,\n",
              "        620,    1,  189,   12,  213,   10,   21, 1223,    8,    8,  552,\n",
              "         11,  675,   22,    2,   18,  762,    2,  132,   37,   11,  283,\n",
              "         40,   80,   77,    5,    2,  114,   19,   12,  211,  250,   78,\n",
              "          2,  120,  172,   12,    1, 1127,  550,  939,  343,   12,    1,\n",
              "          1,  242,   12,  137,    7,  750,   46,    5,    2,  696, 1168,\n",
              "         42,    2,  704, 1504,  101,   56,    1,    2,  426,    1,    1,\n",
              "          3,    1,    2,  320,  482,   11,  283,   40,  560,    1],\n",
              "      dtype=int32)"
            ]
          },
          "metadata": {},
          "execution_count": 24
        }
      ]
    },
    {
      "cell_type": "code",
      "source": [
        "import numpy as np\n",
        "\n",
        "training_labels = np.array(training_labels)\n",
        "test_labels = np.array(test_labels)"
      ],
      "metadata": {
        "id": "dMYQAilDYULv"
      },
      "execution_count": null,
      "outputs": []
    },
    {
      "cell_type": "code",
      "source": [
        "import tensorflow as tf\n",
        "\n",
        "model = tf.keras.models.Sequential([\n",
        "    tf.keras.layers.Embedding(20000, 120),\n",
        "    tf.keras.layers.GlobalAveragePooling1D(),\n",
        "    tf.keras.layers.Dense(8, activation=\"relu\"),\n",
        "    tf.keras.layers.Dense(1, activation=\"sigmoid\")\n",
        "])\n",
        "\n",
        "model.compile(loss=\"binary_crossentropy\", optimizer=\"SGD\", metrics=[\"accuracy\"])"
      ],
      "metadata": {
        "id": "SNP5PeWDYlEh"
      },
      "execution_count": null,
      "outputs": []
    },
    {
      "cell_type": "code",
      "source": [
        "model.summary()"
      ],
      "metadata": {
        "colab": {
          "base_uri": "https://localhost:8080/",
          "height": 281
        },
        "id": "ExPMocYeZlq7",
        "outputId": "aae54cd0-3a59-4429-95c9-7ebb9ffe9c88"
      },
      "execution_count": null,
      "outputs": [
        {
          "output_type": "display_data",
          "data": {
            "text/plain": [
              "\u001b[1mModel: \"sequential_7\"\u001b[0m\n"
            ],
            "text/html": [
              "<pre style=\"white-space:pre;overflow-x:auto;line-height:normal;font-family:Menlo,'DejaVu Sans Mono',consolas,'Courier New',monospace\"><span style=\"font-weight: bold\">Model: \"sequential_7\"</span>\n",
              "</pre>\n"
            ]
          },
          "metadata": {}
        },
        {
          "output_type": "display_data",
          "data": {
            "text/plain": [
              "┏━━━━━━━━━━━━━━━━━━━━━━━━━━━━━━━━━━━━━━┳━━━━━━━━━━━━━━━━━━━━━━━━━━━━━┳━━━━━━━━━━━━━━━━━┓\n",
              "┃\u001b[1m \u001b[0m\u001b[1mLayer (type)                        \u001b[0m\u001b[1m \u001b[0m┃\u001b[1m \u001b[0m\u001b[1mOutput Shape               \u001b[0m\u001b[1m \u001b[0m┃\u001b[1m \u001b[0m\u001b[1m        Param #\u001b[0m\u001b[1m \u001b[0m┃\n",
              "┡━━━━━━━━━━━━━━━━━━━━━━━━━━━━━━━━━━━━━━╇━━━━━━━━━━━━━━━━━━━━━━━━━━━━━╇━━━━━━━━━━━━━━━━━┩\n",
              "│ embedding_7 (\u001b[38;5;33mEmbedding\u001b[0m)              │ ?                           │     \u001b[38;5;34m0\u001b[0m (unbuilt) │\n",
              "├──────────────────────────────────────┼─────────────────────────────┼─────────────────┤\n",
              "│ global_average_pooling1d_7           │ ?                           │               \u001b[38;5;34m0\u001b[0m │\n",
              "│ (\u001b[38;5;33mGlobalAveragePooling1D\u001b[0m)             │                             │                 │\n",
              "├──────────────────────────────────────┼─────────────────────────────┼─────────────────┤\n",
              "│ dense_14 (\u001b[38;5;33mDense\u001b[0m)                     │ ?                           │     \u001b[38;5;34m0\u001b[0m (unbuilt) │\n",
              "├──────────────────────────────────────┼─────────────────────────────┼─────────────────┤\n",
              "│ dense_15 (\u001b[38;5;33mDense\u001b[0m)                     │ ?                           │     \u001b[38;5;34m0\u001b[0m (unbuilt) │\n",
              "└──────────────────────────────────────┴─────────────────────────────┴─────────────────┘\n"
            ],
            "text/html": [
              "<pre style=\"white-space:pre;overflow-x:auto;line-height:normal;font-family:Menlo,'DejaVu Sans Mono',consolas,'Courier New',monospace\">┏━━━━━━━━━━━━━━━━━━━━━━━━━━━━━━━━━━━━━━┳━━━━━━━━━━━━━━━━━━━━━━━━━━━━━┳━━━━━━━━━━━━━━━━━┓\n",
              "┃<span style=\"font-weight: bold\"> Layer (type)                         </span>┃<span style=\"font-weight: bold\"> Output Shape                </span>┃<span style=\"font-weight: bold\">         Param # </span>┃\n",
              "┡━━━━━━━━━━━━━━━━━━━━━━━━━━━━━━━━━━━━━━╇━━━━━━━━━━━━━━━━━━━━━━━━━━━━━╇━━━━━━━━━━━━━━━━━┩\n",
              "│ embedding_7 (<span style=\"color: #0087ff; text-decoration-color: #0087ff\">Embedding</span>)              │ ?                           │     <span style=\"color: #00af00; text-decoration-color: #00af00\">0</span> (unbuilt) │\n",
              "├──────────────────────────────────────┼─────────────────────────────┼─────────────────┤\n",
              "│ global_average_pooling1d_7           │ ?                           │               <span style=\"color: #00af00; text-decoration-color: #00af00\">0</span> │\n",
              "│ (<span style=\"color: #0087ff; text-decoration-color: #0087ff\">GlobalAveragePooling1D</span>)             │                             │                 │\n",
              "├──────────────────────────────────────┼─────────────────────────────┼─────────────────┤\n",
              "│ dense_14 (<span style=\"color: #0087ff; text-decoration-color: #0087ff\">Dense</span>)                     │ ?                           │     <span style=\"color: #00af00; text-decoration-color: #00af00\">0</span> (unbuilt) │\n",
              "├──────────────────────────────────────┼─────────────────────────────┼─────────────────┤\n",
              "│ dense_15 (<span style=\"color: #0087ff; text-decoration-color: #0087ff\">Dense</span>)                     │ ?                           │     <span style=\"color: #00af00; text-decoration-color: #00af00\">0</span> (unbuilt) │\n",
              "└──────────────────────────────────────┴─────────────────────────────┴─────────────────┘\n",
              "</pre>\n"
            ]
          },
          "metadata": {}
        },
        {
          "output_type": "display_data",
          "data": {
            "text/plain": [
              "\u001b[1m Total params: \u001b[0m\u001b[38;5;34m0\u001b[0m (0.00 B)\n"
            ],
            "text/html": [
              "<pre style=\"white-space:pre;overflow-x:auto;line-height:normal;font-family:Menlo,'DejaVu Sans Mono',consolas,'Courier New',monospace\"><span style=\"font-weight: bold\"> Total params: </span><span style=\"color: #00af00; text-decoration-color: #00af00\">0</span> (0.00 B)\n",
              "</pre>\n"
            ]
          },
          "metadata": {}
        },
        {
          "output_type": "display_data",
          "data": {
            "text/plain": [
              "\u001b[1m Trainable params: \u001b[0m\u001b[38;5;34m0\u001b[0m (0.00 B)\n"
            ],
            "text/html": [
              "<pre style=\"white-space:pre;overflow-x:auto;line-height:normal;font-family:Menlo,'DejaVu Sans Mono',consolas,'Courier New',monospace\"><span style=\"font-weight: bold\"> Trainable params: </span><span style=\"color: #00af00; text-decoration-color: #00af00\">0</span> (0.00 B)\n",
              "</pre>\n"
            ]
          },
          "metadata": {}
        },
        {
          "output_type": "display_data",
          "data": {
            "text/plain": [
              "\u001b[1m Non-trainable params: \u001b[0m\u001b[38;5;34m0\u001b[0m (0.00 B)\n"
            ],
            "text/html": [
              "<pre style=\"white-space:pre;overflow-x:auto;line-height:normal;font-family:Menlo,'DejaVu Sans Mono',consolas,'Courier New',monospace\"><span style=\"font-weight: bold\"> Non-trainable params: </span><span style=\"color: #00af00; text-decoration-color: #00af00\">0</span> (0.00 B)\n",
              "</pre>\n"
            ]
          },
          "metadata": {}
        }
      ]
    },
    {
      "cell_type": "code",
      "source": [
        "test_padded.shape"
      ],
      "metadata": {
        "colab": {
          "base_uri": "https://localhost:8080/"
        },
        "id": "1UphmM5_b6YL",
        "outputId": "735a37af-987d-4133-8188-d7dc94e9d304"
      },
      "execution_count": null,
      "outputs": [
        {
          "output_type": "execute_result",
          "data": {
            "text/plain": [
              "(5000, 120)"
            ]
          },
          "metadata": {},
          "execution_count": 47
        }
      ]
    },
    {
      "cell_type": "code",
      "source": [
        "h = model.fit(training_padded, training_labels, epochs=50, validation_data=(test_padded, test_labels),\n",
        "              callbacks=[tf.keras.callbacks.EarlyStopping(monitor='val_accuracy', patience=4),\n",
        "                         tf.keras.callbacks.ModelCheckpoint('best_model.keras', save_best_only=True)] )"
      ],
      "metadata": {
        "colab": {
          "base_uri": "https://localhost:8080/"
        },
        "id": "ofMRsJaraBwe",
        "outputId": "f33fe90e-2930-4e1b-c759-3380ffb3a5f8"
      },
      "execution_count": null,
      "outputs": [
        {
          "output_type": "stream",
          "name": "stdout",
          "text": [
            "Epoch 1/50\n",
            "\u001b[1m625/625\u001b[0m \u001b[32m━━━━━━━━━━━━━━━━━━━━\u001b[0m\u001b[37m\u001b[0m \u001b[1m7s\u001b[0m 11ms/step - accuracy: 0.5171 - loss: 0.6923 - val_accuracy: 0.5190 - val_loss: 0.6921\n",
            "Epoch 2/50\n",
            "\u001b[1m625/625\u001b[0m \u001b[32m━━━━━━━━━━━━━━━━━━━━\u001b[0m\u001b[37m\u001b[0m \u001b[1m6s\u001b[0m 9ms/step - accuracy: 0.5186 - loss: 0.6923 - val_accuracy: 0.5162 - val_loss: 0.6921\n",
            "Epoch 3/50\n",
            "\u001b[1m625/625\u001b[0m \u001b[32m━━━━━━━━━━━━━━━━━━━━\u001b[0m\u001b[37m\u001b[0m \u001b[1m10s\u001b[0m 9ms/step - accuracy: 0.5176 - loss: 0.6922 - val_accuracy: 0.5218 - val_loss: 0.6920\n",
            "Epoch 4/50\n",
            "\u001b[1m625/625\u001b[0m \u001b[32m━━━━━━━━━━━━━━━━━━━━\u001b[0m\u001b[37m\u001b[0m \u001b[1m6s\u001b[0m 9ms/step - accuracy: 0.5207 - loss: 0.6920 - val_accuracy: 0.5130 - val_loss: 0.6919\n",
            "Epoch 5/50\n",
            "\u001b[1m625/625\u001b[0m \u001b[32m━━━━━━━━━━━━━━━━━━━━\u001b[0m\u001b[37m\u001b[0m \u001b[1m10s\u001b[0m 9ms/step - accuracy: 0.5198 - loss: 0.6921 - val_accuracy: 0.5200 - val_loss: 0.6917\n",
            "Epoch 6/50\n",
            "\u001b[1m625/625\u001b[0m \u001b[32m━━━━━━━━━━━━━━━━━━━━\u001b[0m\u001b[37m\u001b[0m \u001b[1m8s\u001b[0m 12ms/step - accuracy: 0.5178 - loss: 0.6919 - val_accuracy: 0.5470 - val_loss: 0.6914\n",
            "Epoch 7/50\n",
            "\u001b[1m625/625\u001b[0m \u001b[32m━━━━━━━━━━━━━━━━━━━━\u001b[0m\u001b[37m\u001b[0m \u001b[1m7s\u001b[0m 11ms/step - accuracy: 0.5454 - loss: 0.6918 - val_accuracy: 0.5214 - val_loss: 0.6914\n",
            "Epoch 8/50\n",
            "\u001b[1m625/625\u001b[0m \u001b[32m━━━━━━━━━━━━━━━━━━━━\u001b[0m\u001b[37m\u001b[0m \u001b[1m9s\u001b[0m 9ms/step - accuracy: 0.5237 - loss: 0.6914 - val_accuracy: 0.5170 - val_loss: 0.6913\n",
            "Epoch 9/50\n",
            "\u001b[1m625/625\u001b[0m \u001b[32m━━━━━━━━━━━━━━━━━━━━\u001b[0m\u001b[37m\u001b[0m \u001b[1m11s\u001b[0m 10ms/step - accuracy: 0.5178 - loss: 0.6915 - val_accuracy: 0.5574 - val_loss: 0.6910\n",
            "Epoch 10/50\n",
            "\u001b[1m625/625\u001b[0m \u001b[32m━━━━━━━━━━━━━━━━━━━━\u001b[0m\u001b[37m\u001b[0m \u001b[1m5s\u001b[0m 8ms/step - accuracy: 0.5453 - loss: 0.6914 - val_accuracy: 0.5146 - val_loss: 0.6911\n",
            "Epoch 11/50\n",
            "\u001b[1m625/625\u001b[0m \u001b[32m━━━━━━━━━━━━━━━━━━━━\u001b[0m\u001b[37m\u001b[0m \u001b[1m7s\u001b[0m 11ms/step - accuracy: 0.5263 - loss: 0.6909 - val_accuracy: 0.5214 - val_loss: 0.6908\n",
            "Epoch 12/50\n",
            "\u001b[1m625/625\u001b[0m \u001b[32m━━━━━━━━━━━━━━━━━━━━\u001b[0m\u001b[37m\u001b[0m \u001b[1m7s\u001b[0m 11ms/step - accuracy: 0.5261 - loss: 0.6913 - val_accuracy: 0.5204 - val_loss: 0.6907\n",
            "Epoch 13/50\n",
            "\u001b[1m625/625\u001b[0m \u001b[32m━━━━━━━━━━━━━━━━━━━━\u001b[0m\u001b[37m\u001b[0m \u001b[1m9s\u001b[0m 10ms/step - accuracy: 0.5302 - loss: 0.6909 - val_accuracy: 0.5304 - val_loss: 0.6905\n"
          ]
        }
      ]
    },
    {
      "cell_type": "code",
      "source": [
        "import matplotlib.pyplot as plt\n",
        "\n",
        "def plot_graphs(history, string):\n",
        "  plt.plot(history.history[string])\n",
        "  plt.plot(history.history['val_'+string])\n",
        "  plt.xlabel(\"Epochs\")\n",
        "  plt.ylabel(string)\n",
        "\n",
        "plot_graphs(h, \"accuracy\")"
      ],
      "metadata": {
        "colab": {
          "base_uri": "https://localhost:8080/",
          "height": 449
        },
        "id": "o5YyAUwYdk7y",
        "outputId": "1e4f4d26-7e6e-416f-faee-3ae9a9ff7761"
      },
      "execution_count": null,
      "outputs": [
        {
          "output_type": "display_data",
          "data": {
            "text/plain": [
              "<Figure size 640x480 with 1 Axes>"
            ],
            "image/png": "[encoded data removed]"
          },
          "metadata": {}
        }
      ]
    },
    {
      "cell_type": "markdown",
      "source": [
        "L'aspect aléatoire sur les données de test peut se comprendre si une phrase dans le jeu de test ne contient que des mots inconnus du dictionnaire, alors il sera réduit à un vector \"OOV\""
      ],
      "metadata": {
        "id": "FW-se_ood903"
      }
    },
    {
      "cell_type": "markdown",
      "source": [
        "# Vocab Size"
      ],
      "metadata": {
        "id": "5YcSrTfLeTC5"
      }
    },
    {
      "cell_type": "markdown",
      "source": [
        "On peut réduire le vocab_size, mais on risque de tomber dans le même problème que ci-dessus.\n",
        "\n",
        "Si on rend le vocab_size trop grand, on risque de demander un entrainement excessif pour des mots n'apparaissant peut-être qu'une seule fois"
      ],
      "metadata": {
        "id": "3DOjnS2Xe54C"
      }
    },
    {
      "cell_type": "code",
      "source": [
        "wc = tokenizer.word_counts"
      ],
      "metadata": {
        "id": "ufNGg93LfFbl"
      },
      "execution_count": null,
      "outputs": []
    },
    {
      "cell_type": "code",
      "source": [
        "wc =sorted(wc.items(), key=lambda x: x[1], reverse=True)"
      ],
      "metadata": {
        "id": "-IslhOaAfJQY"
      },
      "execution_count": null,
      "outputs": []
    },
    {
      "cell_type": "code",
      "source": [
        "import pandas as pd\n",
        "\n",
        "df = pd.DataFrame(wc, columns=[\"word\", \"count\"])"
      ],
      "metadata": {
        "id": "qvsSqj5EhnsN"
      },
      "execution_count": null,
      "outputs": []
    },
    {
      "cell_type": "code",
      "source": [
        "df[df[\"count\"] > 5]"
      ],
      "metadata": {
        "colab": {
          "base_uri": "https://localhost:8080/",
          "height": 424
        },
        "id": "ced82ozvh7Mb",
        "outputId": "e145ff23-19ea-4433-ca58-6ac28f5bfe58"
      },
      "execution_count": null,
      "outputs": [
        {
          "output_type": "execute_result",
          "data": {
            "text/plain": [
              "           word   count\n",
              "0           the  268774\n",
              "1           and  131448\n",
              "2             a  130000\n",
              "3            of  116684\n",
              "4            to  108554\n",
              "...         ...     ...\n",
              "24429  dornhelm       6\n",
              "24430  donnison       6\n",
              "24431      cray       6\n",
              "24432    morand       6\n",
              "24433   mcnicol       6\n",
              "\n",
              "[24434 rows x 2 columns]"
            ],
            "text/html": [
              "\n",
              "  <div id=\"df-9cb3fa26-f75f-4fc0-a7e4-9e6df90c7a68\" class=\"colab-df-container\">\n",
              "    <div>\n",
              "<style scoped>\n",
              "    .dataframe tbody tr th:only-of-type {\n",
              "        vertical-align: middle;\n",
              "    }\n",
              "\n",
              "    .dataframe tbody tr th {\n",
              "        vertical-align: top;\n",
              "    }\n",
              "\n",
              "    .dataframe thead th {\n",
              "        text-align: right;\n",
              "    }\n",
              "</style>\n",
              "<table border=\"1\" class=\"dataframe\">\n",
              "  <thead>\n",
              "    <tr style=\"text-align: right;\">\n",
              "      <th></th>\n",
              "      <th>word</th>\n",
              "      <th>count</th>\n",
              "    </tr>\n",
              "  </thead>\n",
              "  <tbody>\n",
              "    <tr>\n",
              "      <th>0</th>\n",
              "      <td>the</td>\n",
              "      <td>268774</td>\n",
              "    </tr>\n",
              "    <tr>\n",
              "      <th>1</th>\n",
              "      <td>and</td>\n",
              "      <td>131448</td>\n",
              "    </tr>\n",
              "    <tr>\n",
              "      <th>2</th>\n",
              "      <td>a</td>\n",
              "      <td>130000</td>\n",
              "    </tr>\n",
              "    <tr>\n",
              "      <th>3</th>\n",
              "      <td>of</td>\n",
              "      <td>116684</td>\n",
              "    </tr>\n",
              "    <tr>\n",
              "      <th>4</th>\n",
              "      <td>to</td>\n",
              "      <td>108554</td>\n",
              "    </tr>\n",
              "    <tr>\n",
              "      <th>...</th>\n",
              "      <td>...</td>\n",
              "      <td>...</td>\n",
              "    </tr>\n",
              "    <tr>\n",
              "      <th>24429</th>\n",
              "      <td>dornhelm</td>\n",
              "      <td>6</td>\n",
              "    </tr>\n",
              "    <tr>\n",
              "      <th>24430</th>\n",
              "      <td>donnison</td>\n",
              "      <td>6</td>\n",
              "    </tr>\n",
              "    <tr>\n",
              "      <th>24431</th>\n",
              "      <td>cray</td>\n",
              "      <td>6</td>\n",
              "    </tr>\n",
              "    <tr>\n",
              "      <th>24432</th>\n",
              "      <td>morand</td>\n",
              "      <td>6</td>\n",
              "    </tr>\n",
              "    <tr>\n",
              "      <th>24433</th>\n",
              "      <td>mcnicol</td>\n",
              "      <td>6</td>\n",
              "    </tr>\n",
              "  </tbody>\n",
              "</table>\n",
              "<p>24434 rows × 2 columns</p>\n",
              "</div>\n",
              "    <div class=\"colab-df-buttons\">\n",
              "\n",
              "  <div class=\"colab-df-container\">\n",
              "    <button class=\"colab-df-convert\" onclick=\"convertToInteractive('df-9cb3fa26-f75f-4fc0-a7e4-9e6df90c7a68')\"\n",
              "            title=\"Convert this dataframe to an interactive table.\"\n",
              "            style=\"display:none;\">\n",
              "\n",
              "  <svg xmlns=\"http://www.w3.org/2000/svg\" height=\"24px\" viewBox=\"0 -960 960 960\">\n",
              "    <path d=\"M120-120v-720h720v720H120Zm60-500h600v-160H180v160Zm220 220h160v-160H400v160Zm0 220h160v-160H400v160ZM180-400h160v-160H180v160Zm440 0h160v-160H620v160ZM180-180h160v-160H180v160Zm440 0h160v-160H620v160Z\"/>\n",
              "  </svg>\n",
              "    </button>\n",
              "\n",
              "  <style>\n",
              "    .colab-df-container {\n",
              "      display:flex;\n",
              "      gap: 12px;\n",
              "    }\n",
              "\n",
              "    .colab-df-convert {\n",
              "      background-color: #E8F0FE;\n",
              "      border: none;\n",
              "      border-radius: 50%;\n",
              "      cursor: pointer;\n",
              "      display: none;\n",
              "      fill: #1967D2;\n",
              "      height: 32px;\n",
              "      padding: 0 0 0 0;\n",
              "      width: 32px;\n",
              "    }\n",
              "\n",
              "    .colab-df-convert:hover {\n",
              "      background-color: #E2EBFA;\n",
              "      box-shadow: 0px 1px 2px rgba(60, 64, 67, 0.3), 0px 1px 3px 1px rgba(60, 64, 67, 0.15);\n",
              "      fill: #174EA6;\n",
              "    }\n",
              "\n",
              "    .colab-df-buttons div {\n",
              "      margin-bottom: 4px;\n",
              "    }\n",
              "\n",
              "    [theme=dark] .colab-df-convert {\n",
              "      background-color: #3B4455;\n",
              "      fill: #D2E3FC;\n",
              "    }\n",
              "\n",
              "    [theme=dark] .colab-df-convert:hover {\n",
              "      background-color: #434B5C;\n",
              "      box-shadow: 0px 1px 3px 1px rgba(0, 0, 0, 0.15);\n",
              "      filter: drop-shadow(0px 1px 2px rgba(0, 0, 0, 0.3));\n",
              "      fill: #FFFFFF;\n",
              "    }\n",
              "  </style>\n",
              "\n",
              "    <script>\n",
              "      const buttonEl =\n",
              "        document.querySelector('#df-9cb3fa26-f75f-4fc0-a7e4-9e6df90c7a68 button.colab-df-convert');\n",
              "      buttonEl.style.display =\n",
              "        google.colab.kernel.accessAllowed ? 'block' : 'none';\n",
              "\n",
              "      async function convertToInteractive(key) {\n",
              "        const element = document.querySelector('#df-9cb3fa26-f75f-4fc0-a7e4-9e6df90c7a68');\n",
              "        const dataTable =\n",
              "          await google.colab.kernel.invokeFunction('convertToInteractive',\n",
              "                                                    [key], {});\n",
              "        if (!dataTable) return;\n",
              "\n",
              "        const docLinkHtml = 'Like what you see? Visit the ' +\n",
              "          '<a target=\"_blank\" href=https://colab.research.google.com/notebooks/data_table.ipynb>data table notebook</a>'\n",
              "          + ' to learn more about interactive tables.';\n",
              "        element.innerHTML = '';\n",
              "        dataTable['output_type'] = 'display_data';\n",
              "        await google.colab.output.renderOutput(dataTable, element);\n",
              "        const docLink = document.createElement('div');\n",
              "        docLink.innerHTML = docLinkHtml;\n",
              "        element.appendChild(docLink);\n",
              "      }\n",
              "    </script>\n",
              "  </div>\n",
              "\n",
              "\n",
              "<div id=\"df-eb9619cd-c74d-4f2f-97e5-85ec0c15651f\">\n",
              "  <button class=\"colab-df-quickchart\" onclick=\"quickchart('df-eb9619cd-c74d-4f2f-97e5-85ec0c15651f')\"\n",
              "            title=\"Suggest charts\"\n",
              "            style=\"display:none;\">\n",
              "\n",
              "<svg xmlns=\"http://www.w3.org/2000/svg\" height=\"24px\"viewBox=\"0 0 24 24\"\n",
              "     width=\"24px\">\n",
              "    <g>\n",
              "        <path d=\"M19 3H5c-1.1 0-2 .9-2 2v14c0 1.1.9 2 2 2h14c1.1 0 2-.9 2-2V5c0-1.1-.9-2-2-2zM9 17H7v-7h2v7zm4 0h-2V7h2v10zm4 0h-2v-4h2v4z\"/>\n",
              "    </g>\n",
              "</svg>\n",
              "  </button>\n",
              "\n",
              "<style>\n",
              "  .colab-df-quickchart {\n",
              "      --bg-color: #E8F0FE;\n",
              "      --fill-color: #1967D2;\n",
              "      --hover-bg-color: #E2EBFA;\n",
              "      --hover-fill-color: #174EA6;\n",
              "      --disabled-fill-color: #AAA;\n",
              "      --disabled-bg-color: #DDD;\n",
              "  }\n",
              "\n",
              "  [theme=dark] .colab-df-quickchart {\n",
              "      --bg-color: #3B4455;\n",
              "      --fill-color: #D2E3FC;\n",
              "      --hover-bg-color: #434B5C;\n",
              "      --hover-fill-color: #FFFFFF;\n",
              "      --disabled-bg-color: #3B4455;\n",
              "      --disabled-fill-color: #666;\n",
              "  }\n",
              "\n",
              "  .colab-df-quickchart {\n",
              "    background-color: var(--bg-color);\n",
              "    border: none;\n",
              "    border-radius: 50%;\n",
              "    cursor: pointer;\n",
              "    display: none;\n",
              "    fill: var(--fill-color);\n",
              "    height: 32px;\n",
              "    padding: 0;\n",
              "    width: 32px;\n",
              "  }\n",
              "\n",
              "  .colab-df-quickchart:hover {\n",
              "    background-color: var(--hover-bg-color);\n",
              "    box-shadow: 0 1px 2px rgba(60, 64, 67, 0.3), 0 1px 3px 1px rgba(60, 64, 67, 0.15);\n",
              "    fill: var(--button-hover-fill-color);\n",
              "  }\n",
              "\n",
              "  .colab-df-quickchart-complete:disabled,\n",
              "  .colab-df-quickchart-complete:disabled:hover {\n",
              "    background-color: var(--disabled-bg-color);\n",
              "    fill: var(--disabled-fill-color);\n",
              "    box-shadow: none;\n",
              "  }\n",
              "\n",
              "  .colab-df-spinner {\n",
              "    border: 2px solid var(--fill-color);\n",
              "    border-color: transparent;\n",
              "    border-bottom-color: var(--fill-color);\n",
              "    animation:\n",
              "      spin 1s steps(1) infinite;\n",
              "  }\n",
              "\n",
              "  @keyframes spin {\n",
              "    0% {\n",
              "      border-color: transparent;\n",
              "      border-bottom-color: var(--fill-color);\n",
              "      border-left-color: var(--fill-color);\n",
              "    }\n",
              "    20% {\n",
              "      border-color: transparent;\n",
              "      border-left-color: var(--fill-color);\n",
              "      border-top-color: var(--fill-color);\n",
              "    }\n",
              "    30% {\n",
              "      border-color: transparent;\n",
              "      border-left-color: var(--fill-color);\n",
              "      border-top-color: var(--fill-color);\n",
              "      border-right-color: var(--fill-color);\n",
              "    }\n",
              "    40% {\n",
              "      border-color: transparent;\n",
              "      border-right-color: var(--fill-color);\n",
              "      border-top-color: var(--fill-color);\n",
              "    }\n",
              "    60% {\n",
              "      border-color: transparent;\n",
              "      border-right-color: var(--fill-color);\n",
              "    }\n",
              "    80% {\n",
              "      border-color: transparent;\n",
              "      border-right-color: var(--fill-color);\n",
              "      border-bottom-color: var(--fill-color);\n",
              "    }\n",
              "    90% {\n",
              "      border-color: transparent;\n",
              "      border-bottom-color: var(--fill-color);\n",
              "    }\n",
              "  }\n",
              "</style>\n",
              "\n",
              "  <script>\n",
              "    async function quickchart(key) {\n",
              "      const quickchartButtonEl =\n",
              "        document.querySelector('#' + key + ' button');\n",
              "      quickchartButtonEl.disabled = true;  // To prevent multiple clicks.\n",
              "      quickchartButtonEl.classList.add('colab-df-spinner');\n",
              "      try {\n",
              "        const charts = await google.colab.kernel.invokeFunction(\n",
              "            'suggestCharts', [key], {});\n",
              "      } catch (error) {\n",
              "        console.error('Error during call to suggestCharts:', error);\n",
              "      }\n",
              "      quickchartButtonEl.classList.remove('colab-df-spinner');\n",
              "      quickchartButtonEl.classList.add('colab-df-quickchart-complete');\n",
              "    }\n",
              "    (() => {\n",
              "      let quickchartButtonEl =\n",
              "        document.querySelector('#df-eb9619cd-c74d-4f2f-97e5-85ec0c15651f button');\n",
              "      quickchartButtonEl.style.display =\n",
              "        google.colab.kernel.accessAllowed ? 'block' : 'none';\n",
              "    })();\n",
              "  </script>\n",
              "</div>\n",
              "\n",
              "    </div>\n",
              "  </div>\n"
            ],
            "application/vnd.google.colaboratory.intrinsic+json": {
              "type": "dataframe",
              "summary": "{\n  \"name\": \"df[df[\\\"count\\\"] > 5]\",\n  \"rows\": 24434,\n  \"fields\": [\n    {\n      \"column\": \"word\",\n      \"properties\": {\n        \"dtype\": \"string\",\n        \"num_unique_values\": 24434,\n        \"samples\": [\n          \"religion\",\n          \"communicating\",\n          \"smash\"\n        ],\n        \"semantic_type\": \"\",\n        \"description\": \"\"\n      }\n    },\n    {\n      \"column\": \"count\",\n      \"properties\": {\n        \"dtype\": \"number\",\n        \"std\": 2809,\n        \"min\": 6,\n        \"max\": 268774,\n        \"num_unique_values\": 1230,\n        \"samples\": [\n          807,\n          560,\n          2144\n        ],\n        \"semantic_type\": \"\",\n        \"description\": \"\"\n      }\n    }\n  ]\n}"
            }
          },
          "metadata": {},
          "execution_count": 88
        }
      ]
    },
    {
      "cell_type": "markdown",
      "source": [
        "Comparer test_set et training_set"
      ],
      "metadata": {
        "id": "HBM5f50wiIcL"
      }
    },
    {
      "cell_type": "code",
      "source": [
        "test_tokenizer = Tokenizer()\n",
        "test_tokenizer.fit_on_texts(test_sentences)"
      ],
      "metadata": {
        "id": "w80GafaTiK98"
      },
      "execution_count": null,
      "outputs": []
    },
    {
      "cell_type": "code",
      "source": [
        "test_words = test_tokenizer.word_index.keys()\n",
        "\n",
        "train_words = df['word'].tolist()"
      ],
      "metadata": {
        "id": "n-1fgCCFiUm5"
      },
      "execution_count": null,
      "outputs": []
    },
    {
      "cell_type": "code",
      "source": [
        "len(train_words), len(test_words)"
      ],
      "metadata": {
        "colab": {
          "base_uri": "https://localhost:8080/"
        },
        "id": "5GUlXOlxi5Sd",
        "outputId": "4ac99290-319b-4d36-ea47-9b57e2d2a4ce"
      },
      "execution_count": null,
      "outputs": [
        {
          "output_type": "execute_result",
          "data": {
            "text/plain": [
              "(78370, 42047)"
            ]
          },
          "metadata": {},
          "execution_count": 85
        }
      ]
    },
    {
      "cell_type": "code",
      "source": [
        "intersect = set(train_words).intersection(test_words)\n",
        "len(intersect)"
      ],
      "metadata": {
        "colab": {
          "base_uri": "https://localhost:8080/"
        },
        "id": "nWgp2Uwei_iZ",
        "outputId": "d90e05a1-1476-4694-92df-759327be06d6"
      },
      "execution_count": null,
      "outputs": [
        {
          "output_type": "execute_result",
          "data": {
            "text/plain": [
              "33879"
            ]
          },
          "metadata": {},
          "execution_count": 87
        }
      ]
    },
    {
      "cell_type": "code",
      "source": [
        "vocab_size = 29000"
      ],
      "metadata": {
        "id": "OBjKt7pxjQVr"
      },
      "execution_count": null,
      "outputs": []
    },
    {
      "cell_type": "code",
      "source": [
        "from tensorflow.keras.preprocessing.text import Tokenizer\n",
        "from tensorflow.keras.preprocessing.sequence import pad_sequences\n",
        "import numpy as np\n",
        "import tensorflow as tf\n",
        "\n",
        "tokenizer = Tokenizer(oov_token=\"<OOV>\", num_words=vocab_size)\n",
        "tokenizer.fit_on_texts(training_sentences)\n",
        "word_index = tokenizer.word_index\n",
        "\n",
        "training_sequences = tokenizer.texts_to_sequences(training_sentences)\n",
        "training_padded = pad_sequences(training_sequences, maxlen=120, padding=\"post\", truncating=\"post\")\n",
        "\n",
        "test_sequences = tokenizer.texts_to_sequences(test_sentences)\n",
        "test_padded = pad_sequences(test_sequences, maxlen=120, padding=\"post\", truncating=\"post\")\n",
        "\n",
        "training_labels = np.array(training_labels)\n",
        "test_labels = np.array(test_labels)\n",
        "\n",
        "model = tf.keras.models.Sequential([\n",
        "    tf.keras.layers.Embedding(vocab_size, 120),\n",
        "    tf.keras.layers.GlobalAveragePooling1D(),\n",
        "    tf.keras.layers.Dense(8, activation=\"relu\"),\n",
        "    tf.keras.layers.Dense(1, activation=\"sigmoid\")\n",
        "])\n",
        "\n",
        "model.compile(loss=\"binary_crossentropy\", optimizer=\"SGD\", metrics=[\"accuracy\"])\n",
        "\n",
        "stop_callback = tf.keras.callbacks.EarlyStopping(monitor='val_accuracy', patience=4)\n",
        "save_best_callback = tf.keras.callbacks.ModelCheckpoint('best_model.keras', save_best_only=True)\n",
        "\n",
        "h = model.fit(training_padded, training_labels, epochs=50, validation_data=(test_padded, test_labels),\n",
        "              callbacks=[stop_callback, save_best_callback])\n"
      ],
      "metadata": {
        "colab": {
          "base_uri": "https://localhost:8080/"
        },
        "id": "r_KeXdRdjWfM",
        "outputId": "948b297a-bcc8-4f9c-a8dc-cd9e9c9335ac"
      },
      "execution_count": null,
      "outputs": [
        {
          "output_type": "stream",
          "name": "stdout",
          "text": [
            "Epoch 1/50\n",
            "\u001b[1m625/625\u001b[0m \u001b[32m━━━━━━━━━━━━━━━━━━━━\u001b[0m\u001b[37m\u001b[0m \u001b[1m8s\u001b[0m 11ms/step - accuracy: 0.5138 - loss: 0.6930 - val_accuracy: 0.5124 - val_loss: 0.6928\n",
            "Epoch 2/50\n",
            "\u001b[1m625/625\u001b[0m \u001b[32m━━━━━━━━━━━━━━━━━━━━\u001b[0m\u001b[37m\u001b[0m \u001b[1m10s\u001b[0m 11ms/step - accuracy: 0.5199 - loss: 0.6926 - val_accuracy: 0.5154 - val_loss: 0.6924\n",
            "Epoch 3/50\n",
            "\u001b[1m625/625\u001b[0m \u001b[32m━━━━━━━━━━━━━━━━━━━━\u001b[0m\u001b[37m\u001b[0m \u001b[1m10s\u001b[0m 10ms/step - accuracy: 0.5319 - loss: 0.6925 - val_accuracy: 0.5124 - val_loss: 0.6923\n",
            "Epoch 4/50\n",
            "\u001b[1m625/625\u001b[0m \u001b[32m━━━━━━━━━━━━━━━━━━━━\u001b[0m\u001b[37m\u001b[0m \u001b[1m9s\u001b[0m 14ms/step - accuracy: 0.5259 - loss: 0.6924 - val_accuracy: 0.5114 - val_loss: 0.6922\n",
            "Epoch 5/50\n",
            "\u001b[1m625/625\u001b[0m \u001b[32m━━━━━━━━━━━━━━━━━━━━\u001b[0m\u001b[37m\u001b[0m \u001b[1m7s\u001b[0m 10ms/step - accuracy: 0.5169 - loss: 0.6924 - val_accuracy: 0.5860 - val_loss: 0.6919\n",
            "Epoch 6/50\n",
            "\u001b[1m625/625\u001b[0m \u001b[32m━━━━━━━━━━━━━━━━━━━━\u001b[0m\u001b[37m\u001b[0m \u001b[1m10s\u001b[0m 10ms/step - accuracy: 0.5425 - loss: 0.6921 - val_accuracy: 0.5110 - val_loss: 0.6922\n",
            "Epoch 7/50\n",
            "\u001b[1m625/625\u001b[0m \u001b[32m━━━━━━━━━━━━━━━━━━━━\u001b[0m\u001b[37m\u001b[0m \u001b[1m7s\u001b[0m 12ms/step - accuracy: 0.5195 - loss: 0.6919 - val_accuracy: 0.5646 - val_loss: 0.6915\n",
            "Epoch 8/50\n",
            "\u001b[1m625/625\u001b[0m \u001b[32m━━━━━━━━━━━━━━━━━━━━\u001b[0m\u001b[37m\u001b[0m \u001b[1m9s\u001b[0m 10ms/step - accuracy: 0.5512 - loss: 0.6915 - val_accuracy: 0.5118 - val_loss: 0.6915\n",
            "Epoch 9/50\n",
            "\u001b[1m625/625\u001b[0m \u001b[32m━━━━━━━━━━━━━━━━━━━━\u001b[0m\u001b[37m\u001b[0m \u001b[1m10s\u001b[0m 11ms/step - accuracy: 0.5239 - loss: 0.6913 - val_accuracy: 0.5706 - val_loss: 0.6912\n"
          ]
        }
      ]
    },
    {
      "cell_type": "code",
      "source": [
        "import matplotlib.pyplot as plt\n",
        "\n",
        "def plot_graphs(history, string):\n",
        "  plt.plot(history.history[string])\n",
        "  plt.plot(history.history['val_'+string])\n",
        "  plt.xlabel(\"Epochs\")\n",
        "  plt.ylabel(string)\n",
        "\n",
        "plot_graphs(h, \"accuracy\")"
      ],
      "metadata": {
        "colab": {
          "base_uri": "https://localhost:8080/",
          "height": 449
        },
        "id": "MAPHZoVFkdjm",
        "outputId": "e0f7bd09-2289-4fec-90af-6ae8418ae241"
      },
      "execution_count": null,
      "outputs": [
        {
          "output_type": "display_data",
          "data": {
            "text/plain": [
              "<Figure size 640x480 with 1 Axes>"
            ],
            "image/png": "[encoded data removed]"
          },
          "metadata": {}
        }
      ]
    },
    {
      "cell_type": "markdown",
      "source": [
        "# Embedding Dimension"
      ],
      "metadata": {
        "id": "9e2uKp_WkiGm"
      }
    },
    {
      "cell_type": "markdown",
      "source": [
        "Ce qui est recommandé est généralement de mettre une embedding dimension à la racine quatrième de la taille du vocab_size"
      ],
      "metadata": {
        "id": "xXWzyZRsksHq"
      }
    },
    {
      "cell_type": "code",
      "source": [
        "embedding_dimension = np.power(vocab_size, 1/4)"
      ],
      "metadata": {
        "id": "UJPu-lR5k08r"
      },
      "execution_count": null,
      "outputs": []
    },
    {
      "cell_type": "code",
      "source": [
        "from tensorflow.keras.preprocessing.text import Tokenizer\n",
        "from tensorflow.keras.preprocessing.sequence import pad_sequences\n",
        "import numpy as np\n",
        "import tensorflow as tf\n",
        "\n",
        "vocab_size = 29000\n",
        "embedding_dimension = int(np.power(vocab_size, 1/4))\n",
        "\n",
        "tokenizer = Tokenizer(oov_token=\"<OOV>\", num_words=vocab_size)\n",
        "tokenizer.fit_on_texts(training_sentences)\n",
        "word_index = tokenizer.word_index\n",
        "\n",
        "training_sequences = tokenizer.texts_to_sequences(training_sentences)\n",
        "training_padded = pad_sequences(training_sequences, maxlen=120, padding=\"post\", truncating=\"post\")\n",
        "\n",
        "test_sequences = tokenizer.texts_to_sequences(test_sentences)\n",
        "test_padded = pad_sequences(test_sequences, maxlen=120, padding=\"post\", truncating=\"post\")\n",
        "\n",
        "training_labels = np.array(training_labels)\n",
        "test_labels = np.array(test_labels)\n",
        "\n",
        "model = tf.keras.models.Sequential([\n",
        "    tf.keras.layers.Embedding(vocab_size, embedding_dimension),\n",
        "    tf.keras.layers.GlobalAveragePooling1D(),\n",
        "    tf.keras.layers.Dense(8, activation=\"relu\"),\n",
        "    tf.keras.layers.Dense(1, activation=\"sigmoid\")\n",
        "])\n",
        "\n",
        "model.compile(loss=\"binary_crossentropy\", optimizer=\"SGD\", metrics=[\"accuracy\"])\n",
        "\n",
        "stop_callback = tf.keras.callbacks.EarlyStopping(monitor='val_accuracy', patience=4)\n",
        "save_best_callback = tf.keras.callbacks.ModelCheckpoint('best_model.keras', save_best_only=True)\n",
        "\n",
        "h = model.fit(training_padded, training_labels, epochs=50, validation_data=(test_padded, test_labels),\n",
        "              callbacks=[stop_callback, save_best_callback])\n"
      ],
      "metadata": {
        "colab": {
          "base_uri": "https://localhost:8080/"
        },
        "id": "Gz6vJtPnk-I4",
        "outputId": "6148ddfc-6efd-494c-ed53-3f3ffd116408"
      },
      "execution_count": null,
      "outputs": [
        {
          "output_type": "stream",
          "name": "stdout",
          "text": [
            "Epoch 1/50\n",
            "\u001b[1m625/625\u001b[0m \u001b[32m━━━━━━━━━━━━━━━━━━━━\u001b[0m\u001b[37m\u001b[0m \u001b[1m4s\u001b[0m 4ms/step - accuracy: 0.5125 - loss: 0.6930 - val_accuracy: 0.5296 - val_loss: 0.6928\n",
            "Epoch 2/50\n",
            "\u001b[1m625/625\u001b[0m \u001b[32m━━━━━━━━━━━━━━━━━━━━\u001b[0m\u001b[37m\u001b[0m \u001b[1m3s\u001b[0m 5ms/step - accuracy: 0.5157 - loss: 0.6927 - val_accuracy: 0.5228 - val_loss: 0.6925\n",
            "Epoch 3/50\n",
            "\u001b[1m625/625\u001b[0m \u001b[32m━━━━━━━━━━━━━━━━━━━━\u001b[0m\u001b[37m\u001b[0m \u001b[1m5s\u001b[0m 4ms/step - accuracy: 0.5189 - loss: 0.6926 - val_accuracy: 0.5092 - val_loss: 0.6925\n",
            "Epoch 4/50\n",
            "\u001b[1m625/625\u001b[0m \u001b[32m━━━━━━━━━━━━━━━━━━━━\u001b[0m\u001b[37m\u001b[0m \u001b[1m5s\u001b[0m 4ms/step - accuracy: 0.5189 - loss: 0.6925 - val_accuracy: 0.5102 - val_loss: 0.6925\n",
            "Epoch 5/50\n",
            "\u001b[1m625/625\u001b[0m \u001b[32m━━━━━━━━━━━━━━━━━━━━\u001b[0m\u001b[37m\u001b[0m \u001b[1m3s\u001b[0m 5ms/step - accuracy: 0.5133 - loss: 0.6923 - val_accuracy: 0.5124 - val_loss: 0.6921\n"
          ]
        }
      ]
    },
    {
      "cell_type": "code",
      "source": [
        "import matplotlib.pyplot as plt\n",
        "\n",
        "def plot_graphs(history, string):\n",
        "  plt.plot(history.history[string])\n",
        "  plt.plot(history.history['val_'+string])\n",
        "  plt.xlabel(\"Epochs\")\n",
        "  plt.ylabel(string)\n",
        "\n",
        "plot_graphs(h, \"accuracy\")"
      ],
      "metadata": {
        "colab": {
          "base_uri": "https://localhost:8080/",
          "height": 449
        },
        "id": "5-p3EZOklk4F",
        "outputId": "f017e33f-5801-407d-c124-f4b433bda941"
      },
      "execution_count": null,
      "outputs": [
        {
          "output_type": "display_data",
          "data": {
            "text/plain": [
              "<Figure size 640x480 with 1 Axes>"
            ],
            "image/png": "[encoded data removed]"
          },
          "metadata": {}
        }
      ]
    },
    {
      "cell_type": "markdown",
      "source": [
        "# Améliorer l'architecture du modèle"
      ],
      "metadata": {
        "id": "QBRAkUB7lg5y"
      }
    },
    {
      "cell_type": "code",
      "source": [
        "from tensorflow.keras.preprocessing.text import Tokenizer\n",
        "from tensorflow.keras.preprocessing.sequence import pad_sequences\n",
        "import numpy as np\n",
        "import tensorflow as tf\n",
        "\n",
        "vocab_size = 29000\n",
        "embedding_dimension = int(np.power(vocab_size, 1/4))\n",
        "\n",
        "tokenizer = Tokenizer(oov_token=\"<OOV>\", num_words=vocab_size)\n",
        "tokenizer.fit_on_texts(training_sentences)\n",
        "word_index = tokenizer.word_index\n",
        "\n",
        "training_sequences = tokenizer.texts_to_sequences(training_sentences)\n",
        "training_padded = pad_sequences(training_sequences, maxlen=120, padding=\"post\", truncating=\"post\")\n",
        "\n",
        "test_sequences = tokenizer.texts_to_sequences(test_sentences)\n",
        "test_padded = pad_sequences(test_sequences, maxlen=120, padding=\"post\", truncating=\"post\")\n",
        "\n",
        "training_labels = np.array(training_labels)\n",
        "test_labels = np.array(test_labels)\n",
        "\n",
        "model = tf.keras.models.Sequential([\n",
        "    tf.keras.layers.Embedding(vocab_size, embedding_dimension),\n",
        "    tf.keras.layers.GlobalAveragePooling1D(),\n",
        "    tf.keras.layers.Dense(5, activation=\"relu\"),\n",
        "    tf.keras.layers.Dense(3, activation=\"relu\"),\n",
        "    tf.keras.layers.Dense(1, activation=\"sigmoid\")\n",
        "])\n",
        "\n",
        "model.compile(loss=\"binary_crossentropy\", optimizer=\"SGD\", metrics=[\"accuracy\"])\n",
        "\n",
        "stop_callback = tf.keras.callbacks.EarlyStopping(monitor='val_accuracy', patience=4)\n",
        "save_best_callback = tf.keras.callbacks.ModelCheckpoint('best_model.keras', save_best_only=True)\n",
        "\n",
        "h = model.fit(training_padded, training_labels, epochs=50, validation_data=(test_padded, test_labels),\n",
        "              callbacks=[stop_callback, save_best_callback])\n"
      ],
      "metadata": {
        "colab": {
          "base_uri": "https://localhost:8080/"
        },
        "id": "eNcGOrwHlsfY",
        "outputId": "f6d15e38-cf3e-43c6-c35b-663b08b190c8"
      },
      "execution_count": null,
      "outputs": [
        {
          "output_type": "stream",
          "name": "stdout",
          "text": [
            "Epoch 1/50\n",
            "\u001b[1m625/625\u001b[0m \u001b[32m━━━━━━━━━━━━━━━━━━━━\u001b[0m\u001b[37m\u001b[0m \u001b[1m3s\u001b[0m 4ms/step - accuracy: 0.5065 - loss: 0.6932 - val_accuracy: 0.5062 - val_loss: 0.6931\n",
            "Epoch 2/50\n",
            "\u001b[1m625/625\u001b[0m \u001b[32m━━━━━━━━━━━━━━━━━━━━\u001b[0m\u001b[37m\u001b[0m \u001b[1m6s\u001b[0m 6ms/step - accuracy: 0.4985 - loss: 0.6932 - val_accuracy: 0.4938 - val_loss: 0.6932\n",
            "Epoch 3/50\n",
            "\u001b[1m625/625\u001b[0m \u001b[32m━━━━━━━━━━━━━━━━━━━━\u001b[0m\u001b[37m\u001b[0m \u001b[1m4s\u001b[0m 4ms/step - accuracy: 0.5043 - loss: 0.6931 - val_accuracy: 0.5092 - val_loss: 0.6931\n",
            "Epoch 4/50\n",
            "\u001b[1m625/625\u001b[0m \u001b[32m━━━━━━━━━━━━━━━━━━━━\u001b[0m\u001b[37m\u001b[0m \u001b[1m2s\u001b[0m 4ms/step - accuracy: 0.5045 - loss: 0.6931 - val_accuracy: 0.4938 - val_loss: 0.6932\n",
            "Epoch 5/50\n",
            "\u001b[1m625/625\u001b[0m \u001b[32m━━━━━━━━━━━━━━━━━━━━\u001b[0m\u001b[37m\u001b[0m \u001b[1m3s\u001b[0m 4ms/step - accuracy: 0.5038 - loss: 0.6931 - val_accuracy: 0.4978 - val_loss: 0.6931\n",
            "Epoch 6/50\n",
            "\u001b[1m625/625\u001b[0m \u001b[32m━━━━━━━━━━━━━━━━━━━━\u001b[0m\u001b[37m\u001b[0m \u001b[1m4s\u001b[0m 6ms/step - accuracy: 0.5104 - loss: 0.6930 - val_accuracy: 0.5074 - val_loss: 0.6930\n",
            "Epoch 7/50\n",
            "\u001b[1m625/625\u001b[0m \u001b[32m━━━━━━━━━━━━━━━━━━━━\u001b[0m\u001b[37m\u001b[0m \u001b[1m4s\u001b[0m 4ms/step - accuracy: 0.5063 - loss: 0.6931 - val_accuracy: 0.5094 - val_loss: 0.6931\n",
            "Epoch 8/50\n",
            "\u001b[1m625/625\u001b[0m \u001b[32m━━━━━━━━━━━━━━━━━━━━\u001b[0m\u001b[37m\u001b[0m \u001b[1m3s\u001b[0m 4ms/step - accuracy: 0.5091 - loss: 0.6931 - val_accuracy: 0.5020 - val_loss: 0.6931\n",
            "Epoch 9/50\n",
            "\u001b[1m625/625\u001b[0m \u001b[32m━━━━━━━━━━━━━━━━━━━━\u001b[0m\u001b[37m\u001b[0m \u001b[1m6s\u001b[0m 7ms/step - accuracy: 0.5118 - loss: 0.6930 - val_accuracy: 0.5098 - val_loss: 0.6931\n",
            "Epoch 10/50\n",
            "\u001b[1m625/625\u001b[0m \u001b[32m━━━━━━━━━━━━━━━━━━━━\u001b[0m\u001b[37m\u001b[0m \u001b[1m4s\u001b[0m 4ms/step - accuracy: 0.5074 - loss: 0.6931 - val_accuracy: 0.5106 - val_loss: 0.6930\n",
            "Epoch 11/50\n",
            "\u001b[1m625/625\u001b[0m \u001b[32m━━━━━━━━━━━━━━━━━━━━\u001b[0m\u001b[37m\u001b[0m \u001b[1m3s\u001b[0m 4ms/step - accuracy: 0.5153 - loss: 0.6930 - val_accuracy: 0.5100 - val_loss: 0.6930\n",
            "Epoch 12/50\n",
            "\u001b[1m625/625\u001b[0m \u001b[32m━━━━━━━━━━━━━━━━━━━━\u001b[0m\u001b[37m\u001b[0m \u001b[1m3s\u001b[0m 5ms/step - accuracy: 0.5099 - loss: 0.6930 - val_accuracy: 0.5106 - val_loss: 0.6930\n",
            "Epoch 13/50\n",
            "\u001b[1m625/625\u001b[0m \u001b[32m━━━━━━━━━━━━━━━━━━━━\u001b[0m\u001b[37m\u001b[0m \u001b[1m4s\u001b[0m 6ms/step - accuracy: 0.5126 - loss: 0.6930 - val_accuracy: 0.5428 - val_loss: 0.6929\n",
            "Epoch 14/50\n",
            "\u001b[1m625/625\u001b[0m \u001b[32m━━━━━━━━━━━━━━━━━━━━\u001b[0m\u001b[37m\u001b[0m \u001b[1m4s\u001b[0m 4ms/step - accuracy: 0.5167 - loss: 0.6930 - val_accuracy: 0.5100 - val_loss: 0.6930\n",
            "Epoch 15/50\n",
            "\u001b[1m625/625\u001b[0m \u001b[32m━━━━━━━━━━━━━━━━━━━━\u001b[0m\u001b[37m\u001b[0m \u001b[1m3s\u001b[0m 5ms/step - accuracy: 0.5157 - loss: 0.6930 - val_accuracy: 0.5008 - val_loss: 0.6931\n",
            "Epoch 16/50\n",
            "\u001b[1m625/625\u001b[0m \u001b[32m━━━━━━━━━━━━━━━━━━━━\u001b[0m\u001b[37m\u001b[0m \u001b[1m6s\u001b[0m 6ms/step - accuracy: 0.5103 - loss: 0.6930 - val_accuracy: 0.5092 - val_loss: 0.6929\n",
            "Epoch 17/50\n",
            "\u001b[1m625/625\u001b[0m \u001b[32m━━━━━━━━━━━━━━━━━━━━\u001b[0m\u001b[37m\u001b[0m \u001b[1m3s\u001b[0m 4ms/step - accuracy: 0.5164 - loss: 0.6929 - val_accuracy: 0.5094 - val_loss: 0.6929\n"
          ]
        }
      ]
    },
    {
      "cell_type": "code",
      "source": [
        "import matplotlib.pyplot as plt\n",
        "\n",
        "def plot_graphs(history, string):\n",
        "  plt.plot(history.history[string], label=string)\n",
        "  plt.plot(history.history['val_'+string], label='val_'+string)\n",
        "  plt.xlabel(\"Epochs\")\n",
        "  plt.ylabel(string)\n",
        "  plt.legend(loc=\"upper right\")\n",
        "  plt.ylim(0, 1)\n",
        "\n",
        "\n",
        "plot_graphs(h, \"accuracy\")"
      ],
      "metadata": {
        "colab": {
          "base_uri": "https://localhost:8080/",
          "height": 455
        },
        "id": "64Q7ZKe0mJSI",
        "outputId": "bdbc4efd-60c1-47cd-8c43-d68735c51413"
      },
      "execution_count": null,
      "outputs": [
        {
          "output_type": "display_data",
          "data": {
            "text/plain": [
              "<Figure size 640x480 with 1 Axes>"
            ],
            "image/png": "[encoded data removed]"
          },
          "metadata": {}
        }
      ]
    },
    {
      "cell_type": "markdown",
      "source": [
        "# MaxLen"
      ],
      "metadata": {
        "id": "V3P1SN5kpilb"
      }
    },
    {
      "cell_type": "code",
      "source": [
        "sentences_len = []\n",
        "\n",
        "for sent in training_sentences:\n",
        "  sentences_len.append(len(sent.split(\" \")))"
      ],
      "metadata": {
        "id": "cOZqphfkplK1"
      },
      "execution_count": null,
      "outputs": []
    },
    {
      "cell_type": "code",
      "source": [
        "np.array(sentences_len).min(), np.array(sentences_len).max(), np.array(sentences_len).mean(), np.median(sentences_len)"
      ],
      "metadata": {
        "colab": {
          "base_uri": "https://localhost:8080/"
        },
        "id": "FsVTNPzIpwmV",
        "outputId": "819412ad-becd-46ea-be84-7f1297416b27"
      },
      "execution_count": null,
      "outputs": [
        {
          "output_type": "execute_result",
          "data": {
            "text/plain": [
              "(10, 2470, 233.90165, 174.0)"
            ]
          },
          "metadata": {},
          "execution_count": 107
        }
      ]
    },
    {
      "cell_type": "markdown",
      "source": [
        "# Dropout"
      ],
      "metadata": {
        "id": "lbR3BQDSqVk6"
      }
    },
    {
      "cell_type": "code",
      "source": [
        "from tensorflow.keras.preprocessing.text import Tokenizer\n",
        "from tensorflow.keras.preprocessing.sequence import pad_sequences\n",
        "import numpy as np\n",
        "import tensorflow as tf\n",
        "\n",
        "vocab_size = 29000\n",
        "embedding_dimension = int(np.power(vocab_size, 1/4))\n",
        "max_len = 100\n",
        "\n",
        "tokenizer = Tokenizer(oov_token=\"\", num_words=vocab_size)\n",
        "tokenizer.fit_on_texts(training_sentences)\n",
        "word_index = tokenizer.word_index\n",
        "\n",
        "training_sequences = tokenizer.texts_to_sequences(training_sentences)\n",
        "training_padded = pad_sequences(training_sequences, maxlen=max_len, padding=\"post\", truncating=\"post\")\n",
        "\n",
        "test_sequences = tokenizer.texts_to_sequences(test_sentences)\n",
        "test_padded = pad_sequences(test_sequences, maxlen=max_len, padding=\"post\", truncating=\"post\")\n",
        "\n",
        "training_labels = np.array(training_labels)\n",
        "test_labels = np.array(test_labels)\n",
        "\n",
        "model = tf.keras.models.Sequential([\n",
        "    tf.keras.layers.Embedding(vocab_size, embedding_dimension),\n",
        "    tf.keras.layers.GlobalAveragePooling1D(),\n",
        "    tf.keras.layers.Dense(5, activation=\"relu\"),\n",
        "    # Ajout d'un dropout pour répartir la \"charge de connaissance\"\n",
        "    tf.keras.layers.Dropout(0.25),\n",
        "    tf.keras.layers.Dense(3, activation=\"relu\"),\n",
        "    tf.keras.layers.Dense(1, activation=\"sigmoid\")\n",
        "])\n",
        "\n",
        "# Chgt optimizer\n",
        "model.compile(loss=\"binary_crossentropy\", optimizer=\"adam\", metrics=[\"accuracy\"])\n",
        "\n",
        "# Ajout du restore_best_weights sur la callback de stop\n",
        "stop_callback = tf.keras.callbacks.EarlyStopping(monitor='val_accuracy', patience=4, restore_best_weights=True)\n",
        "save_best_callback = tf.keras.callbacks.ModelCheckpoint('best_model.keras', save_best_only=True)\n",
        "\n",
        "h = model.fit(training_padded, training_labels, epochs=50, validation_data=(test_padded, test_labels),\n",
        "              callbacks=[stop_callback, save_best_callback])\n"
      ],
      "metadata": {
        "colab": {
          "base_uri": "https://localhost:8080/"
        },
        "id": "pTjpidLDqOgp",
        "outputId": "f09b2903-48d5-4b0e-93d1-4e7a0f84d72b"
      },
      "execution_count": null,
      "outputs": [
        {
          "output_type": "stream",
          "name": "stdout",
          "text": [
            "Epoch 1/50\n",
            "\u001b[1m625/625\u001b[0m \u001b[32m━━━━━━━━━━━━━━━━━━━━\u001b[0m\u001b[37m\u001b[0m \u001b[1m8s\u001b[0m 8ms/step - accuracy: 0.6231 - loss: 0.6572 - val_accuracy: 0.8098 - val_loss: 0.4494\n",
            "Epoch 2/50\n",
            "\u001b[1m625/625\u001b[0m \u001b[32m━━━━━━━━━━━━━━━━━━━━\u001b[0m\u001b[37m\u001b[0m \u001b[1m10s\u001b[0m 8ms/step - accuracy: 0.8408 - loss: 0.3950 - val_accuracy: 0.8392 - val_loss: 0.3746\n",
            "Epoch 3/50\n",
            "\u001b[1m625/625\u001b[0m \u001b[32m━━━━━━━━━━━━━━━━━━━━\u001b[0m\u001b[37m\u001b[0m \u001b[1m11s\u001b[0m 9ms/step - accuracy: 0.8937 - loss: 0.2818 - val_accuracy: 0.8296 - val_loss: 0.3962\n",
            "Epoch 4/50\n",
            "\u001b[1m625/625\u001b[0m \u001b[32m━━━━━━━━━━━━━━━━━━━━\u001b[0m\u001b[37m\u001b[0m \u001b[1m4s\u001b[0m 6ms/step - accuracy: 0.9273 - loss: 0.2100 - val_accuracy: 0.8414 - val_loss: 0.4034\n",
            "Epoch 5/50\n",
            "\u001b[1m625/625\u001b[0m \u001b[32m━━━━━━━━━━━━━━━━━━━━\u001b[0m\u001b[37m\u001b[0m \u001b[1m6s\u001b[0m 7ms/step - accuracy: 0.9460 - loss: 0.1743 - val_accuracy: 0.8298 - val_loss: 0.4623\n",
            "Epoch 6/50\n",
            "\u001b[1m625/625\u001b[0m \u001b[32m━━━━━━━━━━━━━━━━━━━━\u001b[0m\u001b[37m\u001b[0m \u001b[1m6s\u001b[0m 9ms/step - accuracy: 0.9606 - loss: 0.1300 - val_accuracy: 0.8298 - val_loss: 0.4983\n",
            "Epoch 7/50\n",
            "\u001b[1m625/625\u001b[0m \u001b[32m━━━━━━━━━━━━━━━━━━━━\u001b[0m\u001b[37m\u001b[0m \u001b[1m10s\u001b[0m 8ms/step - accuracy: 0.9729 - loss: 0.1002 - val_accuracy: 0.8274 - val_loss: 0.5550\n",
            "Epoch 8/50\n",
            "\u001b[1m625/625\u001b[0m \u001b[32m━━━━━━━━━━━━━━━━━━━━\u001b[0m\u001b[37m\u001b[0m \u001b[1m10s\u001b[0m 7ms/step - accuracy: 0.9755 - loss: 0.0860 - val_accuracy: 0.8238 - val_loss: 0.6501\n"
          ]
        }
      ]
    },
    {
      "cell_type": "code",
      "source": [
        "import matplotlib.pyplot as plt\n",
        "\n",
        "def plot_graphs(history, string):\n",
        "  plt.plot(history.history[string], label=string)\n",
        "  plt.plot(history.history['val_'+string], label='val_'+string)\n",
        "  plt.xlabel(\"Epochs\")\n",
        "  plt.ylabel(string)\n",
        "  plt.legend(loc=\"upper right\")\n",
        "\n",
        "\n",
        "plot_graphs(h, \"accuracy\")\n",
        "plot_graphs(h, \"loss\")"
      ],
      "metadata": {
        "colab": {
          "base_uri": "https://localhost:8080/",
          "height": 449
        },
        "id": "TX1AQdaGqsaC",
        "outputId": "9765ba86-3686-451b-c683-417745a88762"
      },
      "execution_count": null,
      "outputs": [
        {
          "output_type": "display_data",
          "data": {
            "text/plain": [
              "<Figure size 640x480 with 1 Axes>"
            ],
            "image/png": "[encoded data removed]"
          },
          "metadata": {}
        }
      ]
    },
    {
      "cell_type": "markdown",
      "source": [
        "# Le transfert learning"
      ],
      "metadata": {
        "id": "JGPBsT0LtQyj"
      }
    },
    {
      "cell_type": "markdown",
      "source": [
        "TensorFlow Hub: repository of trained machine learning models: https://www.tensorflow.org/hub?hl=fr"
      ],
      "metadata": {
        "id": "igiG47IRtaar"
      }
    },
    {
      "cell_type": "code",
      "source": [
        "pip install tensorflow==2.15.0 tensorflow-hub keras==2.15.0"
      ],
      "metadata": {
        "colab": {
          "base_uri": "https://localhost:8080/",
          "height": 1000
        },
        "id": "hR4CLlJ4tWYV",
        "outputId": "825b732b-2c80-4cd2-d8b0-2ead11561668"
      },
      "execution_count": null,
      "outputs": [
        {
          "output_type": "stream",
          "name": "stdout",
          "text": [
            "Collecting tensorflow==2.15.0\n",
            "  Downloading tensorflow-2.15.0-cp311-cp311-manylinux_2_17_x86_64.manylinux2014_x86_64.whl.metadata (4.4 kB)\n",
            "Requirement already satisfied: tensorflow-hub in /usr/local/lib/python3.11/dist-packages (0.16.1)\n",
            "Collecting keras==2.15.0\n",
            "  Downloading keras-2.15.0-py3-none-any.whl.metadata (2.4 kB)\n",
            "Requirement already satisfied: absl-py>=1.0.0 in /usr/local/lib/python3.11/dist-packages (from tensorflow==2.15.0) (1.4.0)\n",
            "Requirement already satisfied: astunparse>=1.6.0 in /usr/local/lib/python3.11/dist-packages (from tensorflow==2.15.0) (1.6.3)\n",
            "Requirement already satisfied: flatbuffers>=23.5.26 in /usr/local/lib/python3.11/dist-packages (from tensorflow==2.15.0) (25.1.24)\n",
            "Requirement already satisfied: gast!=0.5.0,!=0.5.1,!=0.5.2,>=0.2.1 in /usr/local/lib/python3.11/dist-packages (from tensorflow==2.15.0) (0.6.0)\n",
            "Requirement already satisfied: google-pasta>=0.1.1 in /usr/local/lib/python3.11/dist-packages (from tensorflow==2.15.0) (0.2.0)\n",
            "Requirement already satisfied: h5py>=2.9.0 in /usr/local/lib/python3.11/dist-packages (from tensorflow==2.15.0) (3.12.1)\n",
            "Requirement already satisfied: libclang>=13.0.0 in /usr/local/lib/python3.11/dist-packages (from tensorflow==2.15.0) (18.1.1)\n",
            "Collecting ml-dtypes~=0.2.0 (from tensorflow==2.15.0)\n",
            "  Downloading ml_dtypes-0.2.0-cp311-cp311-manylinux_2_17_x86_64.manylinux2014_x86_64.whl.metadata (20 kB)\n",
            "Requirement already satisfied: numpy<2.0.0,>=1.23.5 in /usr/local/lib/python3.11/dist-packages (from tensorflow==2.15.0) (1.26.4)\n",
            "Requirement already satisfied: opt-einsum>=2.3.2 in /usr/local/lib/python3.11/dist-packages (from tensorflow==2.15.0) (3.4.0)\n",
            "Requirement already satisfied: packaging in /usr/local/lib/python3.11/dist-packages (from tensorflow==2.15.0) (24.2)\n",
            "Requirement already satisfied: protobuf!=4.21.0,!=4.21.1,!=4.21.2,!=4.21.3,!=4.21.4,!=4.21.5,<5.0.0dev,>=3.20.3 in /usr/local/lib/python3.11/dist-packages (from tensorflow==2.15.0) (4.25.6)\n",
            "Requirement already satisfied: setuptools in /usr/local/lib/python3.11/dist-packages (from tensorflow==2.15.0) (75.1.0)\n",
            "Requirement already satisfied: six>=1.12.0 in /usr/local/lib/python3.11/dist-packages (from tensorflow==2.15.0) (1.17.0)\n",
            "Requirement already satisfied: termcolor>=1.1.0 in /usr/local/lib/python3.11/dist-packages (from tensorflow==2.15.0) (2.5.0)\n",
            "Requirement already satisfied: typing-extensions>=3.6.6 in /usr/local/lib/python3.11/dist-packages (from tensorflow==2.15.0) (4.12.2)\n",
            "Collecting wrapt<1.15,>=1.11.0 (from tensorflow==2.15.0)\n",
            "  Downloading wrapt-1.14.1-cp311-cp311-manylinux_2_5_x86_64.manylinux1_x86_64.manylinux_2_17_x86_64.manylinux2014_x86_64.whl.metadata (6.7 kB)\n",
            "Requirement already satisfied: tensorflow-io-gcs-filesystem>=0.23.1 in /usr/local/lib/python3.11/dist-packages (from tensorflow==2.15.0) (0.37.1)\n",
            "Requirement already satisfied: grpcio<2.0,>=1.24.3 in /usr/local/lib/python3.11/dist-packages (from tensorflow==2.15.0) (1.70.0)\n",
            "Collecting tensorboard<2.16,>=2.15 (from tensorflow==2.15.0)\n",
            "  Downloading tensorboard-2.15.2-py3-none-any.whl.metadata (1.7 kB)\n",
            "Collecting tensorflow-estimator<2.16,>=2.15.0 (from tensorflow==2.15.0)\n",
            "  Downloading tensorflow_estimator-2.15.0-py2.py3-none-any.whl.metadata (1.3 kB)\n",
            "Requirement already satisfied: tf-keras>=2.14.1 in /usr/local/lib/python3.11/dist-packages (from tensorflow-hub) (2.18.0)\n",
            "Requirement already satisfied: wheel<1.0,>=0.23.0 in /usr/local/lib/python3.11/dist-packages (from astunparse>=1.6.0->tensorflow==2.15.0) (0.45.1)\n",
            "Requirement already satisfied: google-auth<3,>=1.6.3 in /usr/local/lib/python3.11/dist-packages (from tensorboard<2.16,>=2.15->tensorflow==2.15.0) (2.27.0)\n",
            "Requirement already satisfied: google-auth-oauthlib<2,>=0.5 in /usr/local/lib/python3.11/dist-packages (from tensorboard<2.16,>=2.15->tensorflow==2.15.0) (1.2.1)\n",
            "Requirement already satisfied: markdown>=2.6.8 in /usr/local/lib/python3.11/dist-packages (from tensorboard<2.16,>=2.15->tensorflow==2.15.0) (3.7)\n",
            "Requirement already satisfied: requests<3,>=2.21.0 in /usr/local/lib/python3.11/dist-packages (from tensorboard<2.16,>=2.15->tensorflow==2.15.0) (2.32.3)\n",
            "Requirement already satisfied: tensorboard-data-server<0.8.0,>=0.7.0 in /usr/local/lib/python3.11/dist-packages (from tensorboard<2.16,>=2.15->tensorflow==2.15.0) (0.7.2)\n",
            "Requirement already satisfied: werkzeug>=1.0.1 in /usr/local/lib/python3.11/dist-packages (from tensorboard<2.16,>=2.15->tensorflow==2.15.0) (3.1.3)\n",
            "INFO: pip is looking at multiple versions of tf-keras to determine which version is compatible with other requirements. This could take a while.\n",
            "Collecting tf-keras>=2.14.1 (from tensorflow-hub)\n",
            "  Downloading tf_keras-2.17.0-py3-none-any.whl.metadata (1.6 kB)\n",
            "  Downloading tf_keras-2.16.0-py3-none-any.whl.metadata (1.6 kB)\n",
            "  Downloading tf_keras-2.15.1-py3-none-any.whl.metadata (1.7 kB)\n",
            "Requirement already satisfied: cachetools<6.0,>=2.0.0 in /usr/local/lib/python3.11/dist-packages (from google-auth<3,>=1.6.3->tensorboard<2.16,>=2.15->tensorflow==2.15.0) (5.5.1)\n",
            "Requirement already satisfied: pyasn1-modules>=0.2.1 in /usr/local/lib/python3.11/dist-packages (from google-auth<3,>=1.6.3->tensorboard<2.16,>=2.15->tensorflow==2.15.0) (0.4.1)\n",
            "Requirement already satisfied: rsa<5,>=3.1.4 in /usr/local/lib/python3.11/dist-packages (from google-auth<3,>=1.6.3->tensorboard<2.16,>=2.15->tensorflow==2.15.0) (4.9)\n",
            "Requirement already satisfied: requests-oauthlib>=0.7.0 in /usr/local/lib/python3.11/dist-packages (from google-auth-oauthlib<2,>=0.5->tensorboard<2.16,>=2.15->tensorflow==2.15.0) (1.3.1)\n",
            "Requirement already satisfied: charset-normalizer<4,>=2 in /usr/local/lib/python3.11/dist-packages (from requests<3,>=2.21.0->tensorboard<2.16,>=2.15->tensorflow==2.15.0) (3.4.1)\n",
            "Requirement already satisfied: idna<4,>=2.5 in /usr/local/lib/python3.11/dist-packages (from requests<3,>=2.21.0->tensorboard<2.16,>=2.15->tensorflow==2.15.0) (3.10)\n",
            "Requirement already satisfied: urllib3<3,>=1.21.1 in /usr/local/lib/python3.11/dist-packages (from requests<3,>=2.21.0->tensorboard<2.16,>=2.15->tensorflow==2.15.0) (2.3.0)\n",
            "Requirement already satisfied: certifi>=2017.4.17 in /usr/local/lib/python3.11/dist-packages (from requests<3,>=2.21.0->tensorboard<2.16,>=2.15->tensorflow==2.15.0) (2024.12.14)\n",
            "Requirement already satisfied: MarkupSafe>=2.1.1 in /usr/local/lib/python3.11/dist-packages (from werkzeug>=1.0.1->tensorboard<2.16,>=2.15->tensorflow==2.15.0) (3.0.2)\n",
            "Requirement already satisfied: pyasn1<0.7.0,>=0.4.6 in /usr/local/lib/python3.11/dist-packages (from pyasn1-modules>=0.2.1->google-auth<3,>=1.6.3->tensorboard<2.16,>=2.15->tensorflow==2.15.0) (0.6.1)\n",
            "Requirement already satisfied: oauthlib>=3.0.0 in /usr/local/lib/python3.11/dist-packages (from requests-oauthlib>=0.7.0->google-auth-oauthlib<2,>=0.5->tensorboard<2.16,>=2.15->tensorflow==2.15.0) (3.2.2)\n",
            "Downloading tensorflow-2.15.0-cp311-cp311-manylinux_2_17_x86_64.manylinux2014_x86_64.whl (475.3 MB)\n",
            "\u001b[2K   \u001b[90m━━━━━━━━━━━━━━━━━━━━━━━━━━━━━━━━━━━━━━━━\u001b[0m \u001b[32m475.3/475.3 MB\u001b[0m \u001b[31m1.4 MB/s\u001b[0m eta \u001b[36m0:00:00\u001b[0m\n",
            "\u001b[?25hDownloading keras-2.15.0-py3-none-any.whl (1.7 MB)\n",
            "\u001b[2K   \u001b[90m━━━━━━━━━━━━━━━━━━━━━━━━━━━━━━━━━━━━━━━━\u001b[0m \u001b[32m1.7/1.7 MB\u001b[0m \u001b[31m60.2 MB/s\u001b[0m eta \u001b[36m0:00:00\u001b[0m\n",
            "\u001b[?25hDownloading ml_dtypes-0.2.0-cp311-cp311-manylinux_2_17_x86_64.manylinux2014_x86_64.whl (1.0 MB)\n",
            "\u001b[2K   \u001b[90m━━━━━━━━━━━━━━━━━━━━━━━━━━━━━━━━━━━━━━━━\u001b[0m \u001b[32m1.0/1.0 MB\u001b[0m \u001b[31m44.9 MB/s\u001b[0m eta \u001b[36m0:00:00\u001b[0m\n",
            "\u001b[?25hDownloading tensorboard-2.15.2-py3-none-any.whl (5.5 MB)\n",
            "\u001b[2K   \u001b[90m━━━━━━━━━━━━━━━━━━━━━━━━━━━━━━━━━━━━━━━━\u001b[0m \u001b[32m5.5/5.5 MB\u001b[0m \u001b[31m89.5 MB/s\u001b[0m eta \u001b[36m0:00:00\u001b[0m\n",
            "\u001b[?25hDownloading tensorflow_estimator-2.15.0-py2.py3-none-any.whl (441 kB)\n",
            "\u001b[2K   \u001b[90m━━━━━━━━━━━━━━━━━━━━━━━━━━━━━━━━━━━━━━━━\u001b[0m \u001b[32m442.0/442.0 kB\u001b[0m \u001b[31m27.3 MB/s\u001b[0m eta \u001b[36m0:00:00\u001b[0m\n",
            "\u001b[?25hDownloading tf_keras-2.15.1-py3-none-any.whl (1.7 MB)\n",
            "\u001b[2K   \u001b[90m━━━━━━━━━━━━━━━━━━━━━━━━━━━━━━━━━━━━━━━━\u001b[0m \u001b[32m1.7/1.7 MB\u001b[0m \u001b[31m58.4 MB/s\u001b[0m eta \u001b[36m0:00:00\u001b[0m\n",
            "\u001b[?25hDownloading wrapt-1.14.1-cp311-cp311-manylinux_2_5_x86_64.manylinux1_x86_64.manylinux_2_17_x86_64.manylinux2014_x86_64.whl (78 kB)\n",
            "\u001b[2K   \u001b[90m━━━━━━━━━━━━━━━━━━━━━━━━━━━━━━━━━━━━━━━━\u001b[0m \u001b[32m78.4/78.4 kB\u001b[0m \u001b[31m5.6 MB/s\u001b[0m eta \u001b[36m0:00:00\u001b[0m\n",
            "\u001b[?25hInstalling collected packages: wrapt, tensorflow-estimator, ml-dtypes, keras, tensorboard, tensorflow, tf-keras\n",
            "  Attempting uninstall: wrapt\n",
            "    Found existing installation: wrapt 1.17.2\n",
            "    Uninstalling wrapt-1.17.2:\n",
            "      Successfully uninstalled wrapt-1.17.2\n",
            "  Attempting uninstall: ml-dtypes\n",
            "    Found existing installation: ml-dtypes 0.4.1\n",
            "    Uninstalling ml-dtypes-0.4.1:\n",
            "      Successfully uninstalled ml-dtypes-0.4.1\n",
            "  Attempting uninstall: keras\n",
            "    Found existing installation: keras 3.8.0\n",
            "    Uninstalling keras-3.8.0:\n",
            "      Successfully uninstalled keras-3.8.0\n",
            "  Attempting uninstall: tensorboard\n",
            "    Found existing installation: tensorboard 2.18.0\n",
            "    Uninstalling tensorboard-2.18.0:\n",
            "      Successfully uninstalled tensorboard-2.18.0\n",
            "  Attempting uninstall: tensorflow\n",
            "    Found existing installation: tensorflow 2.18.0\n",
            "    Uninstalling tensorflow-2.18.0:\n",
            "      Successfully uninstalled tensorflow-2.18.0\n",
            "  Attempting uninstall: tf-keras\n",
            "    Found existing installation: tf_keras 2.18.0\n",
            "    Uninstalling tf_keras-2.18.0:\n",
            "      Successfully uninstalled tf_keras-2.18.0\n",
            "\u001b[31mERROR: pip's dependency resolver does not currently take into account all the packages that are installed. This behaviour is the source of the following dependency conflicts.\n",
            "tensorflow-text 2.18.1 requires tensorflow<2.19,>=2.18.0, but you have tensorflow 2.15.0 which is incompatible.\n",
            "tensorstore 0.1.71 requires ml_dtypes>=0.3.1, but you have ml-dtypes 0.2.0 which is incompatible.\n",
            "dopamine-rl 4.1.2 requires tf-keras>=2.18.0, but you have tf-keras 2.15.1 which is incompatible.\u001b[0m\u001b[31m\n",
            "\u001b[0mSuccessfully installed keras-2.15.0 ml-dtypes-0.2.0 tensorboard-2.15.2 tensorflow-2.15.0 tensorflow-estimator-2.15.0 tf-keras-2.15.1 wrapt-1.14.1\n"
          ]
        },
        {
          "output_type": "display_data",
          "data": {
            "application/vnd.colab-display-data+json": {
              "pip_warning": {
                "packages": [
                  "keras",
                  "ml_dtypes",
                  "tensorflow",
                  "tf_keras",
                  "wrapt"
                ]
              },
              "id": "7fac547b131540d0a82fc25db2afca15"
            }
          },
          "metadata": {}
        }
      ]
    },
    {
      "cell_type": "code",
      "source": [
        "import tensorflow_hub as hub\n",
        "import tensorflow as tf\n",
        "\n",
        "embed = hub.load(\"https://tfhub.dev/google/tf2-preview/gnews-swivel-20dim/1\")\n",
        "embeddings = embed([\"cat is on the mat\", \"dog is in the fog\"])"
      ],
      "metadata": {
        "id": "ekIqq94bttRc"
      },
      "execution_count": 1,
      "outputs": []
    },
    {
      "cell_type": "code",
      "source": [
        "embeddings"
      ],
      "metadata": {
        "colab": {
          "base_uri": "https://localhost:8080/"
        },
        "id": "UaN3O7IYw-Zn",
        "outputId": "e6a442e7-7bd6-47b1-af6c-106d366ba054"
      },
      "execution_count": 2,
      "outputs": [
        {
          "output_type": "execute_result",
          "data": {
            "text/plain": [
              "<tf.Tensor: shape=(2, 20), dtype=float32, numpy=\n",
              "array([[ 0.8666395 ,  0.35917717,  0.00579667,  0.681002  , -0.54226625,\n",
              "         0.22343189, -0.38796625,  0.62195706,  0.22117122, -0.48538068,\n",
              "        -1.2674141 ,  0.886369  , -0.32849073, -0.13924702, -0.53327686,\n",
              "         0.5739708 , -0.05905761,  0.13629246, -1.1718255 , -0.31494334],\n",
              "       [ 0.9602181 ,  0.62520486,  0.06261905,  0.37425604,  0.24782333,\n",
              "        -0.39351934, -0.7418429 ,  0.56599647, -0.26197797, -0.69016844,\n",
              "        -0.76565284,  0.71412426, -0.4537978 , -0.50701594, -0.8499377 ,\n",
              "         0.8917156 , -0.30278975,  0.2149126 , -1.1098894 , -0.46719775]],\n",
              "      dtype=float32)>"
            ]
          },
          "metadata": {},
          "execution_count": 2
        }
      ]
    },
    {
      "cell_type": "code",
      "source": [
        "import tensorflow_datasets as tfds\n",
        "\n",
        "train_data, test_data = tfds.load(name=\"imdb_reviews\", split=[\"train\", \"test\"],\n",
        "                                  batch_size=-1, as_supervised=True)\n",
        "\n",
        "train_examples, train_labels = tfds.as_numpy(train_data)\n",
        "test_examples, test_labels = tfds.as_numpy(test_data)"
      ],
      "metadata": {
        "id": "9IEZwdyCzmf2"
      },
      "execution_count": 3,
      "outputs": []
    },
    {
      "cell_type": "code",
      "source": [
        "training_sentences = train_examples[:20000]\n",
        "training_labels = train_labels[:20000]\n",
        "\n",
        "test_sentences = train_examples[20000:]\n",
        "test_labels = train_labels[20000:]"
      ],
      "metadata": {
        "id": "4NeLh0a1z29i"
      },
      "execution_count": 4,
      "outputs": []
    },
    {
      "cell_type": "code",
      "source": [
        "import tensorflow_hub as hub\n",
        "\n",
        "hub_layer = hub.KerasLayer(\"https://tfhub.dev/google/tf2-preview/gnews-swivel-20dim/1\", output_shape=[20],\n",
        "                           input_shape=[], dtype=tf.string)"
      ],
      "metadata": {
        "id": "JV_l5mk_z6Fx"
      },
      "execution_count": 5,
      "outputs": []
    },
    {
      "cell_type": "code",
      "source": [
        "import tensorflow as tf\n",
        "\n",
        "model = tf.keras.models.Sequential(\n",
        "    [\n",
        "        hub_layer,\n",
        "        tf.keras.layers.Dense(5, activation='relu'),\n",
        "        tf.keras.layers.Dropout(0.25),\n",
        "        tf.keras.layers.Dense(3, activation='relu'),\n",
        "        tf.keras.layers.Dense(1, activation='sigmoid')\n",
        "    ]\n",
        ")\n",
        "\n",
        "model.compile(loss='binary_crossentropy', optimizer=\"adam\", metrics=['accuracy'])\n",
        "model_ckp = tf.keras.callbacks.ModelCheckpoint(filepath=\"best_model.h5\",\n",
        "                            monitor=\"val_accuracy\",\n",
        "                            mode=\"max\",\n",
        "                            save_best_only=True)\n",
        "stop = tf.keras.callbacks.EarlyStopping(monitor=\"val_accuracy\", patience=4, restore_best_weights=True)\n",
        "h = model.fit(training_sentences, training_labels, epochs=50,\n",
        "              validation_data=(test_sentences, test_labels),\n",
        "              callbacks=[model_ckp])"
      ],
      "metadata": {
        "colab": {
          "base_uri": "https://localhost:8080/"
        },
        "id": "RxhoTJguxQII",
        "outputId": "5e0735ac-652a-4158-c01d-442266b7a6a2"
      },
      "execution_count": 7,
      "outputs": [
        {
          "output_type": "stream",
          "name": "stdout",
          "text": [
            "Epoch 1/50\n",
            "625/625 [==============================] - 8s 10ms/step - loss: 0.6947 - accuracy: 0.5767 - val_loss: 0.6530 - val_accuracy: 0.6296\n",
            "Epoch 2/50\n",
            " 33/625 [>.............................] - ETA: 2s - loss: 0.6618 - accuracy: 0.6061"
          ]
        },
        {
          "output_type": "stream",
          "name": "stderr",
          "text": [
            "/usr/local/lib/python3.11/dist-packages/keras/src/engine/training.py:3103: UserWarning: You are saving your model as an HDF5 file via `model.save()`. This file format is considered legacy. We recommend using instead the native Keras format, e.g. `model.save('my_model.keras')`.\n",
            "  saving_api.save_model(\n"
          ]
        },
        {
          "output_type": "stream",
          "name": "stdout",
          "text": [
            "625/625 [==============================] - 6s 10ms/step - loss: 0.6496 - accuracy: 0.6258 - val_loss: 0.6242 - val_accuracy: 0.6690\n",
            "Epoch 3/50\n",
            "625/625 [==============================] - 7s 11ms/step - loss: 0.6309 - accuracy: 0.6495 - val_loss: 0.6110 - val_accuracy: 0.6758\n",
            "Epoch 4/50\n",
            "625/625 [==============================] - 6s 10ms/step - loss: 0.6201 - accuracy: 0.6630 - val_loss: 0.5916 - val_accuracy: 0.6980\n",
            "Epoch 5/50\n",
            "625/625 [==============================] - 4s 6ms/step - loss: 0.6117 - accuracy: 0.6717 - val_loss: 0.5815 - val_accuracy: 0.7020\n",
            "Epoch 6/50\n",
            "625/625 [==============================] - 4s 7ms/step - loss: 0.6104 - accuracy: 0.6752 - val_loss: 0.5798 - val_accuracy: 0.7042\n",
            "Epoch 7/50\n",
            "625/625 [==============================] - 5s 8ms/step - loss: 0.6055 - accuracy: 0.6804 - val_loss: 0.5848 - val_accuracy: 0.7028\n",
            "Epoch 8/50\n",
            "625/625 [==============================] - 4s 6ms/step - loss: 0.6024 - accuracy: 0.6837 - val_loss: 0.5734 - val_accuracy: 0.7094\n",
            "Epoch 9/50\n",
            "625/625 [==============================] - 4s 6ms/step - loss: 0.6024 - accuracy: 0.6860 - val_loss: 0.5703 - val_accuracy: 0.7118\n",
            "Epoch 10/50\n",
            "625/625 [==============================] - 5s 7ms/step - loss: 0.5957 - accuracy: 0.6894 - val_loss: 0.5679 - val_accuracy: 0.7118\n",
            "Epoch 11/50\n",
            "625/625 [==============================] - 4s 7ms/step - loss: 0.6008 - accuracy: 0.6849 - val_loss: 0.5674 - val_accuracy: 0.7128\n",
            "Epoch 12/50\n",
            "625/625 [==============================] - 4s 6ms/step - loss: 0.5992 - accuracy: 0.6881 - val_loss: 0.5674 - val_accuracy: 0.7144\n",
            "Epoch 13/50\n",
            "625/625 [==============================] - 4s 6ms/step - loss: 0.5966 - accuracy: 0.6902 - val_loss: 0.5657 - val_accuracy: 0.7138\n",
            "Epoch 14/50\n",
            "625/625 [==============================] - 5s 8ms/step - loss: 0.5948 - accuracy: 0.6906 - val_loss: 0.5704 - val_accuracy: 0.7146\n",
            "Epoch 15/50\n",
            "625/625 [==============================] - 4s 6ms/step - loss: 0.5959 - accuracy: 0.6908 - val_loss: 0.5729 - val_accuracy: 0.7130\n",
            "Epoch 16/50\n",
            "625/625 [==============================] - 4s 6ms/step - loss: 0.5933 - accuracy: 0.6953 - val_loss: 0.5661 - val_accuracy: 0.7150\n",
            "Epoch 17/50\n",
            "625/625 [==============================] - 6s 9ms/step - loss: 0.5910 - accuracy: 0.6964 - val_loss: 0.5646 - val_accuracy: 0.7188\n",
            "Epoch 18/50\n",
            "625/625 [==============================] - 4s 6ms/step - loss: 0.5928 - accuracy: 0.6965 - val_loss: 0.5633 - val_accuracy: 0.7182\n",
            "Epoch 19/50\n",
            "625/625 [==============================] - 4s 6ms/step - loss: 0.5880 - accuracy: 0.6974 - val_loss: 0.5599 - val_accuracy: 0.7204\n",
            "Epoch 20/50\n",
            "625/625 [==============================] - 4s 7ms/step - loss: 0.5876 - accuracy: 0.6978 - val_loss: 0.5595 - val_accuracy: 0.7180\n",
            "Epoch 21/50\n",
            "625/625 [==============================] - 4s 7ms/step - loss: 0.5830 - accuracy: 0.7015 - val_loss: 0.5586 - val_accuracy: 0.7186\n",
            "Epoch 22/50\n",
            "625/625 [==============================] - 4s 6ms/step - loss: 0.5852 - accuracy: 0.6999 - val_loss: 0.5553 - val_accuracy: 0.7232\n",
            "Epoch 23/50\n",
            "625/625 [==============================] - 4s 7ms/step - loss: 0.5825 - accuracy: 0.7016 - val_loss: 0.5524 - val_accuracy: 0.7238\n",
            "Epoch 24/50\n",
            "625/625 [==============================] - 5s 8ms/step - loss: 0.5810 - accuracy: 0.7055 - val_loss: 0.5531 - val_accuracy: 0.7244\n",
            "Epoch 25/50\n",
            "625/625 [==============================] - 4s 6ms/step - loss: 0.5792 - accuracy: 0.7028 - val_loss: 0.5518 - val_accuracy: 0.7238\n",
            "Epoch 26/50\n",
            "625/625 [==============================] - 4s 6ms/step - loss: 0.5810 - accuracy: 0.7005 - val_loss: 0.5549 - val_accuracy: 0.7216\n",
            "Epoch 27/50\n",
            "625/625 [==============================] - 6s 9ms/step - loss: 0.5795 - accuracy: 0.7063 - val_loss: 0.5550 - val_accuracy: 0.7194\n",
            "Epoch 28/50\n",
            "625/625 [==============================] - 5s 8ms/step - loss: 0.5791 - accuracy: 0.7062 - val_loss: 0.5552 - val_accuracy: 0.7210\n",
            "Epoch 29/50\n",
            "625/625 [==============================] - 6s 9ms/step - loss: 0.5783 - accuracy: 0.7039 - val_loss: 0.5543 - val_accuracy: 0.7222\n",
            "Epoch 30/50\n",
            "625/625 [==============================] - 7s 11ms/step - loss: 0.5767 - accuracy: 0.7071 - val_loss: 0.5550 - val_accuracy: 0.7196\n",
            "Epoch 31/50\n",
            "625/625 [==============================] - 4s 6ms/step - loss: 0.5758 - accuracy: 0.7085 - val_loss: 0.5520 - val_accuracy: 0.7238\n",
            "Epoch 32/50\n",
            "625/625 [==============================] - 5s 9ms/step - loss: 0.5761 - accuracy: 0.7095 - val_loss: 0.5542 - val_accuracy: 0.7212\n",
            "Epoch 33/50\n",
            "625/625 [==============================] - 4s 6ms/step - loss: 0.5748 - accuracy: 0.7091 - val_loss: 0.5584 - val_accuracy: 0.7162\n",
            "Epoch 34/50\n",
            "625/625 [==============================] - 4s 6ms/step - loss: 0.5757 - accuracy: 0.7085 - val_loss: 0.5587 - val_accuracy: 0.7178\n",
            "Epoch 35/50\n",
            "625/625 [==============================] - 5s 7ms/step - loss: 0.5757 - accuracy: 0.7052 - val_loss: 0.5548 - val_accuracy: 0.7198\n",
            "Epoch 36/50\n",
            "625/625 [==============================] - 4s 6ms/step - loss: 0.5750 - accuracy: 0.7093 - val_loss: 0.5535 - val_accuracy: 0.7202\n",
            "Epoch 37/50\n",
            "625/625 [==============================] - 4s 7ms/step - loss: 0.5758 - accuracy: 0.7057 - val_loss: 0.5560 - val_accuracy: 0.7196\n",
            "Epoch 38/50\n",
            "625/625 [==============================] - 5s 7ms/step - loss: 0.5747 - accuracy: 0.7058 - val_loss: 0.5509 - val_accuracy: 0.7202\n",
            "Epoch 39/50\n",
            "625/625 [==============================] - 4s 6ms/step - loss: 0.5736 - accuracy: 0.7062 - val_loss: 0.5513 - val_accuracy: 0.7206\n",
            "Epoch 40/50\n",
            "625/625 [==============================] - 4s 6ms/step - loss: 0.5713 - accuracy: 0.7120 - val_loss: 0.5578 - val_accuracy: 0.7198\n",
            "Epoch 41/50\n",
            "625/625 [==============================] - 4s 7ms/step - loss: 0.5724 - accuracy: 0.7098 - val_loss: 0.5502 - val_accuracy: 0.7208\n",
            "Epoch 42/50\n",
            "625/625 [==============================] - 4s 7ms/step - loss: 0.5720 - accuracy: 0.7096 - val_loss: 0.5535 - val_accuracy: 0.7240\n",
            "Epoch 43/50\n",
            "625/625 [==============================] - 4s 6ms/step - loss: 0.5723 - accuracy: 0.7112 - val_loss: 0.5517 - val_accuracy: 0.7212\n",
            "Epoch 44/50\n",
            "625/625 [==============================] - 4s 6ms/step - loss: 0.5712 - accuracy: 0.7143 - val_loss: 0.5511 - val_accuracy: 0.7196\n",
            "Epoch 45/50\n",
            "625/625 [==============================] - 5s 8ms/step - loss: 0.5729 - accuracy: 0.7110 - val_loss: 0.5524 - val_accuracy: 0.7186\n",
            "Epoch 46/50\n",
            "625/625 [==============================] - 4s 6ms/step - loss: 0.5736 - accuracy: 0.7094 - val_loss: 0.5536 - val_accuracy: 0.7196\n",
            "Epoch 47/50\n",
            "625/625 [==============================] - 4s 7ms/step - loss: 0.5701 - accuracy: 0.7099 - val_loss: 0.5564 - val_accuracy: 0.7224\n",
            "Epoch 48/50\n",
            "625/625 [==============================] - 5s 8ms/step - loss: 0.5696 - accuracy: 0.7146 - val_loss: 0.5571 - val_accuracy: 0.7206\n",
            "Epoch 49/50\n",
            "625/625 [==============================] - 4s 6ms/step - loss: 0.5713 - accuracy: 0.7095 - val_loss: 0.5499 - val_accuracy: 0.7232\n",
            "Epoch 50/50\n",
            "625/625 [==============================] - 4s 7ms/step - loss: 0.5711 - accuracy: 0.7125 - val_loss: 0.5522 - val_accuracy: 0.7210\n"
          ]
        }
      ]
    },
    {
      "cell_type": "code",
      "source": [
        "import matplotlib.pyplot as plt\n",
        "\n",
        "def plot_graphs(history, string):\n",
        "  plt.plot(history.history[string], label=string)\n",
        "  plt.plot(history.history['val_'+string], label='val_'+string)\n",
        "  plt.xlabel(\"Epochs\")\n",
        "  plt.ylabel(string)\n",
        "  plt.legend(loc=\"upper right\")\n",
        "\n",
        "\n",
        "plot_graphs(h, \"accuracy\")\n",
        "plot_graphs(h, \"loss\")"
      ],
      "metadata": {
        "colab": {
          "base_uri": "https://localhost:8080/",
          "height": 449
        },
        "id": "XdQzgvHs3bSu",
        "outputId": "0cb0b595-8a1d-49b8-f26d-4cc2923fdb41"
      },
      "execution_count": 8,
      "outputs": [
        {
          "output_type": "display_data",
          "data": {
            "text/plain": [
              "<Figure size 640x480 with 1 Axes>"
            ],
            "image/png": "[encoded data removed]"
          },
          "metadata": {}
        }
      ]
    }
  ],
  "metadata": {
    "colab": {
      "provenance": [],
      "toc_visible": true,
      "authorship_tag": "ABX9TyPEYGnpzlGmfyz41pmk/v8a",
      "include_colab_link": true
    },
    "kernelspec": {
      "display_name": "Python 3",
      "name": "python3"
    },
    "language_info": {
      "name": "python"
    }
  },
  "nbformat": 4,
  "nbformat_minor": 0
}